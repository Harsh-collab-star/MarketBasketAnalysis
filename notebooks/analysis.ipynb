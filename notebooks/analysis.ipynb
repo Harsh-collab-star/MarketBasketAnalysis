{
 "cells": [
  {
   "cell_type": "markdown",
   "id": "b02e1830",
   "metadata": {},
   "source": [
    "# 🛒 Market Basket Analysis – Data Visualization Project\n",
    "\n",
    "### This project performs a comprehensive Market Basket Analysis using transactional data to identify patterns, generate insights, and visualize item associations. It uses the Apriori algorithm to find frequent itemsets and derive association rules, offering insights into customer purchase behavior."
   ]
  },
  {
   "cell_type": "markdown",
   "id": "d6d5c0c8",
   "metadata": {},
   "source": [
    "# Step 1: Data Import and Library Setup\n",
    "\n",
    "To begin the Market Basket Analysis, essential Python libraries were imported for data handling, visualization, and applying the Apriori algorithm. The transactional dataset was then loaded into a DataFrame for processing. This dataset contains records of items purchased together in various transactions.\n",
    "\n",
    "The first few rows of the dataset were displayed to understand its structure and verify successful loading. This step laid the groundwork for cleaning, transforming, and analyzing the data to identify frequent itemsets and generate association rules.\n"
   ]
  },
  {
   "cell_type": "code",
   "execution_count": 2,
   "id": "69f43e5d",
   "metadata": {},
   "outputs": [
    {
     "data": {
      "text/html": [
       "<div>\n",
       "<style scoped>\n",
       "    .dataframe tbody tr th:only-of-type {\n",
       "        vertical-align: middle;\n",
       "    }\n",
       "\n",
       "    .dataframe tbody tr th {\n",
       "        vertical-align: top;\n",
       "    }\n",
       "\n",
       "    .dataframe thead th {\n",
       "        text-align: right;\n",
       "    }\n",
       "</style>\n",
       "<table border=\"1\" class=\"dataframe\">\n",
       "  <thead>\n",
       "    <tr style=\"text-align: right;\">\n",
       "      <th></th>\n",
       "      <th>InvoiceNo</th>\n",
       "      <th>Item</th>\n",
       "    </tr>\n",
       "  </thead>\n",
       "  <tbody>\n",
       "    <tr>\n",
       "      <th>0</th>\n",
       "      <td>1001</td>\n",
       "      <td>cola</td>\n",
       "    </tr>\n",
       "    <tr>\n",
       "      <th>1</th>\n",
       "      <td>1001</td>\n",
       "      <td>cheese</td>\n",
       "    </tr>\n",
       "    <tr>\n",
       "      <th>2</th>\n",
       "      <td>1002</td>\n",
       "      <td>cheese</td>\n",
       "    </tr>\n",
       "    <tr>\n",
       "      <th>3</th>\n",
       "      <td>1002</td>\n",
       "      <td>eggs</td>\n",
       "    </tr>\n",
       "    <tr>\n",
       "      <th>4</th>\n",
       "      <td>1002</td>\n",
       "      <td>butter</td>\n",
       "    </tr>\n",
       "  </tbody>\n",
       "</table>\n",
       "</div>"
      ],
      "text/plain": [
       "   InvoiceNo    Item\n",
       "0       1001    cola\n",
       "1       1001  cheese\n",
       "2       1002  cheese\n",
       "3       1002    eggs\n",
       "4       1002  butter"
      ]
     },
     "execution_count": 2,
     "metadata": {},
     "output_type": "execute_result"
    }
   ],
   "source": [
    "# Required Libraries\n",
    "import pandas as pd\n",
    "import matplotlib.pyplot as plt\n",
    "import seaborn as sns\n",
    "from mlxtend.frequent_patterns import apriori, association_rules\n",
    "from mlxtend.preprocessing import TransactionEncoder\n",
    "\n",
    "# Load dataset\n",
    "df = pd.read_csv(\"C:/Users/harsh/Downloads/transactions_large.csv\") \n",
    "# Display first few rows\n",
    "df.head()\n"
   ]
  },
  {
   "cell_type": "markdown",
   "id": "54f3b9c8",
   "metadata": {},
   "source": [
    "# Step 2: Data Cleaning and Standardization\n",
    "To ensure the accuracy and consistency of the Market Basket Analysis, the dataset underwent a cleaning process:\n",
    "\n",
    "Missing values were removed to avoid errors during processing and analysis.\n",
    "\n",
    "Duplicate entries were dropped to prevent skewed frequency counts and incorrect associations.\n",
    "\n",
    "Text standardization was performed by converting item names to lowercase and removing leading/trailing spaces. This ensured that items like \"Milk\" and \" milk \" were treated as the same product.\n",
    "\n",
    "This step helped create a clean and uniform dataset for further transformation and analysis."
   ]
  },
  {
   "cell_type": "code",
   "execution_count": 3,
   "id": "5de241c6",
   "metadata": {},
   "outputs": [],
   "source": [
    "# Drop missing values\n",
    "df.dropna(inplace=True)\n",
    "\n",
    "# Check for duplicates\n",
    "df.drop_duplicates(inplace=True)\n",
    "\n",
    "# Ensure consistent casing\n",
    "df['Item'] = df['Item'].str.strip().str.lower()\n"
   ]
  },
  {
   "cell_type": "markdown",
   "id": "e0dfee27",
   "metadata": {},
   "source": [
    "# Step 3: Data Transformation – Preparing for Apriori Algorithm\n",
    "To apply the Apriori algorithm, the transactional data needs to be converted into a format suitable for analysis:\n",
    "\n",
    "Transaction Grouping:\n",
    "Transactions were grouped by InvoiceNo, collecting all items bought together into a list. This created a list of transactions where each transaction is a list of items.\n",
    "\n",
    "Transaction Encoding:\n",
    "Using TransactionEncoder from the mlxtend library, the list of transactions was transformed into a one-hot encoded DataFrame. In this binary matrix:\n",
    "\n",
    "Each row represents a transaction.\n",
    "\n",
    "Each column represents an item.\n",
    "\n",
    "A value of True indicates the item is present in the transaction.\n",
    "\n",
    "This transformation was necessary to enable the application of the Apriori algorithm for mining frequent itemsets."
   ]
  },
  {
   "cell_type": "code",
   "execution_count": 4,
   "id": "f6dc2ea4",
   "metadata": {},
   "outputs": [],
   "source": [
    "# Convert invoice to transaction list\n",
    "transactions = df.groupby('InvoiceNo')['Item'].apply(list).tolist()\n",
    "\n",
    "# Transaction encoding\n",
    "encoder = TransactionEncoder()\n",
    "encoded = encoder.fit(transactions).transform(transactions)\n",
    "basket_df = pd.DataFrame(encoded, columns=encoder.columns_)\n"
   ]
  },
  {
   "cell_type": "markdown",
   "id": "38080334",
   "metadata": {},
   "source": [
    "# Step 4: Validation of Encoded Data\n",
    "Before applying the Apriori algorithm, the encoded transaction data was validated to ensure correctness:\n",
    "\n",
    "Data Type Check:\n",
    "The data types of all columns in the one-hot encoded DataFrame were examined to confirm that each item column was encoded as Boolean (True/False). This step helps verify the integrity of the transaction matrix.\n",
    "\n",
    "Boolean Validation:\n",
    "An assertion was used to strictly check whether all values in the DataFrame are of Boolean type. This is crucial, as the Apriori algorithm expects binary input where each item's presence is indicated by True and absence by False.\n",
    "\n",
    "This validation step ensured that the dataset was correctly structured and ready for frequent itemset mining."
   ]
  },
  {
   "cell_type": "code",
   "execution_count": 5,
   "id": "90c15ce8",
   "metadata": {},
   "outputs": [
    {
     "name": "stdout",
     "output_type": "stream",
     "text": [
      "bool    10\n",
      "Name: count, dtype: int64\n"
     ]
    }
   ],
   "source": [
    "# Check for column types and validate encoding\n",
    "print(basket_df.dtypes.value_counts())\n",
    "\n",
    "# Check if all values are Boolean\n",
    "# Ensure all values are boolean\n",
    "assert basket_df.apply(lambda col: col.map(lambda x: isinstance(x, bool))).all().all()\n",
    "\n"
   ]
  },
  {
   "cell_type": "markdown",
   "id": "90f33ff6",
   "metadata": {},
   "source": [
    "# Step 5: Identifying Most Frequent Items\n",
    "Before applying association rule mining, an analysis of item frequency was performed:\n",
    "\n",
    "Item Count Calculation:\n",
    "The total number of transactions containing each item was calculated by summing the Boolean values column-wise. Each True value (1) represents the presence of an item in a transaction.\n",
    "\n",
    "Sorting Items by Frequency:\n",
    "The items were then sorted in descending order to identify which products appeared most frequently across all transactions.\n",
    "\n",
    "Top 10 Frequent Items:\n",
    "The top 10 most frequently purchased items were displayed. This provides a quick insight into the most popular products and helps validate the dataset's reliability.\n",
    "\n",
    "This frequency analysis helps in understanding customer purchasing behavior and supports strategic decision-making."
   ]
  },
  {
   "cell_type": "code",
   "execution_count": 6,
   "id": "6cfdd26a",
   "metadata": {},
   "outputs": [
    {
     "data": {
      "text/plain": [
       "butter     327\n",
       "cola       323\n",
       "diapers    313\n",
       "beer       309\n",
       "bread      306\n",
       "cheese     298\n",
       "milk       298\n",
       "eggs       289\n",
       "chips      287\n",
       "cookies    283\n",
       "dtype: int64"
      ]
     },
     "execution_count": 6,
     "metadata": {},
     "output_type": "execute_result"
    }
   ],
   "source": [
    "item_counts = basket_df.sum().sort_values(ascending=False)\n",
    "\n",
    "# Top 10 items\n",
    "item_counts.head(10)\n"
   ]
  },
  {
   "cell_type": "markdown",
   "id": "9d59c160",
   "metadata": {},
   "source": [
    "# Step 6: Frequent Itemset Mining and Association Rule Generation\n",
    "Frequent Itemset Mining (Apriori Algorithm):\n",
    "The Apriori algorithm was applied to the encoded transaction data to find itemsets that occur frequently together.\n",
    "\n",
    "A minimum support threshold of 0.02 (2%) was set, meaning only itemsets appearing in at least 2% of transactions were considered frequent.\n",
    "\n",
    "Generating Association Rules:\n",
    "From the frequent itemsets, association rules were extracted using the lift metric to measure the strength of the rules.\n",
    "\n",
    "Rules with a lift value greater than or equal to 1 were kept, indicating a positive correlation between items.\n",
    "\n",
    "Top Rules:\n",
    "The resulting rules were sorted by lift in descending order, and the top 10 strongest association rules were displayed.\n",
    "These rules help uncover interesting patterns such as which products are commonly purchased together."
   ]
  },
  {
   "cell_type": "code",
   "execution_count": 7,
   "id": "6770b72c",
   "metadata": {},
   "outputs": [
    {
     "data": {
      "text/html": [
       "<div>\n",
       "<style scoped>\n",
       "    .dataframe tbody tr th:only-of-type {\n",
       "        vertical-align: middle;\n",
       "    }\n",
       "\n",
       "    .dataframe tbody tr th {\n",
       "        vertical-align: top;\n",
       "    }\n",
       "\n",
       "    .dataframe thead th {\n",
       "        text-align: right;\n",
       "    }\n",
       "</style>\n",
       "<table border=\"1\" class=\"dataframe\">\n",
       "  <thead>\n",
       "    <tr style=\"text-align: right;\">\n",
       "      <th></th>\n",
       "      <th>antecedents</th>\n",
       "      <th>consequents</th>\n",
       "      <th>antecedent support</th>\n",
       "      <th>consequent support</th>\n",
       "      <th>support</th>\n",
       "      <th>confidence</th>\n",
       "      <th>lift</th>\n",
       "      <th>representativity</th>\n",
       "      <th>leverage</th>\n",
       "      <th>conviction</th>\n",
       "      <th>zhangs_metric</th>\n",
       "      <th>jaccard</th>\n",
       "      <th>certainty</th>\n",
       "      <th>kulczynski</th>\n",
       "    </tr>\n",
       "  </thead>\n",
       "  <tbody>\n",
       "    <tr>\n",
       "      <th>81</th>\n",
       "      <td>(beer)</td>\n",
       "      <td>(chips, cola)</td>\n",
       "      <td>0.309</td>\n",
       "      <td>0.086</td>\n",
       "      <td>0.035</td>\n",
       "      <td>0.113269</td>\n",
       "      <td>1.317077</td>\n",
       "      <td>1.0</td>\n",
       "      <td>0.008426</td>\n",
       "      <td>1.030752</td>\n",
       "      <td>0.348398</td>\n",
       "      <td>0.097222</td>\n",
       "      <td>0.029834</td>\n",
       "      <td>0.260123</td>\n",
       "    </tr>\n",
       "    <tr>\n",
       "      <th>76</th>\n",
       "      <td>(chips, cola)</td>\n",
       "      <td>(beer)</td>\n",
       "      <td>0.086</td>\n",
       "      <td>0.309</td>\n",
       "      <td>0.035</td>\n",
       "      <td>0.406977</td>\n",
       "      <td>1.317077</td>\n",
       "      <td>1.0</td>\n",
       "      <td>0.008426</td>\n",
       "      <td>1.165216</td>\n",
       "      <td>0.263395</td>\n",
       "      <td>0.097222</td>\n",
       "      <td>0.141790</td>\n",
       "      <td>0.260123</td>\n",
       "    </tr>\n",
       "    <tr>\n",
       "      <th>58</th>\n",
       "      <td>(beer, cola)</td>\n",
       "      <td>(butter)</td>\n",
       "      <td>0.100</td>\n",
       "      <td>0.327</td>\n",
       "      <td>0.043</td>\n",
       "      <td>0.430000</td>\n",
       "      <td>1.314985</td>\n",
       "      <td>1.0</td>\n",
       "      <td>0.010300</td>\n",
       "      <td>1.180702</td>\n",
       "      <td>0.266150</td>\n",
       "      <td>0.111979</td>\n",
       "      <td>0.153046</td>\n",
       "      <td>0.280749</td>\n",
       "    </tr>\n",
       "    <tr>\n",
       "      <th>59</th>\n",
       "      <td>(butter)</td>\n",
       "      <td>(beer, cola)</td>\n",
       "      <td>0.327</td>\n",
       "      <td>0.100</td>\n",
       "      <td>0.043</td>\n",
       "      <td>0.131498</td>\n",
       "      <td>1.314985</td>\n",
       "      <td>1.0</td>\n",
       "      <td>0.010300</td>\n",
       "      <td>1.036268</td>\n",
       "      <td>0.355921</td>\n",
       "      <td>0.111979</td>\n",
       "      <td>0.034998</td>\n",
       "      <td>0.280749</td>\n",
       "    </tr>\n",
       "    <tr>\n",
       "      <th>217</th>\n",
       "      <td>(cheese, milk)</td>\n",
       "      <td>(eggs)</td>\n",
       "      <td>0.089</td>\n",
       "      <td>0.289</td>\n",
       "      <td>0.033</td>\n",
       "      <td>0.370787</td>\n",
       "      <td>1.282998</td>\n",
       "      <td>1.0</td>\n",
       "      <td>0.007279</td>\n",
       "      <td>1.129982</td>\n",
       "      <td>0.242125</td>\n",
       "      <td>0.095652</td>\n",
       "      <td>0.115030</td>\n",
       "      <td>0.242487</td>\n",
       "    </tr>\n",
       "    <tr>\n",
       "      <th>220</th>\n",
       "      <td>(eggs)</td>\n",
       "      <td>(cheese, milk)</td>\n",
       "      <td>0.289</td>\n",
       "      <td>0.089</td>\n",
       "      <td>0.033</td>\n",
       "      <td>0.114187</td>\n",
       "      <td>1.282998</td>\n",
       "      <td>1.0</td>\n",
       "      <td>0.007279</td>\n",
       "      <td>1.028434</td>\n",
       "      <td>0.310233</td>\n",
       "      <td>0.095652</td>\n",
       "      <td>0.027647</td>\n",
       "      <td>0.242487</td>\n",
       "    </tr>\n",
       "    <tr>\n",
       "      <th>216</th>\n",
       "      <td>(cheese, eggs)</td>\n",
       "      <td>(milk)</td>\n",
       "      <td>0.088</td>\n",
       "      <td>0.298</td>\n",
       "      <td>0.033</td>\n",
       "      <td>0.375000</td>\n",
       "      <td>1.258389</td>\n",
       "      <td>1.0</td>\n",
       "      <td>0.006776</td>\n",
       "      <td>1.123200</td>\n",
       "      <td>0.225146</td>\n",
       "      <td>0.093484</td>\n",
       "      <td>0.109687</td>\n",
       "      <td>0.242869</td>\n",
       "    </tr>\n",
       "    <tr>\n",
       "      <th>221</th>\n",
       "      <td>(milk)</td>\n",
       "      <td>(cheese, eggs)</td>\n",
       "      <td>0.298</td>\n",
       "      <td>0.088</td>\n",
       "      <td>0.033</td>\n",
       "      <td>0.110738</td>\n",
       "      <td>1.258389</td>\n",
       "      <td>1.0</td>\n",
       "      <td>0.006776</td>\n",
       "      <td>1.025570</td>\n",
       "      <td>0.292498</td>\n",
       "      <td>0.093484</td>\n",
       "      <td>0.024932</td>\n",
       "      <td>0.242869</td>\n",
       "    </tr>\n",
       "    <tr>\n",
       "      <th>158</th>\n",
       "      <td>(cola, bread)</td>\n",
       "      <td>(milk)</td>\n",
       "      <td>0.097</td>\n",
       "      <td>0.298</td>\n",
       "      <td>0.036</td>\n",
       "      <td>0.371134</td>\n",
       "      <td>1.245416</td>\n",
       "      <td>1.0</td>\n",
       "      <td>0.007094</td>\n",
       "      <td>1.116295</td>\n",
       "      <td>0.218223</td>\n",
       "      <td>0.100279</td>\n",
       "      <td>0.104180</td>\n",
       "      <td>0.245970</td>\n",
       "    </tr>\n",
       "    <tr>\n",
       "      <th>159</th>\n",
       "      <td>(milk)</td>\n",
       "      <td>(cola, bread)</td>\n",
       "      <td>0.298</td>\n",
       "      <td>0.097</td>\n",
       "      <td>0.036</td>\n",
       "      <td>0.120805</td>\n",
       "      <td>1.245416</td>\n",
       "      <td>1.0</td>\n",
       "      <td>0.007094</td>\n",
       "      <td>1.027076</td>\n",
       "      <td>0.280706</td>\n",
       "      <td>0.100279</td>\n",
       "      <td>0.026363</td>\n",
       "      <td>0.245970</td>\n",
       "    </tr>\n",
       "  </tbody>\n",
       "</table>\n",
       "</div>"
      ],
      "text/plain": [
       "        antecedents     consequents  antecedent support  consequent support  \\\n",
       "81           (beer)   (chips, cola)               0.309               0.086   \n",
       "76    (chips, cola)          (beer)               0.086               0.309   \n",
       "58     (beer, cola)        (butter)               0.100               0.327   \n",
       "59         (butter)    (beer, cola)               0.327               0.100   \n",
       "217  (cheese, milk)          (eggs)               0.089               0.289   \n",
       "220          (eggs)  (cheese, milk)               0.289               0.089   \n",
       "216  (cheese, eggs)          (milk)               0.088               0.298   \n",
       "221          (milk)  (cheese, eggs)               0.298               0.088   \n",
       "158   (cola, bread)          (milk)               0.097               0.298   \n",
       "159          (milk)   (cola, bread)               0.298               0.097   \n",
       "\n",
       "     support  confidence      lift  representativity  leverage  conviction  \\\n",
       "81     0.035    0.113269  1.317077               1.0  0.008426    1.030752   \n",
       "76     0.035    0.406977  1.317077               1.0  0.008426    1.165216   \n",
       "58     0.043    0.430000  1.314985               1.0  0.010300    1.180702   \n",
       "59     0.043    0.131498  1.314985               1.0  0.010300    1.036268   \n",
       "217    0.033    0.370787  1.282998               1.0  0.007279    1.129982   \n",
       "220    0.033    0.114187  1.282998               1.0  0.007279    1.028434   \n",
       "216    0.033    0.375000  1.258389               1.0  0.006776    1.123200   \n",
       "221    0.033    0.110738  1.258389               1.0  0.006776    1.025570   \n",
       "158    0.036    0.371134  1.245416               1.0  0.007094    1.116295   \n",
       "159    0.036    0.120805  1.245416               1.0  0.007094    1.027076   \n",
       "\n",
       "     zhangs_metric   jaccard  certainty  kulczynski  \n",
       "81        0.348398  0.097222   0.029834    0.260123  \n",
       "76        0.263395  0.097222   0.141790    0.260123  \n",
       "58        0.266150  0.111979   0.153046    0.280749  \n",
       "59        0.355921  0.111979   0.034998    0.280749  \n",
       "217       0.242125  0.095652   0.115030    0.242487  \n",
       "220       0.310233  0.095652   0.027647    0.242487  \n",
       "216       0.225146  0.093484   0.109687    0.242869  \n",
       "221       0.292498  0.093484   0.024932    0.242869  \n",
       "158       0.218223  0.100279   0.104180    0.245970  \n",
       "159       0.280706  0.100279   0.026363    0.245970  "
      ]
     },
     "execution_count": 7,
     "metadata": {},
     "output_type": "execute_result"
    }
   ],
   "source": [
    "frequent_items = apriori(basket_df, min_support=0.02, use_colnames=True)\n",
    "\n",
    "# Association rules\n",
    "rules = association_rules(frequent_items, metric='lift', min_threshold=1)\n",
    "rules.sort_values('lift', ascending=False).head(10)\n"
   ]
  },
  {
   "cell_type": "markdown",
   "id": "03ced4d5",
   "metadata": {},
   "source": [
    "# Step 7: Refining the Dataset by Removing Rare Items\n",
    "Removing Very Rare Items:\n",
    "To improve the efficiency and quality of the analysis, items that appear in 10 or fewer transactions were removed. Rare items can add noise and slow down the mining process without contributing meaningful patterns.\n",
    "\n",
    "Data Type Conversion:\n",
    "Although not commonly necessary in Market Basket Analysis, the dataset was converted from Boolean (True/False) to integer (1/0) format. This can help with certain algorithms or visualizations that expect numeric input.\n",
    "\n",
    "This refinement step ensures a more focused dataset with relevant items, leading to more reliable and interpretable association rules."
   ]
  },
  {
   "cell_type": "code",
   "execution_count": 8,
   "id": "b13be41c",
   "metadata": {},
   "outputs": [],
   "source": [
    "# Remove very rare items\n",
    "basket_df = basket_df.loc[:, basket_df.sum() > 10]\n",
    "\n",
    "# Normalize if required (not common in MBA, but shown here)\n",
    "basket_df = basket_df.astype(int)\n"
   ]
  },
  {
   "cell_type": "markdown",
   "id": "310ae55a",
   "metadata": {},
   "source": [
    "# Step 8: Visualization of Top Frequent Items\n",
    "Creating Output Directory:\n",
    "A directory was created to save visualization images. This ensures organized storage of output files.\n",
    "\n",
    "Plotting Item Frequencies:\n",
    "A bar chart was generated to display the top 10 most frequently purchased items.\n",
    "\n",
    "The x-axis shows item names.\n",
    "\n",
    "The y-axis represents the frequency (number of transactions containing each item).\n",
    "\n",
    "The chart includes proper labels and rotated x-ticks for readability.\n",
    "\n",
    "Saving the Plot:\n",
    "The plot was saved as a PNG image in the created directory for later reference or reporting.\n",
    "\n",
    "This visualization provides a clear and immediate insight into customer buying behavior and popular products."
   ]
  },
  {
   "cell_type": "code",
   "execution_count": 9,
   "id": "eb3100f3",
   "metadata": {},
   "outputs": [
    {
     "data": {
      "image/png": "[encoded data removed]",
      "text/plain": [
       "<Figure size 1000x500 with 1 Axes>"
      ]
     },
     "metadata": {},
     "output_type": "display_data"
    }
   ],
   "source": [
    "import os\n",
    "\n",
    "# Create directory if it doesn't exist\n",
    "os.makedirs(\"outputs/visuals\", exist_ok=True)\n",
    "\n",
    "# Plot\n",
    "plt.figure(figsize=(10,5))\n",
    "item_counts.head(10).plot(kind='bar')\n",
    "plt.title(\"Top 10 Most Frequent Items\")\n",
    "plt.ylabel(\"Frequency\")\n",
    "plt.xticks(rotation=45)\n",
    "plt.tight_layout()\n",
    "plt.savefig(\"outputs/visuals/item_frequency.png\")\n",
    "plt.show()\n"
   ]
  },
  {
   "cell_type": "markdown",
   "id": "27f048ae",
   "metadata": {},
   "source": [
    "# Step 9: Item Co-occurrence Analysis Using Heatmap\n",
    "Correlation Matrix Calculation:\n",
    "The pairwise correlation matrix of items was computed to understand how frequently items are purchased together across transactions.\n",
    "\n",
    "This matrix quantifies the strength of co-occurrence between items.\n",
    "\n",
    "Heatmap Visualization:\n",
    "A heatmap was plotted to visually represent the correlations:\n",
    "\n",
    "Colors range from light to dark, indicating weaker to stronger associations respectively.\n",
    "\n",
    "This helps identify clusters of items that often appear together.\n",
    "\n",
    "Saving the Heatmap:\n",
    "The heatmap image was saved for documentation and deeper analysis.\n",
    "\n",
    "This heatmap aids in quickly spotting strong item associations, enhancing the interpretability of market basket patterns."
   ]
  },
  {
   "cell_type": "code",
   "execution_count": 10,
   "id": "3555b3af",
   "metadata": {},
   "outputs": [
    {
     "data": {
      "image/png": "[encoded data removed]",
      "text/plain": [
       "<Figure size 1200x1000 with 2 Axes>"
      ]
     },
     "metadata": {},
     "output_type": "display_data"
    }
   ],
   "source": [
    "co_matrix = basket_df.corr()\n",
    "plt.figure(figsize=(12,10))\n",
    "sns.heatmap(co_matrix, cmap=\"YlGnBu\")\n",
    "plt.title(\"Item Co-occurrence Heatmap\")\n",
    "plt.tight_layout()\n",
    "plt.savefig(\"outputs/visuals/heatmap.png\")\n",
    "plt.show()\n"
   ]
  },
  {
   "cell_type": "markdown",
   "id": "e16a5a2f",
   "metadata": {},
   "source": [
    "# Step 10: Visualizing Association Rules as a Network Graph\n",
    "Network Graph Construction:\n",
    "A directed graph was created using the networkx library to represent the association rules:\n",
    "\n",
    "Nodes represent individual items.\n",
    "\n",
    "Edges represent rules from antecedents (if items) to consequents (then items).\n",
    "\n",
    "The edge weight corresponds to the strength of association measured by the lift metric.\n",
    "\n",
    "Graph Layout and Visualization:\n",
    "The graph was visualized using a spring layout to spatially arrange the nodes for clarity.\n",
    "\n",
    "Nodes are colored sky blue for visibility.\n",
    "\n",
    "Edges are gray, indicating directional relationships between items.\n",
    "\n",
    "Labels are displayed for easy identification of items.\n",
    "\n",
    "Saving the Graph:\n",
    "The network graph image was saved for documentation and further exploration.\n",
    "\n",
    "This network visualization provides an intuitive view of how products are related through strong association rules, helping to identify key item relationships in the dataset.\n",
    "\n"
   ]
  },
  {
   "cell_type": "code",
   "execution_count": 12,
   "id": "ff39c6d5",
   "metadata": {},
   "outputs": [
    {
     "data": {
      "image/png": "[encoded data removed]",
      "text/plain": [
       "<Figure size 1200x800 with 1 Axes>"
      ]
     },
     "metadata": {},
     "output_type": "display_data"
    }
   ],
   "source": [
    "import networkx as nx\n",
    "\n",
    "G = nx.DiGraph()\n",
    "\n",
    "for _, row in rules.iterrows():\n",
    "    for antecedent in row['antecedents']:\n",
    "        for consequent in row['consequents']:\n",
    "            G.add_edge(antecedent, consequent, weight=row['lift'])\n",
    "\n",
    "plt.figure(figsize=(12, 8))\n",
    "pos = nx.spring_layout(G, k=2)\n",
    "nx.draw(G, pos, with_labels=True, node_color='skyblue', edge_color='gray', node_size=2000, font_size=10)\n",
    "plt.title(\"Association Rules Network\")\n",
    "plt.savefig(\"outputs/visuals/network_graph.png\")\n",
    "plt.show()\n"
   ]
  },
  {
   "cell_type": "markdown",
   "id": "4cbd369d",
   "metadata": {},
   "source": [
    "### Market Basket Analysis: Scoring-Optimized Visualizations\n",
    " This code sets up a Market Basket Analysis tool, which helps find relationships between products (like \"People who buy X also buy Y\").\n",
    "\n",
    "## 📌 Insights & Storytelling\n",
    "\n",
    "- The **bar chart** helps identify the top-performing items in terms of sales volume.\n",
    "- The **pie chart** visualizes contribution ratios of the top 5 items, showing dominance in purchases.\n",
    "- The **heatmap** reveals strong co-occurrence patterns—useful for bundling or combo offers.\n",
    "- The **scatter plot** enables interactive exploration of rules, especially those with high confidence and lift, ideal for marketing strategies.\n",
    "\n",
    "These visuals provide a holistic understanding of **customer buying behavior** and offer clear paths for **data-driven decision-making**.\n"
   ]
  },
  {
   "cell_type": "code",
   "execution_count": 14,
   "id": "a2f5cc85",
   "metadata": {},
   "outputs": [],
   "source": [
    "\"\"\"\n",
    "# Market Basket Analysis: Scoring-Optimized Visualizations\n",
    "\"\"\"\n",
    "\n",
    "# IMPORTS\n",
    "import pandas as pd\n",
    "import plotly.express as px\n",
    "import plotly.graph_objects as go\n",
    "from plotly.subplots import make_subplots\n",
    "from mlxtend.frequent_patterns import apriori, association_rules\n"
   ]
  },
  {
   "cell_type": "markdown",
   "id": "1026ae40",
   "metadata": {},
   "source": [
    "# 🛒 Data Preparation Steps:\n",
    "Groups items by each InvoiceNo to create transaction lists.\n",
    "\n",
    "Uses TransactionEncoder to convert lists into a one-hot encoded DataFrame (basket_df) showing product presence in each transaction.\n",
    "\n",
    "Extracts the top 20 most frequent products from this data.\n",
    "\n",
    "Applies the Apriori algorithm to find frequent itemsets (≥2% support).\n",
    "\n",
    "Generates association rules from those itemsets, filtered by lift ≥ 1.\n",
    "\n"
   ]
  },
  {
   "cell_type": "code",
   "execution_count": 15,
   "id": "ea937a3c",
   "metadata": {},
   "outputs": [],
   "source": [
    "\"\"\"\n",
    "\n",
    "**Strategic Choices:**\n",
    "- Frequency: Horizontal Bar Chart (best for ranking)\n",
    "- Associations: Network Graph (shows relationships)\n",
    "- Rule Quality: Scatter Plot (3 metrics simultaneously)\n",
    "- Composition: Sunburst (hierarchy + proportions)\n",
    "\"\"\"\n",
    "\n",
    "# DATA PREP\n",
    "transactions = df.groupby('InvoiceNo')['Item'].apply(list)\n",
    "encoder = TransactionEncoder()\n",
    "basket_df = pd.DataFrame(encoder.fit_transform(transactions), columns=encoder.columns_)\n",
    "item_freq = basket_df.sum().sort_values().tail(20)\n",
    "\n",
    "# Generate rules\n",
    "rules = association_rules(apriori(basket_df, min_support=0.02, use_colnames=True), \n",
    "                         metric='lift', min_threshold=1)"
   ]
  },
  {
   "cell_type": "markdown",
   "id": "c0a15e4a",
   "metadata": {},
   "source": [
    "## Product Frequency Visualization\n",
    "This code creates a horizontal bar chart titled \"Top 20 Products by Purchase Frequency\".\n",
    "\n",
    "It shows the 20 products bought most often, with bars sized and colored by the number of transactions.\n",
    "\n",
    "The chart orders products from least to most frequent on the y-axis for easy comparison.\n",
    "\n",
    "The chart is interactive and displayed using Plotly."
   ]
  },
  {
   "cell_type": "code",
   "execution_count": 16,
   "id": "925a44fa",
   "metadata": {},
   "outputs": [
    {
     "data": {
      "application/vnd.plotly.v1+json": {
       "config": {
        "plotlyServerURL": "https://plot.ly"
       },
       "data": [
        {
         "hovertemplate": "Transactions=%{x}<br>Product=%{y}<br>color=%{marker.color}<extra></extra>",
         "legendgroup": "",
         "marker": {
          "color": {
           "bdata": "GwEfASEBKgEqATIBNQE5AUMBRwE=",
           "dtype": "i2"
          },
          "coloraxis": "coloraxis",
          "pattern": {
           "shape": ""
          }
         },
         "name": "",
         "orientation": "h",
         "showlegend": false,
         "textposition": "auto",
         "type": "bar",
         "x": {
          "bdata": "GwEfASEBKgEqATIBNQE5AUMBRwE=",
          "dtype": "i2"
         },
         "xaxis": "x",
         "y": [
          "cookies",
          "chips",
          "eggs",
          "cheese",
          "milk",
          "bread",
          "beer",
          "diapers",
          "cola",
          "butter"
         ],
         "yaxis": "y"
        }
       ],
       "layout": {
        "barmode": "relative",
        "coloraxis": {
         "colorbar": {
          "title": {
           "text": "color"
          }
         },
         "colorscale": [
          [
           0,
           "rgb(0,0,255)"
          ],
          [
           1,
           "rgb(255,0,0)"
          ]
         ]
        },
        "legend": {
         "tracegroupgap": 0
        },
        "template": {
         "data": {
          "bar": [
           {
            "error_x": {
             "color": "#2a3f5f"
            },
            "error_y": {
             "color": "#2a3f5f"
            },
            "marker": {
             "line": {
              "color": "#E5ECF6",
              "width": 0.5
             },
             "pattern": {
              "fillmode": "overlay",
              "size": 10,
              "solidity": 0.2
             }
            },
            "type": "bar"
           }
          ],
          "barpolar": [
           {
            "marker": {
             "line": {
              "color": "#E5ECF6",
              "width": 0.5
             },
             "pattern": {
              "fillmode": "overlay",
              "size": 10,
              "solidity": 0.2
             }
            },
            "type": "barpolar"
           }
          ],
          "carpet": [
           {
            "aaxis": {
             "endlinecolor": "#2a3f5f",
             "gridcolor": "white",
             "linecolor": "white",
             "minorgridcolor": "white",
             "startlinecolor": "#2a3f5f"
            },
            "baxis": {
             "endlinecolor": "#2a3f5f",
             "gridcolor": "white",
             "linecolor": "white",
             "minorgridcolor": "white",
             "startlinecolor": "#2a3f5f"
            },
            "type": "carpet"
           }
          ],
          "choropleth": [
           {
            "colorbar": {
             "outlinewidth": 0,
             "ticks": ""
            },
            "type": "choropleth"
           }
          ],
          "contour": [
           {
            "colorbar": {
             "outlinewidth": 0,
             "ticks": ""
            },
            "colorscale": [
             [
              0,
              "#0d0887"
             ],
             [
              0.1111111111111111,
              "#46039f"
             ],
             [
              0.2222222222222222,
              "#7201a8"
             ],
             [
              0.3333333333333333,
              "#9c179e"
             ],
             [
              0.4444444444444444,
              "#bd3786"
             ],
             [
              0.5555555555555556,
              "#d8576b"
             ],
             [
              0.6666666666666666,
              "#ed7953"
             ],
             [
              0.7777777777777778,
              "#fb9f3a"
             ],
             [
              0.8888888888888888,
              "#fdca26"
             ],
             [
              1,
              "#f0f921"
             ]
            ],
            "type": "contour"
           }
          ],
          "contourcarpet": [
           {
            "colorbar": {
             "outlinewidth": 0,
             "ticks": ""
            },
            "type": "contourcarpet"
           }
          ],
          "heatmap": [
           {
            "colorbar": {
             "outlinewidth": 0,
             "ticks": ""
            },
            "colorscale": [
             [
              0,
              "#0d0887"
             ],
             [
              0.1111111111111111,
              "#46039f"
             ],
             [
              0.2222222222222222,
              "#7201a8"
             ],
             [
              0.3333333333333333,
              "#9c179e"
             ],
             [
              0.4444444444444444,
              "#bd3786"
             ],
             [
              0.5555555555555556,
              "#d8576b"
             ],
             [
              0.6666666666666666,
              "#ed7953"
             ],
             [
              0.7777777777777778,
              "#fb9f3a"
             ],
             [
              0.8888888888888888,
              "#fdca26"
             ],
             [
              1,
              "#f0f921"
             ]
            ],
            "type": "heatmap"
           }
          ],
          "histogram": [
           {
            "marker": {
             "pattern": {
              "fillmode": "overlay",
              "size": 10,
              "solidity": 0.2
             }
            },
            "type": "histogram"
           }
          ],
          "histogram2d": [
           {
            "colorbar": {
             "outlinewidth": 0,
             "ticks": ""
            },
            "colorscale": [
             [
              0,
              "#0d0887"
             ],
             [
              0.1111111111111111,
              "#46039f"
             ],
             [
              0.2222222222222222,
              "#7201a8"
             ],
             [
              0.3333333333333333,
              "#9c179e"
             ],
             [
              0.4444444444444444,
              "#bd3786"
             ],
             [
              0.5555555555555556,
              "#d8576b"
             ],
             [
              0.6666666666666666,
              "#ed7953"
             ],
             [
              0.7777777777777778,
              "#fb9f3a"
             ],
             [
              0.8888888888888888,
              "#fdca26"
             ],
             [
              1,
              "#f0f921"
             ]
            ],
            "type": "histogram2d"
           }
          ],
          "histogram2dcontour": [
           {
            "colorbar": {
             "outlinewidth": 0,
             "ticks": ""
            },
            "colorscale": [
             [
              0,
              "#0d0887"
             ],
             [
              0.1111111111111111,
              "#46039f"
             ],
             [
              0.2222222222222222,
              "#7201a8"
             ],
             [
              0.3333333333333333,
              "#9c179e"
             ],
             [
              0.4444444444444444,
              "#bd3786"
             ],
             [
              0.5555555555555556,
              "#d8576b"
             ],
             [
              0.6666666666666666,
              "#ed7953"
             ],
             [
              0.7777777777777778,
              "#fb9f3a"
             ],
             [
              0.8888888888888888,
              "#fdca26"
             ],
             [
              1,
              "#f0f921"
             ]
            ],
            "type": "histogram2dcontour"
           }
          ],
          "mesh3d": [
           {
            "colorbar": {
             "outlinewidth": 0,
             "ticks": ""
            },
            "type": "mesh3d"
           }
          ],
          "parcoords": [
           {
            "line": {
             "colorbar": {
              "outlinewidth": 0,
              "ticks": ""
             }
            },
            "type": "parcoords"
           }
          ],
          "pie": [
           {
            "automargin": true,
            "type": "pie"
           }
          ],
          "scatter": [
           {
            "fillpattern": {
             "fillmode": "overlay",
             "size": 10,
             "solidity": 0.2
            },
            "type": "scatter"
           }
          ],
          "scatter3d": [
           {
            "line": {
             "colorbar": {
              "outlinewidth": 0,
              "ticks": ""
             }
            },
            "marker": {
             "colorbar": {
              "outlinewidth": 0,
              "ticks": ""
             }
            },
            "type": "scatter3d"
           }
          ],
          "scattercarpet": [
           {
            "marker": {
             "colorbar": {
              "outlinewidth": 0,
              "ticks": ""
             }
            },
            "type": "scattercarpet"
           }
          ],
          "scattergeo": [
           {
            "marker": {
             "colorbar": {
              "outlinewidth": 0,
              "ticks": ""
             }
            },
            "type": "scattergeo"
           }
          ],
          "scattergl": [
           {
            "marker": {
             "colorbar": {
              "outlinewidth": 0,
              "ticks": ""
             }
            },
            "type": "scattergl"
           }
          ],
          "scattermap": [
           {
            "marker": {
             "colorbar": {
              "outlinewidth": 0,
              "ticks": ""
             }
            },
            "type": "scattermap"
           }
          ],
          "scattermapbox": [
           {
            "marker": {
             "colorbar": {
              "outlinewidth": 0,
              "ticks": ""
             }
            },
            "type": "scattermapbox"
           }
          ],
          "scatterpolar": [
           {
            "marker": {
             "colorbar": {
              "outlinewidth": 0,
              "ticks": ""
             }
            },
            "type": "scatterpolar"
           }
          ],
          "scatterpolargl": [
           {
            "marker": {
             "colorbar": {
              "outlinewidth": 0,
              "ticks": ""
             }
            },
            "type": "scatterpolargl"
           }
          ],
          "scatterternary": [
           {
            "marker": {
             "colorbar": {
              "outlinewidth": 0,
              "ticks": ""
             }
            },
            "type": "scatterternary"
           }
          ],
          "surface": [
           {
            "colorbar": {
             "outlinewidth": 0,
             "ticks": ""
            },
            "colorscale": [
             [
              0,
              "#0d0887"
             ],
             [
              0.1111111111111111,
              "#46039f"
             ],
             [
              0.2222222222222222,
              "#7201a8"
             ],
             [
              0.3333333333333333,
              "#9c179e"
             ],
             [
              0.4444444444444444,
              "#bd3786"
             ],
             [
              0.5555555555555556,
              "#d8576b"
             ],
             [
              0.6666666666666666,
              "#ed7953"
             ],
             [
              0.7777777777777778,
              "#fb9f3a"
             ],
             [
              0.8888888888888888,
              "#fdca26"
             ],
             [
              1,
              "#f0f921"
             ]
            ],
            "type": "surface"
           }
          ],
          "table": [
           {
            "cells": {
             "fill": {
              "color": "#EBF0F8"
             },
             "line": {
              "color": "white"
             }
            },
            "header": {
             "fill": {
              "color": "#C8D4E3"
             },
             "line": {
              "color": "white"
             }
            },
            "type": "table"
           }
          ]
         },
         "layout": {
          "annotationdefaults": {
           "arrowcolor": "#2a3f5f",
           "arrowhead": 0,
           "arrowwidth": 1
          },
          "autotypenumbers": "strict",
          "coloraxis": {
           "colorbar": {
            "outlinewidth": 0,
            "ticks": ""
           }
          },
          "colorscale": {
           "diverging": [
            [
             0,
             "#8e0152"
            ],
            [
             0.1,
             "#c51b7d"
            ],
            [
             0.2,
             "#de77ae"
            ],
            [
             0.3,
             "#f1b6da"
            ],
            [
             0.4,
             "#fde0ef"
            ],
            [
             0.5,
             "#f7f7f7"
            ],
            [
             0.6,
             "#e6f5d0"
            ],
            [
             0.7,
             "#b8e186"
            ],
            [
             0.8,
             "#7fbc41"
            ],
            [
             0.9,
             "#4d9221"
            ],
            [
             1,
             "#276419"
            ]
           ],
           "sequential": [
            [
             0,
             "#0d0887"
            ],
            [
             0.1111111111111111,
             "#46039f"
            ],
            [
             0.2222222222222222,
             "#7201a8"
            ],
            [
             0.3333333333333333,
             "#9c179e"
            ],
            [
             0.4444444444444444,
             "#bd3786"
            ],
            [
             0.5555555555555556,
             "#d8576b"
            ],
            [
             0.6666666666666666,
             "#ed7953"
            ],
            [
             0.7777777777777778,
             "#fb9f3a"
            ],
            [
             0.8888888888888888,
             "#fdca26"
            ],
            [
             1,
             "#f0f921"
            ]
           ],
           "sequentialminus": [
            [
             0,
             "#0d0887"
            ],
            [
             0.1111111111111111,
             "#46039f"
            ],
            [
             0.2222222222222222,
             "#7201a8"
            ],
            [
             0.3333333333333333,
             "#9c179e"
            ],
            [
             0.4444444444444444,
             "#bd3786"
            ],
            [
             0.5555555555555556,
             "#d8576b"
            ],
            [
             0.6666666666666666,
             "#ed7953"
            ],
            [
             0.7777777777777778,
             "#fb9f3a"
            ],
            [
             0.8888888888888888,
             "#fdca26"
            ],
            [
             1,
             "#f0f921"
            ]
           ]
          },
          "colorway": [
           "#636efa",
           "#EF553B",
           "#00cc96",
           "#ab63fa",
           "#FFA15A",
           "#19d3f3",
           "#FF6692",
           "#B6E880",
           "#FF97FF",
           "#FECB52"
          ],
          "font": {
           "color": "#2a3f5f"
          },
          "geo": {
           "bgcolor": "white",
           "lakecolor": "white",
           "landcolor": "#E5ECF6",
           "showlakes": true,
           "showland": true,
           "subunitcolor": "white"
          },
          "hoverlabel": {
           "align": "left"
          },
          "hovermode": "closest",
          "mapbox": {
           "style": "light"
          },
          "paper_bgcolor": "white",
          "plot_bgcolor": "#E5ECF6",
          "polar": {
           "angularaxis": {
            "gridcolor": "white",
            "linecolor": "white",
            "ticks": ""
           },
           "bgcolor": "#E5ECF6",
           "radialaxis": {
            "gridcolor": "white",
            "linecolor": "white",
            "ticks": ""
           }
          },
          "scene": {
           "xaxis": {
            "backgroundcolor": "#E5ECF6",
            "gridcolor": "white",
            "gridwidth": 2,
            "linecolor": "white",
            "showbackground": true,
            "ticks": "",
            "zerolinecolor": "white"
           },
           "yaxis": {
            "backgroundcolor": "#E5ECF6",
            "gridcolor": "white",
            "gridwidth": 2,
            "linecolor": "white",
            "showbackground": true,
            "ticks": "",
            "zerolinecolor": "white"
           },
           "zaxis": {
            "backgroundcolor": "#E5ECF6",
            "gridcolor": "white",
            "gridwidth": 2,
            "linecolor": "white",
            "showbackground": true,
            "ticks": "",
            "zerolinecolor": "white"
           }
          },
          "shapedefaults": {
           "line": {
            "color": "#2a3f5f"
           }
          },
          "ternary": {
           "aaxis": {
            "gridcolor": "white",
            "linecolor": "white",
            "ticks": ""
           },
           "baxis": {
            "gridcolor": "white",
            "linecolor": "white",
            "ticks": ""
           },
           "bgcolor": "#E5ECF6",
           "caxis": {
            "gridcolor": "white",
            "linecolor": "white",
            "ticks": ""
           }
          },
          "title": {
           "x": 0.05
          },
          "xaxis": {
           "automargin": true,
           "gridcolor": "white",
           "linecolor": "white",
           "ticks": "",
           "title": {
            "standoff": 15
           },
           "zerolinecolor": "white",
           "zerolinewidth": 2
          },
          "yaxis": {
           "automargin": true,
           "gridcolor": "white",
           "linecolor": "white",
           "ticks": "",
           "title": {
            "standoff": 15
           },
           "zerolinecolor": "white",
           "zerolinewidth": 2
          }
         }
        },
        "title": {
         "text": "<b>Top 20 Products by Purchase Frequency</b>"
        },
        "xaxis": {
         "anchor": "y",
         "domain": [
          0,
          1
         ],
         "title": {
          "text": "Transactions"
         }
        },
        "yaxis": {
         "anchor": "x",
         "categoryorder": "total ascending",
         "domain": [
          0,
          1
         ],
         "title": {
          "text": "Product"
         }
        }
       }
      }
     },
     "metadata": {},
     "output_type": "display_data"
    }
   ],
   "source": [
    "\"\"\"\n",
    "### 1.1 Product Frequency (Horizontal Bar)\n",
    "\"\"\"\n",
    "\n",
    "fig1 = px.bar(item_freq, orientation='h', \n",
    "             title='<b>Top 20 Products by Purchase Frequency</b>',\n",
    "             labels={'index':'Product', 'value':'Transactions'},\n",
    "             color=item_freq.values,\n",
    "             color_continuous_scale='Bluered')\n",
    "fig1.update_layout(yaxis={'categoryorder':'total ascending'})\n",
    "fig1.show()\n"
   ]
  },
  {
   "cell_type": "markdown",
   "id": "aa8e53b2",
   "metadata": {},
   "source": [
    "## Association Network Visualization\n",
    "Selects strong association rules with lift > 3 to show strong product relationships.\n",
    "\n",
    "Extracts the single product names from rule antecedents and consequents.\n",
    "\n",
    "Creates a scatter plot where each point represents a product pair (antecedent vs consequent).\n",
    "\n",
    "The point size and color reflect the strength of association (lift).\n",
    "\n",
    "Adds hover info to show lift values.\n",
    "\n",
    "Displays the interactive plot with a clear title: \"Product Associations (Size = Lift Strength)\".\n",
    "\n"
   ]
  },
  {
   "cell_type": "code",
   "execution_count": 17,
   "id": "c60ae6f7",
   "metadata": {},
   "outputs": [
    {
     "data": {
      "application/vnd.plotly.v1+json": {
       "config": {
        "plotlyServerURL": "https://plot.ly"
       },
       "data": [
        {
         "customdata": [],
         "hovertemplate": "antecedents=%{x}<br>consequents=%{y}<br>lift=%{marker.color}<extra></extra>",
         "legendgroup": "",
         "marker": {
          "color": [],
          "coloraxis": "coloraxis",
          "line": {
           "color": "DarkSlateGrey",
           "width": 1
          },
          "size": [],
          "sizemode": "area",
          "sizeref": null,
          "symbol": "circle"
         },
         "mode": "markers",
         "name": "",
         "orientation": "v",
         "showlegend": false,
         "type": "scatter",
         "x": [],
         "xaxis": "x",
         "y": [],
         "yaxis": "y"
        }
       ],
       "layout": {
        "coloraxis": {
         "colorbar": {
          "title": {
           "text": "lift"
          }
         },
         "colorscale": [
          [
           0,
           "#0d0887"
          ],
          [
           0.1111111111111111,
           "#46039f"
          ],
          [
           0.2222222222222222,
           "#7201a8"
          ],
          [
           0.3333333333333333,
           "#9c179e"
          ],
          [
           0.4444444444444444,
           "#bd3786"
          ],
          [
           0.5555555555555556,
           "#d8576b"
          ],
          [
           0.6666666666666666,
           "#ed7953"
          ],
          [
           0.7777777777777778,
           "#fb9f3a"
          ],
          [
           0.8888888888888888,
           "#fdca26"
          ],
          [
           1,
           "#f0f921"
          ]
         ]
        },
        "legend": {
         "itemsizing": "constant",
         "tracegroupgap": 0
        },
        "template": {
         "data": {
          "bar": [
           {
            "error_x": {
             "color": "#2a3f5f"
            },
            "error_y": {
             "color": "#2a3f5f"
            },
            "marker": {
             "line": {
              "color": "#E5ECF6",
              "width": 0.5
             },
             "pattern": {
              "fillmode": "overlay",
              "size": 10,
              "solidity": 0.2
             }
            },
            "type": "bar"
           }
          ],
          "barpolar": [
           {
            "marker": {
             "line": {
              "color": "#E5ECF6",
              "width": 0.5
             },
             "pattern": {
              "fillmode": "overlay",
              "size": 10,
              "solidity": 0.2
             }
            },
            "type": "barpolar"
           }
          ],
          "carpet": [
           {
            "aaxis": {
             "endlinecolor": "#2a3f5f",
             "gridcolor": "white",
             "linecolor": "white",
             "minorgridcolor": "white",
             "startlinecolor": "#2a3f5f"
            },
            "baxis": {
             "endlinecolor": "#2a3f5f",
             "gridcolor": "white",
             "linecolor": "white",
             "minorgridcolor": "white",
             "startlinecolor": "#2a3f5f"
            },
            "type": "carpet"
           }
          ],
          "choropleth": [
           {
            "colorbar": {
             "outlinewidth": 0,
             "ticks": ""
            },
            "type": "choropleth"
           }
          ],
          "contour": [
           {
            "colorbar": {
             "outlinewidth": 0,
             "ticks": ""
            },
            "colorscale": [
             [
              0,
              "#0d0887"
             ],
             [
              0.1111111111111111,
              "#46039f"
             ],
             [
              0.2222222222222222,
              "#7201a8"
             ],
             [
              0.3333333333333333,
              "#9c179e"
             ],
             [
              0.4444444444444444,
              "#bd3786"
             ],
             [
              0.5555555555555556,
              "#d8576b"
             ],
             [
              0.6666666666666666,
              "#ed7953"
             ],
             [
              0.7777777777777778,
              "#fb9f3a"
             ],
             [
              0.8888888888888888,
              "#fdca26"
             ],
             [
              1,
              "#f0f921"
             ]
            ],
            "type": "contour"
           }
          ],
          "contourcarpet": [
           {
            "colorbar": {
             "outlinewidth": 0,
             "ticks": ""
            },
            "type": "contourcarpet"
           }
          ],
          "heatmap": [
           {
            "colorbar": {
             "outlinewidth": 0,
             "ticks": ""
            },
            "colorscale": [
             [
              0,
              "#0d0887"
             ],
             [
              0.1111111111111111,
              "#46039f"
             ],
             [
              0.2222222222222222,
              "#7201a8"
             ],
             [
              0.3333333333333333,
              "#9c179e"
             ],
             [
              0.4444444444444444,
              "#bd3786"
             ],
             [
              0.5555555555555556,
              "#d8576b"
             ],
             [
              0.6666666666666666,
              "#ed7953"
             ],
             [
              0.7777777777777778,
              "#fb9f3a"
             ],
             [
              0.8888888888888888,
              "#fdca26"
             ],
             [
              1,
              "#f0f921"
             ]
            ],
            "type": "heatmap"
           }
          ],
          "histogram": [
           {
            "marker": {
             "pattern": {
              "fillmode": "overlay",
              "size": 10,
              "solidity": 0.2
             }
            },
            "type": "histogram"
           }
          ],
          "histogram2d": [
           {
            "colorbar": {
             "outlinewidth": 0,
             "ticks": ""
            },
            "colorscale": [
             [
              0,
              "#0d0887"
             ],
             [
              0.1111111111111111,
              "#46039f"
             ],
             [
              0.2222222222222222,
              "#7201a8"
             ],
             [
              0.3333333333333333,
              "#9c179e"
             ],
             [
              0.4444444444444444,
              "#bd3786"
             ],
             [
              0.5555555555555556,
              "#d8576b"
             ],
             [
              0.6666666666666666,
              "#ed7953"
             ],
             [
              0.7777777777777778,
              "#fb9f3a"
             ],
             [
              0.8888888888888888,
              "#fdca26"
             ],
             [
              1,
              "#f0f921"
             ]
            ],
            "type": "histogram2d"
           }
          ],
          "histogram2dcontour": [
           {
            "colorbar": {
             "outlinewidth": 0,
             "ticks": ""
            },
            "colorscale": [
             [
              0,
              "#0d0887"
             ],
             [
              0.1111111111111111,
              "#46039f"
             ],
             [
              0.2222222222222222,
              "#7201a8"
             ],
             [
              0.3333333333333333,
              "#9c179e"
             ],
             [
              0.4444444444444444,
              "#bd3786"
             ],
             [
              0.5555555555555556,
              "#d8576b"
             ],
             [
              0.6666666666666666,
              "#ed7953"
             ],
             [
              0.7777777777777778,
              "#fb9f3a"
             ],
             [
              0.8888888888888888,
              "#fdca26"
             ],
             [
              1,
              "#f0f921"
             ]
            ],
            "type": "histogram2dcontour"
           }
          ],
          "mesh3d": [
           {
            "colorbar": {
             "outlinewidth": 0,
             "ticks": ""
            },
            "type": "mesh3d"
           }
          ],
          "parcoords": [
           {
            "line": {
             "colorbar": {
              "outlinewidth": 0,
              "ticks": ""
             }
            },
            "type": "parcoords"
           }
          ],
          "pie": [
           {
            "automargin": true,
            "type": "pie"
           }
          ],
          "scatter": [
           {
            "fillpattern": {
             "fillmode": "overlay",
             "size": 10,
             "solidity": 0.2
            },
            "type": "scatter"
           }
          ],
          "scatter3d": [
           {
            "line": {
             "colorbar": {
              "outlinewidth": 0,
              "ticks": ""
             }
            },
            "marker": {
             "colorbar": {
              "outlinewidth": 0,
              "ticks": ""
             }
            },
            "type": "scatter3d"
           }
          ],
          "scattercarpet": [
           {
            "marker": {
             "colorbar": {
              "outlinewidth": 0,
              "ticks": ""
             }
            },
            "type": "scattercarpet"
           }
          ],
          "scattergeo": [
           {
            "marker": {
             "colorbar": {
              "outlinewidth": 0,
              "ticks": ""
             }
            },
            "type": "scattergeo"
           }
          ],
          "scattergl": [
           {
            "marker": {
             "colorbar": {
              "outlinewidth": 0,
              "ticks": ""
             }
            },
            "type": "scattergl"
           }
          ],
          "scattermap": [
           {
            "marker": {
             "colorbar": {
              "outlinewidth": 0,
              "ticks": ""
             }
            },
            "type": "scattermap"
           }
          ],
          "scattermapbox": [
           {
            "marker": {
             "colorbar": {
              "outlinewidth": 0,
              "ticks": ""
             }
            },
            "type": "scattermapbox"
           }
          ],
          "scatterpolar": [
           {
            "marker": {
             "colorbar": {
              "outlinewidth": 0,
              "ticks": ""
             }
            },
            "type": "scatterpolar"
           }
          ],
          "scatterpolargl": [
           {
            "marker": {
             "colorbar": {
              "outlinewidth": 0,
              "ticks": ""
             }
            },
            "type": "scatterpolargl"
           }
          ],
          "scatterternary": [
           {
            "marker": {
             "colorbar": {
              "outlinewidth": 0,
              "ticks": ""
             }
            },
            "type": "scatterternary"
           }
          ],
          "surface": [
           {
            "colorbar": {
             "outlinewidth": 0,
             "ticks": ""
            },
            "colorscale": [
             [
              0,
              "#0d0887"
             ],
             [
              0.1111111111111111,
              "#46039f"
             ],
             [
              0.2222222222222222,
              "#7201a8"
             ],
             [
              0.3333333333333333,
              "#9c179e"
             ],
             [
              0.4444444444444444,
              "#bd3786"
             ],
             [
              0.5555555555555556,
              "#d8576b"
             ],
             [
              0.6666666666666666,
              "#ed7953"
             ],
             [
              0.7777777777777778,
              "#fb9f3a"
             ],
             [
              0.8888888888888888,
              "#fdca26"
             ],
             [
              1,
              "#f0f921"
             ]
            ],
            "type": "surface"
           }
          ],
          "table": [
           {
            "cells": {
             "fill": {
              "color": "#EBF0F8"
             },
             "line": {
              "color": "white"
             }
            },
            "header": {
             "fill": {
              "color": "#C8D4E3"
             },
             "line": {
              "color": "white"
             }
            },
            "type": "table"
           }
          ]
         },
         "layout": {
          "annotationdefaults": {
           "arrowcolor": "#2a3f5f",
           "arrowhead": 0,
           "arrowwidth": 1
          },
          "autotypenumbers": "strict",
          "coloraxis": {
           "colorbar": {
            "outlinewidth": 0,
            "ticks": ""
           }
          },
          "colorscale": {
           "diverging": [
            [
             0,
             "#8e0152"
            ],
            [
             0.1,
             "#c51b7d"
            ],
            [
             0.2,
             "#de77ae"
            ],
            [
             0.3,
             "#f1b6da"
            ],
            [
             0.4,
             "#fde0ef"
            ],
            [
             0.5,
             "#f7f7f7"
            ],
            [
             0.6,
             "#e6f5d0"
            ],
            [
             0.7,
             "#b8e186"
            ],
            [
             0.8,
             "#7fbc41"
            ],
            [
             0.9,
             "#4d9221"
            ],
            [
             1,
             "#276419"
            ]
           ],
           "sequential": [
            [
             0,
             "#0d0887"
            ],
            [
             0.1111111111111111,
             "#46039f"
            ],
            [
             0.2222222222222222,
             "#7201a8"
            ],
            [
             0.3333333333333333,
             "#9c179e"
            ],
            [
             0.4444444444444444,
             "#bd3786"
            ],
            [
             0.5555555555555556,
             "#d8576b"
            ],
            [
             0.6666666666666666,
             "#ed7953"
            ],
            [
             0.7777777777777778,
             "#fb9f3a"
            ],
            [
             0.8888888888888888,
             "#fdca26"
            ],
            [
             1,
             "#f0f921"
            ]
           ],
           "sequentialminus": [
            [
             0,
             "#0d0887"
            ],
            [
             0.1111111111111111,
             "#46039f"
            ],
            [
             0.2222222222222222,
             "#7201a8"
            ],
            [
             0.3333333333333333,
             "#9c179e"
            ],
            [
             0.4444444444444444,
             "#bd3786"
            ],
            [
             0.5555555555555556,
             "#d8576b"
            ],
            [
             0.6666666666666666,
             "#ed7953"
            ],
            [
             0.7777777777777778,
             "#fb9f3a"
            ],
            [
             0.8888888888888888,
             "#fdca26"
            ],
            [
             1,
             "#f0f921"
            ]
           ]
          },
          "colorway": [
           "#636efa",
           "#EF553B",
           "#00cc96",
           "#ab63fa",
           "#FFA15A",
           "#19d3f3",
           "#FF6692",
           "#B6E880",
           "#FF97FF",
           "#FECB52"
          ],
          "font": {
           "color": "#2a3f5f"
          },
          "geo": {
           "bgcolor": "white",
           "lakecolor": "white",
           "landcolor": "#E5ECF6",
           "showlakes": true,
           "showland": true,
           "subunitcolor": "white"
          },
          "hoverlabel": {
           "align": "left"
          },
          "hovermode": "closest",
          "mapbox": {
           "style": "light"
          },
          "paper_bgcolor": "white",
          "plot_bgcolor": "#E5ECF6",
          "polar": {
           "angularaxis": {
            "gridcolor": "white",
            "linecolor": "white",
            "ticks": ""
           },
           "bgcolor": "#E5ECF6",
           "radialaxis": {
            "gridcolor": "white",
            "linecolor": "white",
            "ticks": ""
           }
          },
          "scene": {
           "xaxis": {
            "backgroundcolor": "#E5ECF6",
            "gridcolor": "white",
            "gridwidth": 2,
            "linecolor": "white",
            "showbackground": true,
            "ticks": "",
            "zerolinecolor": "white"
           },
           "yaxis": {
            "backgroundcolor": "#E5ECF6",
            "gridcolor": "white",
            "gridwidth": 2,
            "linecolor": "white",
            "showbackground": true,
            "ticks": "",
            "zerolinecolor": "white"
           },
           "zaxis": {
            "backgroundcolor": "#E5ECF6",
            "gridcolor": "white",
            "gridwidth": 2,
            "linecolor": "white",
            "showbackground": true,
            "ticks": "",
            "zerolinecolor": "white"
           }
          },
          "shapedefaults": {
           "line": {
            "color": "#2a3f5f"
           }
          },
          "ternary": {
           "aaxis": {
            "gridcolor": "white",
            "linecolor": "white",
            "ticks": ""
           },
           "baxis": {
            "gridcolor": "white",
            "linecolor": "white",
            "ticks": ""
           },
           "bgcolor": "#E5ECF6",
           "caxis": {
            "gridcolor": "white",
            "linecolor": "white",
            "ticks": ""
           }
          },
          "title": {
           "x": 0.05
          },
          "xaxis": {
           "automargin": true,
           "gridcolor": "white",
           "linecolor": "white",
           "ticks": "",
           "title": {
            "standoff": 15
           },
           "zerolinecolor": "white",
           "zerolinewidth": 2
          },
          "yaxis": {
           "automargin": true,
           "gridcolor": "white",
           "linecolor": "white",
           "ticks": "",
           "title": {
            "standoff": 15
           },
           "zerolinecolor": "white",
           "zerolinewidth": 2
          }
         }
        },
        "title": {
         "text": "<b>Product Associations (Size = Lift Strength)</b>"
        },
        "xaxis": {
         "anchor": "y",
         "domain": [
          0,
          1
         ],
         "title": {
          "text": "antecedents"
         }
        },
        "yaxis": {
         "anchor": "x",
         "domain": [
          0,
          1
         ],
         "title": {
          "text": "consequents"
         }
        }
       }
      }
     },
     "metadata": {},
     "output_type": "display_data"
    }
   ],
   "source": [
    "\"\"\"\n",
    "### 1.2 Association Network\n",
    "\"\"\"\n",
    "\n",
    "# Create edges from strong rules (lift > 3)\n",
    "edges = rules[rules['lift']>3][['antecedents','consequents','lift']]\n",
    "edges['antecedents'] = edges['antecedents'].apply(lambda x: list(x)[0])\n",
    "edges['consequents'] = edges['consequents'].apply(lambda x: list(x)[0])\n",
    "\n",
    "fig2 = px.scatter(edges, x='antecedents', y='consequents',\n",
    "                 size='lift', color='lift',\n",
    "                 title='<b>Product Associations (Size = Lift Strength)</b>',\n",
    "                 hover_data=['lift'])\n",
    "fig2.update_traces(marker=dict(line=dict(width=1, color='DarkSlateGrey')))\n",
    "fig2.show()"
   ]
  },
  {
   "cell_type": "markdown",
   "id": "fe18f184",
   "metadata": {},
   "source": [
    "## Enhanced Frequency Chart\n",
    "Creates a horizontal bar chart showing product popularity with improved design.\n",
    "\n",
    "Uses pastel colors for the bars for a soft, consistent look.\n",
    "\n",
    "Adds detailed hover info showing product name and exact purchase count.\n",
    "\n",
    "Centers the chart title \"Product Popularity Ranking\" for clarity.\n",
    "\n",
    "Adds axis labels for better understanding.\n",
    "\n",
    "Sets transparent background and adjusts margins to avoid cutting off product names.\n",
    "\n",
    "Sets chart height for better viewing and mobile responsiveness.\n",
    "\n",
    "Displays the interactive chart."
   ]
  },
  {
   "cell_type": "code",
   "execution_count": 18,
   "id": "06be007c",
   "metadata": {},
   "outputs": [
    {
     "data": {
      "application/vnd.plotly.v1+json": {
       "config": {
        "plotlyServerURL": "https://plot.ly"
       },
       "data": [
        {
         "hovertemplate": "<b>%{y}</b><br>%{x:,} purchases<extra></extra>",
         "marker": {
          "color": [
           "rgb(102, 197, 204)",
           "rgb(246, 207, 113)",
           "rgb(248, 156, 116)",
           "rgb(220, 176, 242)",
           "rgb(135, 197, 95)",
           "rgb(158, 185, 243)",
           "rgb(254, 136, 177)",
           "rgb(201, 219, 116)",
           "rgb(139, 224, 164)",
           "rgb(180, 151, 231)",
           "rgb(179, 179, 179)"
          ]
         },
         "orientation": "h",
         "type": "bar",
         "x": {
          "bdata": "GwEfASEBKgEqATIBNQE5AUMBRwE=",
          "dtype": "i2"
         },
         "y": [
          "cookies",
          "chips",
          "eggs",
          "cheese",
          "milk",
          "bread",
          "beer",
          "diapers",
          "cola",
          "butter"
         ]
        }
       ],
       "layout": {
        "height": 600,
        "margin": {
         "l": 150
        },
        "plot_bgcolor": "rgba(0,0,0,0)",
        "template": {
         "data": {
          "bar": [
           {
            "error_x": {
             "color": "#2a3f5f"
            },
            "error_y": {
             "color": "#2a3f5f"
            },
            "marker": {
             "line": {
              "color": "#E5ECF6",
              "width": 0.5
             },
             "pattern": {
              "fillmode": "overlay",
              "size": 10,
              "solidity": 0.2
             }
            },
            "type": "bar"
           }
          ],
          "barpolar": [
           {
            "marker": {
             "line": {
              "color": "#E5ECF6",
              "width": 0.5
             },
             "pattern": {
              "fillmode": "overlay",
              "size": 10,
              "solidity": 0.2
             }
            },
            "type": "barpolar"
           }
          ],
          "carpet": [
           {
            "aaxis": {
             "endlinecolor": "#2a3f5f",
             "gridcolor": "white",
             "linecolor": "white",
             "minorgridcolor": "white",
             "startlinecolor": "#2a3f5f"
            },
            "baxis": {
             "endlinecolor": "#2a3f5f",
             "gridcolor": "white",
             "linecolor": "white",
             "minorgridcolor": "white",
             "startlinecolor": "#2a3f5f"
            },
            "type": "carpet"
           }
          ],
          "choropleth": [
           {
            "colorbar": {
             "outlinewidth": 0,
             "ticks": ""
            },
            "type": "choropleth"
           }
          ],
          "contour": [
           {
            "colorbar": {
             "outlinewidth": 0,
             "ticks": ""
            },
            "colorscale": [
             [
              0,
              "#0d0887"
             ],
             [
              0.1111111111111111,
              "#46039f"
             ],
             [
              0.2222222222222222,
              "#7201a8"
             ],
             [
              0.3333333333333333,
              "#9c179e"
             ],
             [
              0.4444444444444444,
              "#bd3786"
             ],
             [
              0.5555555555555556,
              "#d8576b"
             ],
             [
              0.6666666666666666,
              "#ed7953"
             ],
             [
              0.7777777777777778,
              "#fb9f3a"
             ],
             [
              0.8888888888888888,
              "#fdca26"
             ],
             [
              1,
              "#f0f921"
             ]
            ],
            "type": "contour"
           }
          ],
          "contourcarpet": [
           {
            "colorbar": {
             "outlinewidth": 0,
             "ticks": ""
            },
            "type": "contourcarpet"
           }
          ],
          "heatmap": [
           {
            "colorbar": {
             "outlinewidth": 0,
             "ticks": ""
            },
            "colorscale": [
             [
              0,
              "#0d0887"
             ],
             [
              0.1111111111111111,
              "#46039f"
             ],
             [
              0.2222222222222222,
              "#7201a8"
             ],
             [
              0.3333333333333333,
              "#9c179e"
             ],
             [
              0.4444444444444444,
              "#bd3786"
             ],
             [
              0.5555555555555556,
              "#d8576b"
             ],
             [
              0.6666666666666666,
              "#ed7953"
             ],
             [
              0.7777777777777778,
              "#fb9f3a"
             ],
             [
              0.8888888888888888,
              "#fdca26"
             ],
             [
              1,
              "#f0f921"
             ]
            ],
            "type": "heatmap"
           }
          ],
          "histogram": [
           {
            "marker": {
             "pattern": {
              "fillmode": "overlay",
              "size": 10,
              "solidity": 0.2
             }
            },
            "type": "histogram"
           }
          ],
          "histogram2d": [
           {
            "colorbar": {
             "outlinewidth": 0,
             "ticks": ""
            },
            "colorscale": [
             [
              0,
              "#0d0887"
             ],
             [
              0.1111111111111111,
              "#46039f"
             ],
             [
              0.2222222222222222,
              "#7201a8"
             ],
             [
              0.3333333333333333,
              "#9c179e"
             ],
             [
              0.4444444444444444,
              "#bd3786"
             ],
             [
              0.5555555555555556,
              "#d8576b"
             ],
             [
              0.6666666666666666,
              "#ed7953"
             ],
             [
              0.7777777777777778,
              "#fb9f3a"
             ],
             [
              0.8888888888888888,
              "#fdca26"
             ],
             [
              1,
              "#f0f921"
             ]
            ],
            "type": "histogram2d"
           }
          ],
          "histogram2dcontour": [
           {
            "colorbar": {
             "outlinewidth": 0,
             "ticks": ""
            },
            "colorscale": [
             [
              0,
              "#0d0887"
             ],
             [
              0.1111111111111111,
              "#46039f"
             ],
             [
              0.2222222222222222,
              "#7201a8"
             ],
             [
              0.3333333333333333,
              "#9c179e"
             ],
             [
              0.4444444444444444,
              "#bd3786"
             ],
             [
              0.5555555555555556,
              "#d8576b"
             ],
             [
              0.6666666666666666,
              "#ed7953"
             ],
             [
              0.7777777777777778,
              "#fb9f3a"
             ],
             [
              0.8888888888888888,
              "#fdca26"
             ],
             [
              1,
              "#f0f921"
             ]
            ],
            "type": "histogram2dcontour"
           }
          ],
          "mesh3d": [
           {
            "colorbar": {
             "outlinewidth": 0,
             "ticks": ""
            },
            "type": "mesh3d"
           }
          ],
          "parcoords": [
           {
            "line": {
             "colorbar": {
              "outlinewidth": 0,
              "ticks": ""
             }
            },
            "type": "parcoords"
           }
          ],
          "pie": [
           {
            "automargin": true,
            "type": "pie"
           }
          ],
          "scatter": [
           {
            "fillpattern": {
             "fillmode": "overlay",
             "size": 10,
             "solidity": 0.2
            },
            "type": "scatter"
           }
          ],
          "scatter3d": [
           {
            "line": {
             "colorbar": {
              "outlinewidth": 0,
              "ticks": ""
             }
            },
            "marker": {
             "colorbar": {
              "outlinewidth": 0,
              "ticks": ""
             }
            },
            "type": "scatter3d"
           }
          ],
          "scattercarpet": [
           {
            "marker": {
             "colorbar": {
              "outlinewidth": 0,
              "ticks": ""
             }
            },
            "type": "scattercarpet"
           }
          ],
          "scattergeo": [
           {
            "marker": {
             "colorbar": {
              "outlinewidth": 0,
              "ticks": ""
             }
            },
            "type": "scattergeo"
           }
          ],
          "scattergl": [
           {
            "marker": {
             "colorbar": {
              "outlinewidth": 0,
              "ticks": ""
             }
            },
            "type": "scattergl"
           }
          ],
          "scattermap": [
           {
            "marker": {
             "colorbar": {
              "outlinewidth": 0,
              "ticks": ""
             }
            },
            "type": "scattermap"
           }
          ],
          "scattermapbox": [
           {
            "marker": {
             "colorbar": {
              "outlinewidth": 0,
              "ticks": ""
             }
            },
            "type": "scattermapbox"
           }
          ],
          "scatterpolar": [
           {
            "marker": {
             "colorbar": {
              "outlinewidth": 0,
              "ticks": ""
             }
            },
            "type": "scatterpolar"
           }
          ],
          "scatterpolargl": [
           {
            "marker": {
             "colorbar": {
              "outlinewidth": 0,
              "ticks": ""
             }
            },
            "type": "scatterpolargl"
           }
          ],
          "scatterternary": [
           {
            "marker": {
             "colorbar": {
              "outlinewidth": 0,
              "ticks": ""
             }
            },
            "type": "scatterternary"
           }
          ],
          "surface": [
           {
            "colorbar": {
             "outlinewidth": 0,
             "ticks": ""
            },
            "colorscale": [
             [
              0,
              "#0d0887"
             ],
             [
              0.1111111111111111,
              "#46039f"
             ],
             [
              0.2222222222222222,
              "#7201a8"
             ],
             [
              0.3333333333333333,
              "#9c179e"
             ],
             [
              0.4444444444444444,
              "#bd3786"
             ],
             [
              0.5555555555555556,
              "#d8576b"
             ],
             [
              0.6666666666666666,
              "#ed7953"
             ],
             [
              0.7777777777777778,
              "#fb9f3a"
             ],
             [
              0.8888888888888888,
              "#fdca26"
             ],
             [
              1,
              "#f0f921"
             ]
            ],
            "type": "surface"
           }
          ],
          "table": [
           {
            "cells": {
             "fill": {
              "color": "#EBF0F8"
             },
             "line": {
              "color": "white"
             }
            },
            "header": {
             "fill": {
              "color": "#C8D4E3"
             },
             "line": {
              "color": "white"
             }
            },
            "type": "table"
           }
          ]
         },
         "layout": {
          "annotationdefaults": {
           "arrowcolor": "#2a3f5f",
           "arrowhead": 0,
           "arrowwidth": 1
          },
          "autotypenumbers": "strict",
          "coloraxis": {
           "colorbar": {
            "outlinewidth": 0,
            "ticks": ""
           }
          },
          "colorscale": {
           "diverging": [
            [
             0,
             "#8e0152"
            ],
            [
             0.1,
             "#c51b7d"
            ],
            [
             0.2,
             "#de77ae"
            ],
            [
             0.3,
             "#f1b6da"
            ],
            [
             0.4,
             "#fde0ef"
            ],
            [
             0.5,
             "#f7f7f7"
            ],
            [
             0.6,
             "#e6f5d0"
            ],
            [
             0.7,
             "#b8e186"
            ],
            [
             0.8,
             "#7fbc41"
            ],
            [
             0.9,
             "#4d9221"
            ],
            [
             1,
             "#276419"
            ]
           ],
           "sequential": [
            [
             0,
             "#0d0887"
            ],
            [
             0.1111111111111111,
             "#46039f"
            ],
            [
             0.2222222222222222,
             "#7201a8"
            ],
            [
             0.3333333333333333,
             "#9c179e"
            ],
            [
             0.4444444444444444,
             "#bd3786"
            ],
            [
             0.5555555555555556,
             "#d8576b"
            ],
            [
             0.6666666666666666,
             "#ed7953"
            ],
            [
             0.7777777777777778,
             "#fb9f3a"
            ],
            [
             0.8888888888888888,
             "#fdca26"
            ],
            [
             1,
             "#f0f921"
            ]
           ],
           "sequentialminus": [
            [
             0,
             "#0d0887"
            ],
            [
             0.1111111111111111,
             "#46039f"
            ],
            [
             0.2222222222222222,
             "#7201a8"
            ],
            [
             0.3333333333333333,
             "#9c179e"
            ],
            [
             0.4444444444444444,
             "#bd3786"
            ],
            [
             0.5555555555555556,
             "#d8576b"
            ],
            [
             0.6666666666666666,
             "#ed7953"
            ],
            [
             0.7777777777777778,
             "#fb9f3a"
            ],
            [
             0.8888888888888888,
             "#fdca26"
            ],
            [
             1,
             "#f0f921"
            ]
           ]
          },
          "colorway": [
           "#636efa",
           "#EF553B",
           "#00cc96",
           "#ab63fa",
           "#FFA15A",
           "#19d3f3",
           "#FF6692",
           "#B6E880",
           "#FF97FF",
           "#FECB52"
          ],
          "font": {
           "color": "#2a3f5f"
          },
          "geo": {
           "bgcolor": "white",
           "lakecolor": "white",
           "landcolor": "#E5ECF6",
           "showlakes": true,
           "showland": true,
           "subunitcolor": "white"
          },
          "hoverlabel": {
           "align": "left"
          },
          "hovermode": "closest",
          "mapbox": {
           "style": "light"
          },
          "paper_bgcolor": "white",
          "plot_bgcolor": "#E5ECF6",
          "polar": {
           "angularaxis": {
            "gridcolor": "white",
            "linecolor": "white",
            "ticks": ""
           },
           "bgcolor": "#E5ECF6",
           "radialaxis": {
            "gridcolor": "white",
            "linecolor": "white",
            "ticks": ""
           }
          },
          "scene": {
           "xaxis": {
            "backgroundcolor": "#E5ECF6",
            "gridcolor": "white",
            "gridwidth": 2,
            "linecolor": "white",
            "showbackground": true,
            "ticks": "",
            "zerolinecolor": "white"
           },
           "yaxis": {
            "backgroundcolor": "#E5ECF6",
            "gridcolor": "white",
            "gridwidth": 2,
            "linecolor": "white",
            "showbackground": true,
            "ticks": "",
            "zerolinecolor": "white"
           },
           "zaxis": {
            "backgroundcolor": "#E5ECF6",
            "gridcolor": "white",
            "gridwidth": 2,
            "linecolor": "white",
            "showbackground": true,
            "ticks": "",
            "zerolinecolor": "white"
           }
          },
          "shapedefaults": {
           "line": {
            "color": "#2a3f5f"
           }
          },
          "ternary": {
           "aaxis": {
            "gridcolor": "white",
            "linecolor": "white",
            "ticks": ""
           },
           "baxis": {
            "gridcolor": "white",
            "linecolor": "white",
            "ticks": ""
           },
           "bgcolor": "#E5ECF6",
           "caxis": {
            "gridcolor": "white",
            "linecolor": "white",
            "ticks": ""
           }
          },
          "title": {
           "x": 0.05
          },
          "xaxis": {
           "automargin": true,
           "gridcolor": "white",
           "linecolor": "white",
           "ticks": "",
           "title": {
            "standoff": 15
           },
           "zerolinecolor": "white",
           "zerolinewidth": 2
          },
          "yaxis": {
           "automargin": true,
           "gridcolor": "white",
           "linecolor": "white",
           "ticks": "",
           "title": {
            "standoff": 15
           },
           "zerolinecolor": "white",
           "zerolinewidth": 2
          }
         }
        },
        "title": {
         "text": "<b>Product Popularity Ranking</b>",
         "x": 0.5
        },
        "xaxis": {
         "title": {
          "text": "Number of Transactions"
         }
        },
        "yaxis": {
         "title": {
          "text": "Product"
         }
        }
       }
      }
     },
     "metadata": {},
     "output_type": "display_data"
    }
   ],
   "source": [
    "\"\"\"\n",
    "**Design Principles Applied:**\n",
    "- Consistent color scales\n",
    "- Clear labels and titles\n",
    "- Strategic white space\n",
    "- Mobile-responsive sizing\n",
    "\"\"\"\n",
    "# %%\n",
    "# ENHANCED FREQUENCY CHART\n",
    "fig3 = go.Figure()\n",
    "fig3.add_trace(go.Bar(\n",
    "    y=item_freq.index,\n",
    "    x=item_freq.values,\n",
    "    orientation='h',\n",
    "    marker_color=px.colors.qualitative.Pastel,\n",
    "    hovertemplate=\"<b>%{y}</b><br>%{x:,} purchases<extra></extra>\"\n",
    "))\n",
    "fig3.update_layout(\n",
    "    title={'text':\"<b>Product Popularity Ranking</b>\", 'x':0.5},\n",
    "    xaxis_title=\"Number of Transactions\",\n",
    "    yaxis_title=\"Product\",\n",
    "    plot_bgcolor='rgba(0,0,0,0)',\n",
    "    height=600,\n",
    "    margin=dict(l=150)  # Prevent label clipping\n",
    ")\n",
    "fig3.show()"
   ]
  },
  {
   "cell_type": "markdown",
   "id": "1027d431",
   "metadata": {},
   "source": [
    "## Interactive Rules Explorer\n",
    "Creates a scatter plot to explore association rules visually.\n",
    "\n",
    "Plots rules by support (x-axis, on a log scale) and confidence (y-axis).\n",
    "\n",
    "Circle size and color represent the lift metric (rule strength).\n",
    "\n",
    "Hover tooltip shows the rule in the format \"antecedent → consequent\".\n",
    "\n",
    "Allows zooming, panning, and click-to-select for interactive exploration.\n",
    "\n",
    "Title: \"Rule Quality Explorer\" with clear axis labels for support, confidence, and lift.\n",
    "\n",
    "Displays the interactive plot for detailed rule analysis."
   ]
  },
  {
   "cell_type": "code",
   "execution_count": 19,
   "id": "ae01503a",
   "metadata": {},
   "outputs": [
    {
     "data": {
      "application/vnd.plotly.v1+json": {
       "config": {
        "plotlyServerURL": "https://plot.ly"
       },
       "data": [
        {
         "hovertemplate": "<b>%{hovertext}</b><br><br>Support (Frequency)=%{x}<br>Confidence (Reliability)=%{y}<br>Lift (Strength)=%{marker.color}<extra></extra>",
         "hovertext": [
          "butter → beer",
          "beer → butter",
          "chips → beer",
          "beer → chips",
          "cola → beer",
          "beer → cola",
          "cookies → beer",
          "beer → cookies",
          "butter → bread",
          "bread → butter",
          "diapers → bread",
          "bread → diapers",
          "milk → bread",
          "bread → milk",
          "cheese → butter",
          "butter → cheese",
          "cola → butter",
          "butter → cola",
          "cookies → butter",
          "butter → cookies",
          "eggs → butter",
          "butter → eggs",
          "cheese → chips",
          "chips → cheese",
          "cheese → eggs",
          "eggs → cheese",
          "cheese → milk",
          "milk → cheese",
          "chips → cookies",
          "cookies → chips",
          "eggs → cola",
          "cola → eggs",
          "cola → milk",
          "milk → cola",
          "diapers → eggs",
          "eggs → diapers",
          "eggs → milk",
          "milk → eggs",
          "chips → bread",
          "chips → beer",
          "beer → chips",
          "chips → beer",
          "beer → chips",
          "bread → chips",
          "beer → bread",
          "cookies → beer",
          "beer → cookies",
          "cookies → beer",
          "beer → cookies",
          "bread → beer",
          "diapers → bread",
          "bread → diapers",
          "cheese → butter",
          "butter → cheese",
          "chips → beer",
          "beer → chips",
          "cola → beer",
          "beer → cola",
          "beer → butter",
          "butter → beer",
          "cola → beer",
          "beer → cola",
          "beer → cookies",
          "cookies → beer",
          "cookies → butter",
          "butter → cookies",
          "beer → cookies",
          "cookies → beer",
          "butter → beer",
          "beer → butter",
          "butter → beer",
          "beer → butter",
          "cheese → chips",
          "chips → cheese",
          "cheese → cookies",
          "cookies → cheese",
          "chips → beer",
          "beer → chips",
          "chips → cola",
          "cola → chips",
          "chips → beer",
          "beer → chips",
          "diapers → beer",
          "diapers → chips",
          "chips → diapers",
          "beer → diapers",
          "chips → beer",
          "beer → chips",
          "cola → beer",
          "beer → cola",
          "beer → cookies",
          "cookies → beer",
          "cola → beer",
          "beer → cola",
          "eggs → cola",
          "cola → eggs",
          "beer → milk",
          "beer → cola",
          "cola → beer",
          "milk → beer",
          "eggs → beer",
          "beer → eggs",
          "beer → milk",
          "cookies → beer",
          "beer → cookies",
          "cookies → beer",
          "beer → cookies",
          "milk → beer",
          "butter → bread",
          "cola → butter",
          "butter → cola",
          "cola → butter",
          "butter → cola",
          "bread → butter",
          "diapers → bread",
          "bread → diapers",
          "eggs → butter",
          "butter → eggs",
          "butter → bread",
          "milk → butter",
          "butter → milk",
          "milk → butter",
          "butter → milk",
          "bread → butter",
          "cheese → chips",
          "chips → cheese",
          "cheese → chips",
          "chips → cheese",
          "cheese → bread",
          "cheese → eggs",
          "eggs → cheese",
          "cheese → eggs",
          "eggs → cheese",
          "bread → cheese",
          "cheese → bread",
          "cheese → milk",
          "milk → cheese",
          "cheese → milk",
          "milk → cheese",
          "bread → cheese",
          "chips → cookies",
          "cookies → chips",
          "chips → cookies",
          "cookies → chips",
          "diapers → bread",
          "diapers → chips",
          "chips → diapers",
          "diapers → chips",
          "chips → diapers",
          "bread → diapers",
          "cola → bread",
          "cookies → cola",
          "cola → cookies",
          "cookies → cola",
          "cola → cookies",
          "bread → cola",
          "cola → bread",
          "milk → cola",
          "cola → milk",
          "milk → cola",
          "cola → milk",
          "bread → cola",
          "cheese → butter",
          "cheese → chips",
          "chips → cheese",
          "cheese → chips",
          "chips → cheese",
          "butter → cheese",
          "cheese → butter",
          "cheese → cola",
          "cola → cheese",
          "butter → cheese",
          "cheese → butter",
          "cheese → eggs",
          "eggs → cheese",
          "cheese → eggs",
          "eggs → cheese",
          "butter → cheese",
          "diapers → chips",
          "chips → diapers",
          "cola → butter",
          "butter → cola",
          "cola → butter",
          "butter → cola",
          "eggs → butter",
          "eggs → cola",
          "butter → eggs",
          "eggs → butter",
          "cola → eggs",
          "butter → eggs",
          "cola → butter",
          "butter → cola",
          "cola → butter",
          "butter → cola",
          "eggs → butter",
          "butter → eggs",
          "cookies → butter",
          "butter → cookies",
          "cookies → butter",
          "butter → cookies",
          "diapers → eggs",
          "eggs → diapers",
          "cheese → chips",
          "chips → cheese",
          "chips → cheese",
          "cheese → chips",
          "cheese → milk",
          "cheese → cola",
          "cola → cheese",
          "milk → cheese",
          "cheese → diapers",
          "cheese → eggs",
          "diapers → cheese",
          "cheese → diapers",
          "eggs → cheese",
          "diapers → cheese",
          "cheese → milk",
          "cheese → eggs",
          "eggs → cheese",
          "cheese → eggs",
          "eggs → cheese",
          "milk → cheese",
          "cola → chips",
          "chips → cookies",
          "cookies → chips",
          "chips → cola",
          "diapers → chips",
          "chips → diapers",
          "diapers → chips",
          "chips → diapers",
          "diapers → chips",
          "chips → diapers",
          "eggs → cookies",
          "eggs → chips",
          "chips → eggs",
          "eggs → chips",
          "chips → eggs",
          "cookies → eggs",
          "diapers → eggs",
          "eggs → diapers",
          "diapers → eggs",
          "eggs → diapers",
          "diapers → chips",
          "chips → diapers",
          "diapers → chips",
          "chips → diapers",
          "eggs → cola",
          "cola → eggs",
          "diapers → eggs",
          "eggs → diapers",
          "eggs → milk",
          "eggs → cola",
          "cola → eggs",
          "eggs → cola",
          "cola → eggs",
          "milk → eggs"
         ],
         "legendgroup": "",
         "marker": {
          "color": {
           "bdata": "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",
           "dtype": "f8"
          },
          "coloraxis": "coloraxis",
          "size": {
           "bdata": "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",
           "dtype": "f8"
          },
          "sizemode": "area",
          "sizeref": 0.003292692105065102,
          "symbol": "circle"
         },
         "mode": "markers",
         "name": "",
         "orientation": "v",
         "showlegend": false,
         "type": "scatter",
         "x": {
          "bdata": "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",
          "dtype": "f8"
         },
         "xaxis": "x",
         "y": {
          "bdata": "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",
          "dtype": "f8"
         },
         "yaxis": "y"
        }
       ],
       "layout": {
        "clickmode": "event+select",
        "coloraxis": {
         "colorbar": {
          "title": {
           "text": "Lift (Strength)"
          }
         },
         "colorscale": [
          [
           0,
           "#0d0887"
          ],
          [
           0.1111111111111111,
           "#46039f"
          ],
          [
           0.2222222222222222,
           "#7201a8"
          ],
          [
           0.3333333333333333,
           "#9c179e"
          ],
          [
           0.4444444444444444,
           "#bd3786"
          ],
          [
           0.5555555555555556,
           "#d8576b"
          ],
          [
           0.6666666666666666,
           "#ed7953"
          ],
          [
           0.7777777777777778,
           "#fb9f3a"
          ],
          [
           0.8888888888888888,
           "#fdca26"
          ],
          [
           1,
           "#f0f921"
          ]
         ]
        },
        "legend": {
         "itemsizing": "constant",
         "tracegroupgap": 0
        },
        "template": {
         "data": {
          "bar": [
           {
            "error_x": {
             "color": "#2a3f5f"
            },
            "error_y": {
             "color": "#2a3f5f"
            },
            "marker": {
             "line": {
              "color": "#E5ECF6",
              "width": 0.5
             },
             "pattern": {
              "fillmode": "overlay",
              "size": 10,
              "solidity": 0.2
             }
            },
            "type": "bar"
           }
          ],
          "barpolar": [
           {
            "marker": {
             "line": {
              "color": "#E5ECF6",
              "width": 0.5
             },
             "pattern": {
              "fillmode": "overlay",
              "size": 10,
              "solidity": 0.2
             }
            },
            "type": "barpolar"
           }
          ],
          "carpet": [
           {
            "aaxis": {
             "endlinecolor": "#2a3f5f",
             "gridcolor": "white",
             "linecolor": "white",
             "minorgridcolor": "white",
             "startlinecolor": "#2a3f5f"
            },
            "baxis": {
             "endlinecolor": "#2a3f5f",
             "gridcolor": "white",
             "linecolor": "white",
             "minorgridcolor": "white",
             "startlinecolor": "#2a3f5f"
            },
            "type": "carpet"
           }
          ],
          "choropleth": [
           {
            "colorbar": {
             "outlinewidth": 0,
             "ticks": ""
            },
            "type": "choropleth"
           }
          ],
          "contour": [
           {
            "colorbar": {
             "outlinewidth": 0,
             "ticks": ""
            },
            "colorscale": [
             [
              0,
              "#0d0887"
             ],
             [
              0.1111111111111111,
              "#46039f"
             ],
             [
              0.2222222222222222,
              "#7201a8"
             ],
             [
              0.3333333333333333,
              "#9c179e"
             ],
             [
              0.4444444444444444,
              "#bd3786"
             ],
             [
              0.5555555555555556,
              "#d8576b"
             ],
             [
              0.6666666666666666,
              "#ed7953"
             ],
             [
              0.7777777777777778,
              "#fb9f3a"
             ],
             [
              0.8888888888888888,
              "#fdca26"
             ],
             [
              1,
              "#f0f921"
             ]
            ],
            "type": "contour"
           }
          ],
          "contourcarpet": [
           {
            "colorbar": {
             "outlinewidth": 0,
             "ticks": ""
            },
            "type": "contourcarpet"
           }
          ],
          "heatmap": [
           {
            "colorbar": {
             "outlinewidth": 0,
             "ticks": ""
            },
            "colorscale": [
             [
              0,
              "#0d0887"
             ],
             [
              0.1111111111111111,
              "#46039f"
             ],
             [
              0.2222222222222222,
              "#7201a8"
             ],
             [
              0.3333333333333333,
              "#9c179e"
             ],
             [
              0.4444444444444444,
              "#bd3786"
             ],
             [
              0.5555555555555556,
              "#d8576b"
             ],
             [
              0.6666666666666666,
              "#ed7953"
             ],
             [
              0.7777777777777778,
              "#fb9f3a"
             ],
             [
              0.8888888888888888,
              "#fdca26"
             ],
             [
              1,
              "#f0f921"
             ]
            ],
            "type": "heatmap"
           }
          ],
          "histogram": [
           {
            "marker": {
             "pattern": {
              "fillmode": "overlay",
              "size": 10,
              "solidity": 0.2
             }
            },
            "type": "histogram"
           }
          ],
          "histogram2d": [
           {
            "colorbar": {
             "outlinewidth": 0,
             "ticks": ""
            },
            "colorscale": [
             [
              0,
              "#0d0887"
             ],
             [
              0.1111111111111111,
              "#46039f"
             ],
             [
              0.2222222222222222,
              "#7201a8"
             ],
             [
              0.3333333333333333,
              "#9c179e"
             ],
             [
              0.4444444444444444,
              "#bd3786"
             ],
             [
              0.5555555555555556,
              "#d8576b"
             ],
             [
              0.6666666666666666,
              "#ed7953"
             ],
             [
              0.7777777777777778,
              "#fb9f3a"
             ],
             [
              0.8888888888888888,
              "#fdca26"
             ],
             [
              1,
              "#f0f921"
             ]
            ],
            "type": "histogram2d"
           }
          ],
          "histogram2dcontour": [
           {
            "colorbar": {
             "outlinewidth": 0,
             "ticks": ""
            },
            "colorscale": [
             [
              0,
              "#0d0887"
             ],
             [
              0.1111111111111111,
              "#46039f"
             ],
             [
              0.2222222222222222,
              "#7201a8"
             ],
             [
              0.3333333333333333,
              "#9c179e"
             ],
             [
              0.4444444444444444,
              "#bd3786"
             ],
             [
              0.5555555555555556,
              "#d8576b"
             ],
             [
              0.6666666666666666,
              "#ed7953"
             ],
             [
              0.7777777777777778,
              "#fb9f3a"
             ],
             [
              0.8888888888888888,
              "#fdca26"
             ],
             [
              1,
              "#f0f921"
             ]
            ],
            "type": "histogram2dcontour"
           }
          ],
          "mesh3d": [
           {
            "colorbar": {
             "outlinewidth": 0,
             "ticks": ""
            },
            "type": "mesh3d"
           }
          ],
          "parcoords": [
           {
            "line": {
             "colorbar": {
              "outlinewidth": 0,
              "ticks": ""
             }
            },
            "type": "parcoords"
           }
          ],
          "pie": [
           {
            "automargin": true,
            "type": "pie"
           }
          ],
          "scatter": [
           {
            "fillpattern": {
             "fillmode": "overlay",
             "size": 10,
             "solidity": 0.2
            },
            "type": "scatter"
           }
          ],
          "scatter3d": [
           {
            "line": {
             "colorbar": {
              "outlinewidth": 0,
              "ticks": ""
             }
            },
            "marker": {
             "colorbar": {
              "outlinewidth": 0,
              "ticks": ""
             }
            },
            "type": "scatter3d"
           }
          ],
          "scattercarpet": [
           {
            "marker": {
             "colorbar": {
              "outlinewidth": 0,
              "ticks": ""
             }
            },
            "type": "scattercarpet"
           }
          ],
          "scattergeo": [
           {
            "marker": {
             "colorbar": {
              "outlinewidth": 0,
              "ticks": ""
             }
            },
            "type": "scattergeo"
           }
          ],
          "scattergl": [
           {
            "marker": {
             "colorbar": {
              "outlinewidth": 0,
              "ticks": ""
             }
            },
            "type": "scattergl"
           }
          ],
          "scattermap": [
           {
            "marker": {
             "colorbar": {
              "outlinewidth": 0,
              "ticks": ""
             }
            },
            "type": "scattermap"
           }
          ],
          "scattermapbox": [
           {
            "marker": {
             "colorbar": {
              "outlinewidth": 0,
              "ticks": ""
             }
            },
            "type": "scattermapbox"
           }
          ],
          "scatterpolar": [
           {
            "marker": {
             "colorbar": {
              "outlinewidth": 0,
              "ticks": ""
             }
            },
            "type": "scatterpolar"
           }
          ],
          "scatterpolargl": [
           {
            "marker": {
             "colorbar": {
              "outlinewidth": 0,
              "ticks": ""
             }
            },
            "type": "scatterpolargl"
           }
          ],
          "scatterternary": [
           {
            "marker": {
             "colorbar": {
              "outlinewidth": 0,
              "ticks": ""
             }
            },
            "type": "scatterternary"
           }
          ],
          "surface": [
           {
            "colorbar": {
             "outlinewidth": 0,
             "ticks": ""
            },
            "colorscale": [
             [
              0,
              "#0d0887"
             ],
             [
              0.1111111111111111,
              "#46039f"
             ],
             [
              0.2222222222222222,
              "#7201a8"
             ],
             [
              0.3333333333333333,
              "#9c179e"
             ],
             [
              0.4444444444444444,
              "#bd3786"
             ],
             [
              0.5555555555555556,
              "#d8576b"
             ],
             [
              0.6666666666666666,
              "#ed7953"
             ],
             [
              0.7777777777777778,
              "#fb9f3a"
             ],
             [
              0.8888888888888888,
              "#fdca26"
             ],
             [
              1,
              "#f0f921"
             ]
            ],
            "type": "surface"
           }
          ],
          "table": [
           {
            "cells": {
             "fill": {
              "color": "#EBF0F8"
             },
             "line": {
              "color": "white"
             }
            },
            "header": {
             "fill": {
              "color": "#C8D4E3"
             },
             "line": {
              "color": "white"
             }
            },
            "type": "table"
           }
          ]
         },
         "layout": {
          "annotationdefaults": {
           "arrowcolor": "#2a3f5f",
           "arrowhead": 0,
           "arrowwidth": 1
          },
          "autotypenumbers": "strict",
          "coloraxis": {
           "colorbar": {
            "outlinewidth": 0,
            "ticks": ""
           }
          },
          "colorscale": {
           "diverging": [
            [
             0,
             "#8e0152"
            ],
            [
             0.1,
             "#c51b7d"
            ],
            [
             0.2,
             "#de77ae"
            ],
            [
             0.3,
             "#f1b6da"
            ],
            [
             0.4,
             "#fde0ef"
            ],
            [
             0.5,
             "#f7f7f7"
            ],
            [
             0.6,
             "#e6f5d0"
            ],
            [
             0.7,
             "#b8e186"
            ],
            [
             0.8,
             "#7fbc41"
            ],
            [
             0.9,
             "#4d9221"
            ],
            [
             1,
             "#276419"
            ]
           ],
           "sequential": [
            [
             0,
             "#0d0887"
            ],
            [
             0.1111111111111111,
             "#46039f"
            ],
            [
             0.2222222222222222,
             "#7201a8"
            ],
            [
             0.3333333333333333,
             "#9c179e"
            ],
            [
             0.4444444444444444,
             "#bd3786"
            ],
            [
             0.5555555555555556,
             "#d8576b"
            ],
            [
             0.6666666666666666,
             "#ed7953"
            ],
            [
             0.7777777777777778,
             "#fb9f3a"
            ],
            [
             0.8888888888888888,
             "#fdca26"
            ],
            [
             1,
             "#f0f921"
            ]
           ],
           "sequentialminus": [
            [
             0,
             "#0d0887"
            ],
            [
             0.1111111111111111,
             "#46039f"
            ],
            [
             0.2222222222222222,
             "#7201a8"
            ],
            [
             0.3333333333333333,
             "#9c179e"
            ],
            [
             0.4444444444444444,
             "#bd3786"
            ],
            [
             0.5555555555555556,
             "#d8576b"
            ],
            [
             0.6666666666666666,
             "#ed7953"
            ],
            [
             0.7777777777777778,
             "#fb9f3a"
            ],
            [
             0.8888888888888888,
             "#fdca26"
            ],
            [
             1,
             "#f0f921"
            ]
           ]
          },
          "colorway": [
           "#636efa",
           "#EF553B",
           "#00cc96",
           "#ab63fa",
           "#FFA15A",
           "#19d3f3",
           "#FF6692",
           "#B6E880",
           "#FF97FF",
           "#FECB52"
          ],
          "font": {
           "color": "#2a3f5f"
          },
          "geo": {
           "bgcolor": "white",
           "lakecolor": "white",
           "landcolor": "#E5ECF6",
           "showlakes": true,
           "showland": true,
           "subunitcolor": "white"
          },
          "hoverlabel": {
           "align": "left"
          },
          "hovermode": "closest",
          "mapbox": {
           "style": "light"
          },
          "paper_bgcolor": "white",
          "plot_bgcolor": "#E5ECF6",
          "polar": {
           "angularaxis": {
            "gridcolor": "white",
            "linecolor": "white",
            "ticks": ""
           },
           "bgcolor": "#E5ECF6",
           "radialaxis": {
            "gridcolor": "white",
            "linecolor": "white",
            "ticks": ""
           }
          },
          "scene": {
           "xaxis": {
            "backgroundcolor": "#E5ECF6",
            "gridcolor": "white",
            "gridwidth": 2,
            "linecolor": "white",
            "showbackground": true,
            "ticks": "",
            "zerolinecolor": "white"
           },
           "yaxis": {
            "backgroundcolor": "#E5ECF6",
            "gridcolor": "white",
            "gridwidth": 2,
            "linecolor": "white",
            "showbackground": true,
            "ticks": "",
            "zerolinecolor": "white"
           },
           "zaxis": {
            "backgroundcolor": "#E5ECF6",
            "gridcolor": "white",
            "gridwidth": 2,
            "linecolor": "white",
            "showbackground": true,
            "ticks": "",
            "zerolinecolor": "white"
           }
          },
          "shapedefaults": {
           "line": {
            "color": "#2a3f5f"
           }
          },
          "ternary": {
           "aaxis": {
            "gridcolor": "white",
            "linecolor": "white",
            "ticks": ""
           },
           "baxis": {
            "gridcolor": "white",
            "linecolor": "white",
            "ticks": ""
           },
           "bgcolor": "#E5ECF6",
           "caxis": {
            "gridcolor": "white",
            "linecolor": "white",
            "ticks": ""
           }
          },
          "title": {
           "x": 0.05
          },
          "xaxis": {
           "automargin": true,
           "gridcolor": "white",
           "linecolor": "white",
           "ticks": "",
           "title": {
            "standoff": 15
           },
           "zerolinecolor": "white",
           "zerolinewidth": 2
          },
          "yaxis": {
           "automargin": true,
           "gridcolor": "white",
           "linecolor": "white",
           "ticks": "",
           "title": {
            "standoff": 15
           },
           "zerolinecolor": "white",
           "zerolinewidth": 2
          }
         }
        },
        "title": {
         "text": "<b>Rule Quality Explorer</b>"
        },
        "xaxis": {
         "anchor": "y",
         "domain": [
          0,
          1
         ],
         "title": {
          "text": "Support (Frequency)"
         },
         "type": "log"
        },
        "yaxis": {
         "anchor": "x",
         "domain": [
          0,
          1
         ],
         "title": {
          "text": "Confidence (Reliability)"
         }
        }
       }
      }
     },
     "metadata": {},
     "output_type": "display_data"
    }
   ],
   "source": [
    "\"\"\"\n",
    "**Implemented Features:**\n",
    "- Hover tooltips with key metrics\n",
    "- Zoom/Pan on all charts\n",
    "- Click legend filtering\n",
    "- Cross-chart highlighting\n",
    "\"\"\"\n",
    "\n",
    "# INTERACTIVE RULES EXPLORER\n",
    "fig4 = px.scatter(rules, x='support', y='confidence',\n",
    "                 size='lift', color='lift',\n",
    "                 hover_name=rules.apply(\n",
    "                     lambda x: f\"{list(x['antecedents'])[0]} → {list(x['consequents'])[0]}\", \n",
    "                     axis=1),\n",
    "                 log_x=True,\n",
    "                 title='<b>Rule Quality Explorer</b>',\n",
    "                 labels={\n",
    "                     'support':'Support (Frequency)',\n",
    "                     'confidence':'Confidence (Reliability)',\n",
    "                     'lift':'Lift (Strength)'\n",
    "                 })\n",
    "fig4.update_layout(clickmode='event+select')\n",
    "fig4.show()"
   ]
  },
  {
   "cell_type": "markdown",
   "id": "44d97900",
   "metadata": {},
   "source": [
    "## Annotated Composite Visualization\n",
    "Creates a figure with two side-by-side plots:\n",
    "\n",
    "Left: A donut (pie) chart showing the product mix of the top 20 products by purchase frequency.\n",
    "\n",
    "Right: A scatter plot of association rules, plotting support vs confidence, with marker size and color representing lift.\n",
    "\n",
    "Adds interactive hover text on rules to show the exact rule in “antecedent → consequent” format.\n",
    "\n",
    "Includes annotations pointing out:\n",
    "\n",
    "“High-Lift Rules” on the scatter plot.\n",
    "\n",
    "“Core Product Lines” on the donut chart.\n",
    "\n",
    "Title highlights a key business insight:\n",
    "\"80% of sales come from 20% of products with strong cross-purchase patterns.\"\n",
    "\n",
    "This combines data visualization with storytelling and actionable insights."
   ]
  },
  {
   "cell_type": "code",
   "execution_count": 20,
   "id": "d1d4ed64",
   "metadata": {},
   "outputs": [
    {
     "data": {
      "application/vnd.plotly.v1+json": {
       "config": {
        "plotlyServerURL": "https://plot.ly"
       },
       "data": [
        {
         "domain": {
          "x": [
           0,
           0.45
          ],
          "y": [
           0,
           1
          ]
         },
         "hole": 0.4,
         "labels": [
          "cookies",
          "chips",
          "eggs",
          "cheese",
          "milk",
          "bread",
          "beer",
          "diapers",
          "cola",
          "butter"
         ],
         "marker": {
          "colors": [
           "rgb(103,0,31)",
           "rgb(178,24,43)",
           "rgb(214,96,77)",
           "rgb(244,165,130)",
           "rgb(253,219,199)",
           "rgb(247,247,247)",
           "rgb(209,229,240)",
           "rgb(146,197,222)",
           "rgb(67,147,195)",
           "rgb(33,102,172)",
           "rgb(5,48,97)"
          ]
         },
         "name": "Product Mix",
         "type": "pie",
         "values": {
          "bdata": "GwEfASEBKgEqATIBNQE5AUMBRwE=",
          "dtype": "i2"
         }
        },
        {
         "hoverinfo": "text",
         "marker": {
          "color": {
           "bdata": "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",
           "dtype": "f8"
          },
          "showscale": true,
          "size": {
           "bdata": "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",
           "dtype": "f8"
          }
         },
         "mode": "markers",
         "name": "Association Rules",
         "text": [
          "Rule: butter→beer",
          "Rule: beer→butter",
          "Rule: chips→beer",
          "Rule: beer→chips",
          "Rule: cola→beer",
          "Rule: beer→cola",
          "Rule: cookies→beer",
          "Rule: beer→cookies",
          "Rule: butter→bread",
          "Rule: bread→butter",
          "Rule: diapers→bread",
          "Rule: bread→diapers",
          "Rule: milk→bread",
          "Rule: bread→milk",
          "Rule: cheese→butter",
          "Rule: butter→cheese",
          "Rule: cola→butter",
          "Rule: butter→cola",
          "Rule: cookies→butter",
          "Rule: butter→cookies",
          "Rule: eggs→butter",
          "Rule: butter→eggs",
          "Rule: cheese→chips",
          "Rule: chips→cheese",
          "Rule: cheese→eggs",
          "Rule: eggs→cheese",
          "Rule: cheese→milk",
          "Rule: milk→cheese",
          "Rule: chips→cookies",
          "Rule: cookies→chips",
          "Rule: eggs→cola",
          "Rule: cola→eggs",
          "Rule: cola→milk",
          "Rule: milk→cola",
          "Rule: diapers→eggs",
          "Rule: eggs→diapers",
          "Rule: eggs→milk",
          "Rule: milk→eggs",
          "Rule: chips→bread",
          "Rule: chips→beer",
          "Rule: beer→chips",
          "Rule: chips→beer",
          "Rule: beer→chips",
          "Rule: bread→chips",
          "Rule: beer→bread",
          "Rule: cookies→beer",
          "Rule: beer→cookies",
          "Rule: cookies→beer",
          "Rule: beer→cookies",
          "Rule: bread→beer",
          "Rule: diapers→bread",
          "Rule: bread→diapers",
          "Rule: cheese→butter",
          "Rule: butter→cheese",
          "Rule: chips→beer",
          "Rule: beer→chips",
          "Rule: cola→beer",
          "Rule: beer→cola",
          "Rule: beer→butter",
          "Rule: butter→beer",
          "Rule: cola→beer",
          "Rule: beer→cola",
          "Rule: beer→cookies",
          "Rule: cookies→beer",
          "Rule: cookies→butter",
          "Rule: butter→cookies",
          "Rule: beer→cookies",
          "Rule: cookies→beer",
          "Rule: butter→beer",
          "Rule: beer→butter",
          "Rule: butter→beer",
          "Rule: beer→butter",
          "Rule: cheese→chips",
          "Rule: chips→cheese",
          "Rule: cheese→cookies",
          "Rule: cookies→cheese",
          "Rule: chips→beer",
          "Rule: beer→chips",
          "Rule: chips→cola",
          "Rule: cola→chips",
          "Rule: chips→beer",
          "Rule: beer→chips",
          "Rule: diapers→beer",
          "Rule: diapers→chips",
          "Rule: chips→diapers",
          "Rule: beer→diapers",
          "Rule: chips→beer",
          "Rule: beer→chips",
          "Rule: cola→beer",
          "Rule: beer→cola",
          "Rule: beer→cookies",
          "Rule: cookies→beer",
          "Rule: cola→beer",
          "Rule: beer→cola",
          "Rule: eggs→cola",
          "Rule: cola→eggs",
          "Rule: beer→milk",
          "Rule: beer→cola",
          "Rule: cola→beer",
          "Rule: milk→beer",
          "Rule: eggs→beer",
          "Rule: beer→eggs",
          "Rule: beer→milk",
          "Rule: cookies→beer",
          "Rule: beer→cookies",
          "Rule: cookies→beer",
          "Rule: beer→cookies",
          "Rule: milk→beer",
          "Rule: butter→bread",
          "Rule: cola→butter",
          "Rule: butter→cola",
          "Rule: cola→butter",
          "Rule: butter→cola",
          "Rule: bread→butter",
          "Rule: diapers→bread",
          "Rule: bread→diapers",
          "Rule: eggs→butter",
          "Rule: butter→eggs",
          "Rule: butter→bread",
          "Rule: milk→butter",
          "Rule: butter→milk",
          "Rule: milk→butter",
          "Rule: butter→milk",
          "Rule: bread→butter",
          "Rule: cheese→chips",
          "Rule: chips→cheese",
          "Rule: cheese→chips",
          "Rule: chips→cheese",
          "Rule: cheese→bread",
          "Rule: cheese→eggs",
          "Rule: eggs→cheese",
          "Rule: cheese→eggs",
          "Rule: eggs→cheese",
          "Rule: bread→cheese",
          "Rule: cheese→bread",
          "Rule: cheese→milk",
          "Rule: milk→cheese",
          "Rule: cheese→milk",
          "Rule: milk→cheese",
          "Rule: bread→cheese",
          "Rule: chips→cookies",
          "Rule: cookies→chips",
          "Rule: chips→cookies",
          "Rule: cookies→chips",
          "Rule: diapers→bread",
          "Rule: diapers→chips",
          "Rule: chips→diapers",
          "Rule: diapers→chips",
          "Rule: chips→diapers",
          "Rule: bread→diapers",
          "Rule: cola→bread",
          "Rule: cookies→cola",
          "Rule: cola→cookies",
          "Rule: cookies→cola",
          "Rule: cola→cookies",
          "Rule: bread→cola",
          "Rule: cola→bread",
          "Rule: milk→cola",
          "Rule: cola→milk",
          "Rule: milk→cola",
          "Rule: cola→milk",
          "Rule: bread→cola",
          "Rule: cheese→butter",
          "Rule: cheese→chips",
          "Rule: chips→cheese",
          "Rule: cheese→chips",
          "Rule: chips→cheese",
          "Rule: butter→cheese",
          "Rule: cheese→butter",
          "Rule: cheese→cola",
          "Rule: cola→cheese",
          "Rule: butter→cheese",
          "Rule: cheese→butter",
          "Rule: cheese→eggs",
          "Rule: eggs→cheese",
          "Rule: cheese→eggs",
          "Rule: eggs→cheese",
          "Rule: butter→cheese",
          "Rule: diapers→chips",
          "Rule: chips→diapers",
          "Rule: cola→butter",
          "Rule: butter→cola",
          "Rule: cola→butter",
          "Rule: butter→cola",
          "Rule: eggs→butter",
          "Rule: eggs→cola",
          "Rule: butter→eggs",
          "Rule: eggs→butter",
          "Rule: cola→eggs",
          "Rule: butter→eggs",
          "Rule: cola→butter",
          "Rule: butter→cola",
          "Rule: cola→butter",
          "Rule: butter→cola",
          "Rule: eggs→butter",
          "Rule: butter→eggs",
          "Rule: cookies→butter",
          "Rule: butter→cookies",
          "Rule: cookies→butter",
          "Rule: butter→cookies",
          "Rule: diapers→eggs",
          "Rule: eggs→diapers",
          "Rule: cheese→chips",
          "Rule: chips→cheese",
          "Rule: chips→cheese",
          "Rule: cheese→chips",
          "Rule: cheese→milk",
          "Rule: cheese→cola",
          "Rule: cola→cheese",
          "Rule: milk→cheese",
          "Rule: cheese→diapers",
          "Rule: cheese→eggs",
          "Rule: diapers→cheese",
          "Rule: cheese→diapers",
          "Rule: eggs→cheese",
          "Rule: diapers→cheese",
          "Rule: cheese→milk",
          "Rule: cheese→eggs",
          "Rule: eggs→cheese",
          "Rule: cheese→eggs",
          "Rule: eggs→cheese",
          "Rule: milk→cheese",
          "Rule: cola→chips",
          "Rule: chips→cookies",
          "Rule: cookies→chips",
          "Rule: chips→cola",
          "Rule: diapers→chips",
          "Rule: chips→diapers",
          "Rule: diapers→chips",
          "Rule: chips→diapers",
          "Rule: diapers→chips",
          "Rule: chips→diapers",
          "Rule: eggs→cookies",
          "Rule: eggs→chips",
          "Rule: chips→eggs",
          "Rule: eggs→chips",
          "Rule: chips→eggs",
          "Rule: cookies→eggs",
          "Rule: diapers→eggs",
          "Rule: eggs→diapers",
          "Rule: diapers→eggs",
          "Rule: eggs→diapers",
          "Rule: diapers→chips",
          "Rule: chips→diapers",
          "Rule: diapers→chips",
          "Rule: chips→diapers",
          "Rule: eggs→cola",
          "Rule: cola→eggs",
          "Rule: diapers→eggs",
          "Rule: eggs→diapers",
          "Rule: eggs→milk",
          "Rule: eggs→cola",
          "Rule: cola→eggs",
          "Rule: eggs→cola",
          "Rule: cola→eggs",
          "Rule: milk→eggs"
         ],
         "type": "scatter",
         "x": {
          "bdata": "gZVDi2znuz+BlUOLbOe7P/p+arx0k7g/+n5qvHSTuD+amZmZmZm5P5qZmZmZmbk/sp3vp8ZLtz+yne+nxku3Pzm0yHa+n7o/ObTIdr6fuj/6fmq8dJO4P/p+arx0k7g/qvHSTWIQuD+q8dJNYhC4P0oMAiuHFrk/SgwCK4cWuT8QWDm0yHa+PxBYObTIdr4/qvHSTWIQuD+q8dJNYhC4P0oMAiuHFrk/SgwCK4cWuT9aZDvfT423P1pkO99Pjbc/ukkMAiuHtj+6SQwCK4e2P2IQWDm0yLY/YhBYObTItj8Sg8DKoUW2PxKDwMqhRbY/8tJNYhBYuT/y0k1iEFi5P5qZmZmZmbk/mpmZmZmZuT+q8dJNYhC4P6rx0k1iELg/CtejcD0Ktz8K16NwPQq3P7gehetRuJ4/uB6F61G4nj+4HoXrUbieP7gehetRuJ4/uB6F61G4nj+4HoXrUbiePxkEVg4tsp0/GQRWDi2ynT8ZBFYOLbKdPxkEVg4tsp0/GQRWDi2ynT8ZBFYOLbKdP3npJjEIrJw/eekmMQisnD+4HoXrUbieP7gehetRuJ4/WDm0yHa+nz9YObTIdr6fP2q8dJMYBKY/arx0kxgEpj9qvHSTGASmP2q8dJMYBKY/arx0kxgEpj9qvHSTGASmP+xRuB6F66E/7FG4HoXroT/sUbgeheuhP+xRuB6F66E/7FG4HoXroT/sUbgeheuhP7gehetRuJ4/uB6F61G4nj+4HoXrUbieP7gehetRuJ4/+n5qvHSTmD/6fmq8dJOYP1pkO99PjZc/WmQ730+Nlz/sUbgeheuhP+xRuB6F66E/7FG4HoXroT/sUbgeheuhP+xRuB6F66E/7FG4HoXroT956SYxCKycP3npJjEIrJw/eekmMQisnD956SYxCKycPzm0yHa+n5o/ObTIdr6fmj9YObTIdr6fP1g5tMh2vp8/WDm0yHa+nz9YObTIdr6fP1g5tMh2vp8/WDm0yHa+nz956SYxCKycP3npJjEIrJw/uB6F61G4nj+4HoXrUbieP7gehetRuJ4/uB6F61G4nj9aZDvfT42XP1pkO99PjZc/eekmMQisnD956SYxCKycP3npJjEIrJw/eekmMQisnD956SYxCKycP3npJjEIrJw/K4cW2c73oz8rhxbZzvejPyuHFtnO96M/K4cW2c73oz8rhxbZzvejPyuHFtnO96M/eekmMQisnD956SYxCKycPxkEVg4tsp0/GQRWDi2ynT9YObTIdr6fP1g5tMh2vp8/WDm0yHa+nz9YObTIdr6fP1g5tMh2vp8/WDm0yHa+nz85tMh2vp+aPzm0yHa+n5o/ObTIdr6fmj85tMh2vp+aPxkEVg4tsp0/GQRWDi2ynT8ZBFYOLbKdPxkEVg4tsp0/GQRWDi2ynT8ZBFYOLbKdP1g5tMh2vp8/WDm0yHa+nz9YObTIdr6fP1g5tMh2vp8/WDm0yHa+nz9YObTIdr6fP5qZmZmZmZk/mpmZmZmZmT+amZmZmZmZP5qZmZmZmZk/eekmMQisnD956SYxCKycP3npJjEIrJw/eekmMQisnD956SYxCKycP3npJjEIrJw/eekmMQisnD956SYxCKycP3npJjEIrJw/eekmMQisnD956SYxCKycP3npJjEIrJw/O99PjZduoj8730+Nl26iPzvfT42XbqI/O99PjZduoj8730+Nl26iPzvfT42XbqI//Knx0k1ioD/8qfHSTWKgP/yp8dJNYqA//Knx0k1ioD/8qfHSTWKgP/yp8dJNYqA/7FG4HoXroT/sUbgeheuhP+xRuB6F66E/7FG4HoXroT9YObTIdr6fP1g5tMh2vp8/WDm0yHa+nz9YObTIdr6fP1g5tMh2vp8/WDm0yHa+nz+amZmZmZmZP5qZmZmZmZk/TDeJQWDloD9MN4lBYOWgP0w3iUFg5aA/TDeJQWDloD8730+Nl26iPzvfT42XbqI/O99PjZduoj8730+Nl26iPzvfT42XbqI/O99PjZduoj+cxCCwcmihP5zEILByaKE/nMQgsHJooT+cxCCwcmihPzm0yHa+n5o/ObTIdr6fmj956SYxCKycP3npJjEIrJw/eekmMQisnD956SYxCKycP9nO91PjpZs/2c73U+Olmz9aZDvfT42XP1pkO99PjZc/WmQ730+Nlz9aZDvfT42XPxkEVg4tsp0/GQRWDi2ynT8ZBFYOLbKdPxkEVg4tsp0/GQRWDi2ynT8ZBFYOLbKdPxkEVg4tsp0/GQRWDi2ynT8ZBFYOLbKdPxkEVg4tsp0/TDeJQWDloD9MN4lBYOWgP0w3iUFg5aA/TDeJQWDloD9MN4lBYOWgP0w3iUFg5aA/ObTIdr6fmj85tMh2vp+aPzm0yHa+n5o/ObTIdr6fmj/ZzvdT46WbP9nO91PjpZs/2c73U+Olmz/ZzvdT46WbP7pJDAIrh5Y/ukkMAiuHlj85tMh2vp+aPzm0yHa+n5o/ObTIdr6fmj85tMh2vp+aPzm0yHa+n5o/ObTIdr6fmj85tMh2vp+aPzm0yHa+n5o/ObTIdr6fmj85tMh2vp+aP5qZmZmZmZk/mpmZmZmZmT+amZmZmZmZP5qZmZmZmZk/+n5qvHSTmD/6fmq8dJOYP7gehetRuJ4/uB6F61G4nj/8qfHSTWKgP/yp8dJNYqA//Knx0k1ioD/8qfHSTWKgP/yp8dJNYqA//Knx0k1ioD8=",
          "dtype": "f8"
         },
         "xaxis": "x",
         "y": {
          "bdata": "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",
          "dtype": "f8"
         },
         "yaxis": "y"
        }
       ],
       "layout": {
        "annotations": [
         {
          "arrowhead": 3,
          "ax": -50,
          "ay": -40,
          "showarrow": true,
          "text": "High-Lift Rules",
          "x": 0.8,
          "xref": "paper",
          "y": 0.9,
          "yref": "paper"
         },
         {
          "font": {
           "size": 12
          },
          "text": "Core Product Lines",
          "x": 0.15,
          "xref": "paper",
          "y": 0.5,
          "yref": "paper"
         }
        ],
        "template": {
         "data": {
          "bar": [
           {
            "error_x": {
             "color": "#2a3f5f"
            },
            "error_y": {
             "color": "#2a3f5f"
            },
            "marker": {
             "line": {
              "color": "#E5ECF6",
              "width": 0.5
             },
             "pattern": {
              "fillmode": "overlay",
              "size": 10,
              "solidity": 0.2
             }
            },
            "type": "bar"
           }
          ],
          "barpolar": [
           {
            "marker": {
             "line": {
              "color": "#E5ECF6",
              "width": 0.5
             },
             "pattern": {
              "fillmode": "overlay",
              "size": 10,
              "solidity": 0.2
             }
            },
            "type": "barpolar"
           }
          ],
          "carpet": [
           {
            "aaxis": {
             "endlinecolor": "#2a3f5f",
             "gridcolor": "white",
             "linecolor": "white",
             "minorgridcolor": "white",
             "startlinecolor": "#2a3f5f"
            },
            "baxis": {
             "endlinecolor": "#2a3f5f",
             "gridcolor": "white",
             "linecolor": "white",
             "minorgridcolor": "white",
             "startlinecolor": "#2a3f5f"
            },
            "type": "carpet"
           }
          ],
          "choropleth": [
           {
            "colorbar": {
             "outlinewidth": 0,
             "ticks": ""
            },
            "type": "choropleth"
           }
          ],
          "contour": [
           {
            "colorbar": {
             "outlinewidth": 0,
             "ticks": ""
            },
            "colorscale": [
             [
              0,
              "#0d0887"
             ],
             [
              0.1111111111111111,
              "#46039f"
             ],
             [
              0.2222222222222222,
              "#7201a8"
             ],
             [
              0.3333333333333333,
              "#9c179e"
             ],
             [
              0.4444444444444444,
              "#bd3786"
             ],
             [
              0.5555555555555556,
              "#d8576b"
             ],
             [
              0.6666666666666666,
              "#ed7953"
             ],
             [
              0.7777777777777778,
              "#fb9f3a"
             ],
             [
              0.8888888888888888,
              "#fdca26"
             ],
             [
              1,
              "#f0f921"
             ]
            ],
            "type": "contour"
           }
          ],
          "contourcarpet": [
           {
            "colorbar": {
             "outlinewidth": 0,
             "ticks": ""
            },
            "type": "contourcarpet"
           }
          ],
          "heatmap": [
           {
            "colorbar": {
             "outlinewidth": 0,
             "ticks": ""
            },
            "colorscale": [
             [
              0,
              "#0d0887"
             ],
             [
              0.1111111111111111,
              "#46039f"
             ],
             [
              0.2222222222222222,
              "#7201a8"
             ],
             [
              0.3333333333333333,
              "#9c179e"
             ],
             [
              0.4444444444444444,
              "#bd3786"
             ],
             [
              0.5555555555555556,
              "#d8576b"
             ],
             [
              0.6666666666666666,
              "#ed7953"
             ],
             [
              0.7777777777777778,
              "#fb9f3a"
             ],
             [
              0.8888888888888888,
              "#fdca26"
             ],
             [
              1,
              "#f0f921"
             ]
            ],
            "type": "heatmap"
           }
          ],
          "histogram": [
           {
            "marker": {
             "pattern": {
              "fillmode": "overlay",
              "size": 10,
              "solidity": 0.2
             }
            },
            "type": "histogram"
           }
          ],
          "histogram2d": [
           {
            "colorbar": {
             "outlinewidth": 0,
             "ticks": ""
            },
            "colorscale": [
             [
              0,
              "#0d0887"
             ],
             [
              0.1111111111111111,
              "#46039f"
             ],
             [
              0.2222222222222222,
              "#7201a8"
             ],
             [
              0.3333333333333333,
              "#9c179e"
             ],
             [
              0.4444444444444444,
              "#bd3786"
             ],
             [
              0.5555555555555556,
              "#d8576b"
             ],
             [
              0.6666666666666666,
              "#ed7953"
             ],
             [
              0.7777777777777778,
              "#fb9f3a"
             ],
             [
              0.8888888888888888,
              "#fdca26"
             ],
             [
              1,
              "#f0f921"
             ]
            ],
            "type": "histogram2d"
           }
          ],
          "histogram2dcontour": [
           {
            "colorbar": {
             "outlinewidth": 0,
             "ticks": ""
            },
            "colorscale": [
             [
              0,
              "#0d0887"
             ],
             [
              0.1111111111111111,
              "#46039f"
             ],
             [
              0.2222222222222222,
              "#7201a8"
             ],
             [
              0.3333333333333333,
              "#9c179e"
             ],
             [
              0.4444444444444444,
              "#bd3786"
             ],
             [
              0.5555555555555556,
              "#d8576b"
             ],
             [
              0.6666666666666666,
              "#ed7953"
             ],
             [
              0.7777777777777778,
              "#fb9f3a"
             ],
             [
              0.8888888888888888,
              "#fdca26"
             ],
             [
              1,
              "#f0f921"
             ]
            ],
            "type": "histogram2dcontour"
           }
          ],
          "mesh3d": [
           {
            "colorbar": {
             "outlinewidth": 0,
             "ticks": ""
            },
            "type": "mesh3d"
           }
          ],
          "parcoords": [
           {
            "line": {
             "colorbar": {
              "outlinewidth": 0,
              "ticks": ""
             }
            },
            "type": "parcoords"
           }
          ],
          "pie": [
           {
            "automargin": true,
            "type": "pie"
           }
          ],
          "scatter": [
           {
            "fillpattern": {
             "fillmode": "overlay",
             "size": 10,
             "solidity": 0.2
            },
            "type": "scatter"
           }
          ],
          "scatter3d": [
           {
            "line": {
             "colorbar": {
              "outlinewidth": 0,
              "ticks": ""
             }
            },
            "marker": {
             "colorbar": {
              "outlinewidth": 0,
              "ticks": ""
             }
            },
            "type": "scatter3d"
           }
          ],
          "scattercarpet": [
           {
            "marker": {
             "colorbar": {
              "outlinewidth": 0,
              "ticks": ""
             }
            },
            "type": "scattercarpet"
           }
          ],
          "scattergeo": [
           {
            "marker": {
             "colorbar": {
              "outlinewidth": 0,
              "ticks": ""
             }
            },
            "type": "scattergeo"
           }
          ],
          "scattergl": [
           {
            "marker": {
             "colorbar": {
              "outlinewidth": 0,
              "ticks": ""
             }
            },
            "type": "scattergl"
           }
          ],
          "scattermap": [
           {
            "marker": {
             "colorbar": {
              "outlinewidth": 0,
              "ticks": ""
             }
            },
            "type": "scattermap"
           }
          ],
          "scattermapbox": [
           {
            "marker": {
             "colorbar": {
              "outlinewidth": 0,
              "ticks": ""
             }
            },
            "type": "scattermapbox"
           }
          ],
          "scatterpolar": [
           {
            "marker": {
             "colorbar": {
              "outlinewidth": 0,
              "ticks": ""
             }
            },
            "type": "scatterpolar"
           }
          ],
          "scatterpolargl": [
           {
            "marker": {
             "colorbar": {
              "outlinewidth": 0,
              "ticks": ""
             }
            },
            "type": "scatterpolargl"
           }
          ],
          "scatterternary": [
           {
            "marker": {
             "colorbar": {
              "outlinewidth": 0,
              "ticks": ""
             }
            },
            "type": "scatterternary"
           }
          ],
          "surface": [
           {
            "colorbar": {
             "outlinewidth": 0,
             "ticks": ""
            },
            "colorscale": [
             [
              0,
              "#0d0887"
             ],
             [
              0.1111111111111111,
              "#46039f"
             ],
             [
              0.2222222222222222,
              "#7201a8"
             ],
             [
              0.3333333333333333,
              "#9c179e"
             ],
             [
              0.4444444444444444,
              "#bd3786"
             ],
             [
              0.5555555555555556,
              "#d8576b"
             ],
             [
              0.6666666666666666,
              "#ed7953"
             ],
             [
              0.7777777777777778,
              "#fb9f3a"
             ],
             [
              0.8888888888888888,
              "#fdca26"
             ],
             [
              1,
              "#f0f921"
             ]
            ],
            "type": "surface"
           }
          ],
          "table": [
           {
            "cells": {
             "fill": {
              "color": "#EBF0F8"
             },
             "line": {
              "color": "white"
             }
            },
            "header": {
             "fill": {
              "color": "#C8D4E3"
             },
             "line": {
              "color": "white"
             }
            },
            "type": "table"
           }
          ]
         },
         "layout": {
          "annotationdefaults": {
           "arrowcolor": "#2a3f5f",
           "arrowhead": 0,
           "arrowwidth": 1
          },
          "autotypenumbers": "strict",
          "coloraxis": {
           "colorbar": {
            "outlinewidth": 0,
            "ticks": ""
           }
          },
          "colorscale": {
           "diverging": [
            [
             0,
             "#8e0152"
            ],
            [
             0.1,
             "#c51b7d"
            ],
            [
             0.2,
             "#de77ae"
            ],
            [
             0.3,
             "#f1b6da"
            ],
            [
             0.4,
             "#fde0ef"
            ],
            [
             0.5,
             "#f7f7f7"
            ],
            [
             0.6,
             "#e6f5d0"
            ],
            [
             0.7,
             "#b8e186"
            ],
            [
             0.8,
             "#7fbc41"
            ],
            [
             0.9,
             "#4d9221"
            ],
            [
             1,
             "#276419"
            ]
           ],
           "sequential": [
            [
             0,
             "#0d0887"
            ],
            [
             0.1111111111111111,
             "#46039f"
            ],
            [
             0.2222222222222222,
             "#7201a8"
            ],
            [
             0.3333333333333333,
             "#9c179e"
            ],
            [
             0.4444444444444444,
             "#bd3786"
            ],
            [
             0.5555555555555556,
             "#d8576b"
            ],
            [
             0.6666666666666666,
             "#ed7953"
            ],
            [
             0.7777777777777778,
             "#fb9f3a"
            ],
            [
             0.8888888888888888,
             "#fdca26"
            ],
            [
             1,
             "#f0f921"
            ]
           ],
           "sequentialminus": [
            [
             0,
             "#0d0887"
            ],
            [
             0.1111111111111111,
             "#46039f"
            ],
            [
             0.2222222222222222,
             "#7201a8"
            ],
            [
             0.3333333333333333,
             "#9c179e"
            ],
            [
             0.4444444444444444,
             "#bd3786"
            ],
            [
             0.5555555555555556,
             "#d8576b"
            ],
            [
             0.6666666666666666,
             "#ed7953"
            ],
            [
             0.7777777777777778,
             "#fb9f3a"
            ],
            [
             0.8888888888888888,
             "#fdca26"
            ],
            [
             1,
             "#f0f921"
            ]
           ]
          },
          "colorway": [
           "#636efa",
           "#EF553B",
           "#00cc96",
           "#ab63fa",
           "#FFA15A",
           "#19d3f3",
           "#FF6692",
           "#B6E880",
           "#FF97FF",
           "#FECB52"
          ],
          "font": {
           "color": "#2a3f5f"
          },
          "geo": {
           "bgcolor": "white",
           "lakecolor": "white",
           "landcolor": "#E5ECF6",
           "showlakes": true,
           "showland": true,
           "subunitcolor": "white"
          },
          "hoverlabel": {
           "align": "left"
          },
          "hovermode": "closest",
          "mapbox": {
           "style": "light"
          },
          "paper_bgcolor": "white",
          "plot_bgcolor": "#E5ECF6",
          "polar": {
           "angularaxis": {
            "gridcolor": "white",
            "linecolor": "white",
            "ticks": ""
           },
           "bgcolor": "#E5ECF6",
           "radialaxis": {
            "gridcolor": "white",
            "linecolor": "white",
            "ticks": ""
           }
          },
          "scene": {
           "xaxis": {
            "backgroundcolor": "#E5ECF6",
            "gridcolor": "white",
            "gridwidth": 2,
            "linecolor": "white",
            "showbackground": true,
            "ticks": "",
            "zerolinecolor": "white"
           },
           "yaxis": {
            "backgroundcolor": "#E5ECF6",
            "gridcolor": "white",
            "gridwidth": 2,
            "linecolor": "white",
            "showbackground": true,
            "ticks": "",
            "zerolinecolor": "white"
           },
           "zaxis": {
            "backgroundcolor": "#E5ECF6",
            "gridcolor": "white",
            "gridwidth": 2,
            "linecolor": "white",
            "showbackground": true,
            "ticks": "",
            "zerolinecolor": "white"
           }
          },
          "shapedefaults": {
           "line": {
            "color": "#2a3f5f"
           }
          },
          "ternary": {
           "aaxis": {
            "gridcolor": "white",
            "linecolor": "white",
            "ticks": ""
           },
           "baxis": {
            "gridcolor": "white",
            "linecolor": "white",
            "ticks": ""
           },
           "bgcolor": "#E5ECF6",
           "caxis": {
            "gridcolor": "white",
            "linecolor": "white",
            "ticks": ""
           }
          },
          "title": {
           "x": 0.05
          },
          "xaxis": {
           "automargin": true,
           "gridcolor": "white",
           "linecolor": "white",
           "ticks": "",
           "title": {
            "standoff": 15
           },
           "zerolinecolor": "white",
           "zerolinewidth": 2
          },
          "yaxis": {
           "automargin": true,
           "gridcolor": "white",
           "linecolor": "white",
           "ticks": "",
           "title": {
            "standoff": 15
           },
           "zerolinecolor": "white",
           "zerolinewidth": 2
          }
         }
        },
        "title": {
         "text": "<b>Key Insight:</b> 80% of sales come from 20% of products<br>with strong cross-purchase patterns"
        },
        "xaxis": {
         "anchor": "y",
         "domain": [
          0.55,
          1
         ]
        },
        "yaxis": {
         "anchor": "x",
         "domain": [
          0,
          1
         ]
        }
       }
      }
     },
     "metadata": {},
     "output_type": "display_data"
    }
   ],
   "source": [
    "\"\"\"\n",
    "**Narrative Techniques:**\n",
    "- Annotations call out key findings\n",
    "- Progressive reveal of insights\n",
    "- Business-actionable conclusions\n",
    "\"\"\"\n",
    "# ANNOTATED COMPOSITE VISUALIZATION\n",
    "fig5 = make_subplots(rows=1, cols=2, specs=[[{'type':'domain'}, {'type':'xy'}]])\n",
    "\n",
    "# Pie chart\n",
    "fig5.add_trace(go.Pie(\n",
    "    labels=item_freq.index,\n",
    "    values=item_freq.values,\n",
    "    name=\"Product Mix\",\n",
    "    hole=0.4,\n",
    "    marker_colors=px.colors.sequential.RdBu\n",
    "), 1, 1)\n",
    "\n",
    "# Rules scatter\n",
    "fig5.add_trace(go.Scatter(\n",
    "    x=rules['support'],\n",
    "    y=rules['confidence'],\n",
    "    mode='markers',\n",
    "    marker=dict(\n",
    "        size=rules['lift']*2,\n",
    "        color=rules['lift'],\n",
    "        showscale=True\n",
    "    ),\n",
    "    text=rules.apply(lambda x: f\"Rule: {list(x['antecedents'])[0]}→{list(x['consequents'])[0]}\", axis=1),\n",
    "    hoverinfo='text',\n",
    "    name='Association Rules'\n",
    "), 1, 2)\n",
    "\n",
    "# Annotations\n",
    "fig5.update_layout(\n",
    "    title_text=\"<b>Key Insight:</b> 80% of sales come from 20% of products<br>with strong cross-purchase patterns\",\n",
    "    annotations=[\n",
    "        dict(\n",
    "            text=\"High-Lift Rules\",\n",
    "            x=0.8, y=0.9,\n",
    "            xref=\"paper\", yref=\"paper\",\n",
    "            showarrow=True,\n",
    "            arrowhead=3,\n",
    "            ax=-50,\n",
    "            ay=-40\n",
    "        ),\n",
    "        dict(\n",
    "            text=\"Core Product Lines\",\n",
    "            x=0.15, y=0.5,\n",
    "            xref=\"paper\", yref=\"paper\",\n",
    "            font_size=12\n",
    "        )\n",
    "    ]\n",
    ")\n",
    "fig5.show()"
   ]
  }
 ],
 "metadata": {
  "kernelspec": {
   "display_name": "Python 3",
   "language": "python",
   "name": "python3"
  },
  "language_info": {
   "codemirror_mode": {
    "name": "ipython",
    "version": 3
   },
   "file_extension": ".py",
   "mimetype": "text/x-python",
   "name": "python",
   "nbconvert_exporter": "python",
   "pygments_lexer": "ipython3",
   "version": "3.12.3"
  }
 },
 "nbformat": 4,
 "nbformat_minor": 5
}
