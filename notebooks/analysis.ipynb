{
 "cells": [
  {
   "cell_type": "markdown",
   "id": "b02e1830",
   "metadata": {},
   "source": [
    "# 🛒 Market Basket Analysis – Data Visualization Project\n",
    "\n",
    "### This project performs a comprehensive Market Basket Analysis using transactional data to identify patterns, generate insights, and visualize item associations. It uses the Apriori algorithm to find frequent itemsets and derive association rules, offering insights into customer purchase behavior."
   ]
  },
  {
   "cell_type": "markdown",
   "id": "d6d5c0c8",
   "metadata": {},
   "source": [
    "# Step 1: Data Import and Library Setup\n",
    "\n",
    "To begin the Market Basket Analysis, essential Python libraries were imported for data handling, visualization, and applying the Apriori algorithm. The transactional dataset was then loaded into a DataFrame for processing. This dataset contains records of items purchased together in various transactions.\n",
    "\n",
    "The first few rows of the dataset were displayed to understand its structure and verify successful loading. This step laid the groundwork for cleaning, transforming, and analyzing the data to identify frequent itemsets and generate association rules.\n"
   ]
  },
  {
   "cell_type": "code",
   "execution_count": 4,
   "id": "69f43e5d",
   "metadata": {},
   "outputs": [
    {
     "data": {
      "text/html": [
       "<div>\n",
       "<style scoped>\n",
       "    .dataframe tbody tr th:only-of-type {\n",
       "        vertical-align: middle;\n",
       "    }\n",
       "\n",
       "    .dataframe tbody tr th {\n",
       "        vertical-align: top;\n",
       "    }\n",
       "\n",
       "    .dataframe thead th {\n",
       "        text-align: right;\n",
       "    }\n",
       "</style>\n",
       "<table border=\"1\" class=\"dataframe\">\n",
       "  <thead>\n",
       "    <tr style=\"text-align: right;\">\n",
       "      <th></th>\n",
       "      <th>InvoiceNo</th>\n",
       "      <th>Item</th>\n",
       "    </tr>\n",
       "  </thead>\n",
       "  <tbody>\n",
       "    <tr>\n",
       "      <th>0</th>\n",
       "      <td>1001</td>\n",
       "      <td>cola</td>\n",
       "    </tr>\n",
       "    <tr>\n",
       "      <th>1</th>\n",
       "      <td>1001</td>\n",
       "      <td>cheese</td>\n",
       "    </tr>\n",
       "    <tr>\n",
       "      <th>2</th>\n",
       "      <td>1002</td>\n",
       "      <td>cheese</td>\n",
       "    </tr>\n",
       "    <tr>\n",
       "      <th>3</th>\n",
       "      <td>1002</td>\n",
       "      <td>eggs</td>\n",
       "    </tr>\n",
       "    <tr>\n",
       "      <th>4</th>\n",
       "      <td>1002</td>\n",
       "      <td>butter</td>\n",
       "    </tr>\n",
       "  </tbody>\n",
       "</table>\n",
       "</div>"
      ],
      "text/plain": [
       "   InvoiceNo    Item\n",
       "0       1001    cola\n",
       "1       1001  cheese\n",
       "2       1002  cheese\n",
       "3       1002    eggs\n",
       "4       1002  butter"
      ]
     },
     "execution_count": 4,
     "metadata": {},
     "output_type": "execute_result"
    }
   ],
   "source": [
    "# Required Libraries\n",
    "import pandas as pd\n",
    "import matplotlib.pyplot as plt\n",
    "import seaborn as sns\n",
    "from mlxtend.frequent_patterns import apriori, association_rules\n",
    "from mlxtend.preprocessing import TransactionEncoder\n",
    "\n",
    "# Load dataset\n",
    "df = pd.read_csv(\"C:/Users/Shubham kumar/Downloads/transactions_large.csv\") \n",
    "# Display first few rows\n",
    "df.head()\n"
   ]
  },
  {
   "cell_type": "markdown",
   "id": "54f3b9c8",
   "metadata": {},
   "source": [
    "# Step 2: Data Cleaning and Standardization\n",
    "To ensure the accuracy and consistency of the Market Basket Analysis, the dataset underwent a cleaning process:\n",
    "\n",
    "Missing values were removed to avoid errors during processing and analysis.\n",
    "\n",
    "Duplicate entries were dropped to prevent skewed frequency counts and incorrect associations.\n",
    "\n",
    "Text standardization was performed by converting item names to lowercase and removing leading/trailing spaces. This ensured that items like \"Milk\" and \" milk \" were treated as the same product.\n",
    "\n",
    "This step helped create a clean and uniform dataset for further transformation and analysis."
   ]
  },
  {
   "cell_type": "code",
   "execution_count": 5,
   "id": "5de241c6",
   "metadata": {},
   "outputs": [],
   "source": [
    "# Drop missing values\n",
    "df.dropna(inplace=True)\n",
    "\n",
    "# Check for duplicates\n",
    "df.drop_duplicates(inplace=True)\n",
    "\n",
    "# Ensure consistent casing\n",
    "df['Item'] = df['Item'].str.strip().str.lower()\n"
   ]
  },
  {
   "cell_type": "markdown",
   "id": "e0dfee27",
   "metadata": {},
   "source": [
    "# Step 3: Data Transformation – Preparing for Apriori Algorithm\n",
    "To apply the Apriori algorithm, the transactional data needs to be converted into a format suitable for analysis:\n",
    "\n",
    "Transaction Grouping:\n",
    "Transactions were grouped by InvoiceNo, collecting all items bought together into a list. This created a list of transactions where each transaction is a list of items.\n",
    "\n",
    "Transaction Encoding:\n",
    "Using TransactionEncoder from the mlxtend library, the list of transactions was transformed into a one-hot encoded DataFrame. In this binary matrix:\n",
    "\n",
    "Each row represents a transaction.\n",
    "\n",
    "Each column represents an item.\n",
    "\n",
    "A value of True indicates the item is present in the transaction.\n",
    "\n",
    "This transformation was necessary to enable the application of the Apriori algorithm for mining frequent itemsets."
   ]
  },
  {
   "cell_type": "code",
   "execution_count": 6,
   "id": "f6dc2ea4",
   "metadata": {},
   "outputs": [],
   "source": [
    "# Convert invoice to transaction list\n",
    "transactions = df.groupby('InvoiceNo')['Item'].apply(list).tolist()\n",
    "\n",
    "# Transaction encoding\n",
    "encoder = TransactionEncoder()\n",
    "encoded = encoder.fit(transactions).transform(transactions)\n",
    "basket_df = pd.DataFrame(encoded, columns=encoder.columns_)\n"
   ]
  },
  {
   "cell_type": "markdown",
   "id": "38080334",
   "metadata": {},
   "source": [
    "# Step 4: Validation of Encoded Data\n",
    "Before applying the Apriori algorithm, the encoded transaction data was validated to ensure correctness:\n",
    "\n",
    "Data Type Check:\n",
    "The data types of all columns in the one-hot encoded DataFrame were examined to confirm that each item column was encoded as Boolean (True/False). This step helps verify the integrity of the transaction matrix.\n",
    "\n",
    "Boolean Validation:\n",
    "An assertion was used to strictly check whether all values in the DataFrame are of Boolean type. This is crucial, as the Apriori algorithm expects binary input where each item's presence is indicated by True and absence by False.\n",
    "\n",
    "This validation step ensured that the dataset was correctly structured and ready for frequent itemset mining."
   ]
  },
  {
   "cell_type": "code",
   "execution_count": 7,
   "id": "90c15ce8",
   "metadata": {},
   "outputs": [
    {
     "name": "stdout",
     "output_type": "stream",
     "text": [
      "bool    10\n",
      "Name: count, dtype: int64\n"
     ]
    }
   ],
   "source": [
    "# Check for column types and validate encoding\n",
    "print(basket_df.dtypes.value_counts())\n",
    "\n",
    "# Check if all values are Boolean\n",
    "# Ensure all values are boolean\n",
    "assert basket_df.apply(lambda col: col.map(lambda x: isinstance(x, bool))).all().all()\n",
    "\n"
   ]
  },
  {
   "cell_type": "markdown",
   "id": "90f33ff6",
   "metadata": {},
   "source": [
    "# Step 5: Identifying Most Frequent Items\n",
    "Before applying association rule mining, an analysis of item frequency was performed:\n",
    "\n",
    "Item Count Calculation:\n",
    "The total number of transactions containing each item was calculated by summing the Boolean values column-wise. Each True value (1) represents the presence of an item in a transaction.\n",
    "\n",
    "Sorting Items by Frequency:\n",
    "The items were then sorted in descending order to identify which products appeared most frequently across all transactions.\n",
    "\n",
    "Top 10 Frequent Items:\n",
    "The top 10 most frequently purchased items were displayed. This provides a quick insight into the most popular products and helps validate the dataset's reliability.\n",
    "\n",
    "This frequency analysis helps in understanding customer purchasing behavior and supports strategic decision-making."
   ]
  },
  {
   "cell_type": "code",
   "execution_count": 8,
   "id": "6cfdd26a",
   "metadata": {},
   "outputs": [
    {
     "data": {
      "text/plain": [
       "butter     327\n",
       "cola       323\n",
       "diapers    313\n",
       "beer       309\n",
       "bread      306\n",
       "cheese     298\n",
       "milk       298\n",
       "eggs       289\n",
       "chips      287\n",
       "cookies    283\n",
       "dtype: int64"
      ]
     },
     "execution_count": 8,
     "metadata": {},
     "output_type": "execute_result"
    }
   ],
   "source": [
    "item_counts = basket_df.sum().sort_values(ascending=False)\n",
    "\n",
    "# Top 10 items\n",
    "item_counts.head(10)\n"
   ]
  },
  {
   "cell_type": "markdown",
   "id": "9d59c160",
   "metadata": {},
   "source": [
    "# Step 6: Frequent Itemset Mining and Association Rule Generation\n",
    "Frequent Itemset Mining (Apriori Algorithm):\n",
    "The Apriori algorithm was applied to the encoded transaction data to find itemsets that occur frequently together.\n",
    "\n",
    "A minimum support threshold of 0.02 (2%) was set, meaning only itemsets appearing in at least 2% of transactions were considered frequent.\n",
    "\n",
    "Generating Association Rules:\n",
    "From the frequent itemsets, association rules were extracted using the lift metric to measure the strength of the rules.\n",
    "\n",
    "Rules with a lift value greater than or equal to 1 were kept, indicating a positive correlation between items.\n",
    "\n",
    "Top Rules:\n",
    "The resulting rules were sorted by lift in descending order, and the top 10 strongest association rules were displayed.\n",
    "These rules help uncover interesting patterns such as which products are commonly purchased together."
   ]
  },
  {
   "cell_type": "code",
   "execution_count": 9,
   "id": "6770b72c",
   "metadata": {},
   "outputs": [
    {
     "data": {
      "text/html": [
       "<div>\n",
       "<style scoped>\n",
       "    .dataframe tbody tr th:only-of-type {\n",
       "        vertical-align: middle;\n",
       "    }\n",
       "\n",
       "    .dataframe tbody tr th {\n",
       "        vertical-align: top;\n",
       "    }\n",
       "\n",
       "    .dataframe thead th {\n",
       "        text-align: right;\n",
       "    }\n",
       "</style>\n",
       "<table border=\"1\" class=\"dataframe\">\n",
       "  <thead>\n",
       "    <tr style=\"text-align: right;\">\n",
       "      <th></th>\n",
       "      <th>antecedents</th>\n",
       "      <th>consequents</th>\n",
       "      <th>antecedent support</th>\n",
       "      <th>consequent support</th>\n",
       "      <th>support</th>\n",
       "      <th>confidence</th>\n",
       "      <th>lift</th>\n",
       "      <th>representativity</th>\n",
       "      <th>leverage</th>\n",
       "      <th>conviction</th>\n",
       "      <th>zhangs_metric</th>\n",
       "      <th>jaccard</th>\n",
       "      <th>certainty</th>\n",
       "      <th>kulczynski</th>\n",
       "    </tr>\n",
       "  </thead>\n",
       "  <tbody>\n",
       "    <tr>\n",
       "      <th>80</th>\n",
       "      <td>(beer)</td>\n",
       "      <td>(cola, chips)</td>\n",
       "      <td>0.309</td>\n",
       "      <td>0.086</td>\n",
       "      <td>0.035</td>\n",
       "      <td>0.113269</td>\n",
       "      <td>1.317077</td>\n",
       "      <td>1.0</td>\n",
       "      <td>0.008426</td>\n",
       "      <td>1.030752</td>\n",
       "      <td>0.348398</td>\n",
       "      <td>0.097222</td>\n",
       "      <td>0.029834</td>\n",
       "      <td>0.260123</td>\n",
       "    </tr>\n",
       "    <tr>\n",
       "      <th>77</th>\n",
       "      <td>(cola, chips)</td>\n",
       "      <td>(beer)</td>\n",
       "      <td>0.086</td>\n",
       "      <td>0.309</td>\n",
       "      <td>0.035</td>\n",
       "      <td>0.406977</td>\n",
       "      <td>1.317077</td>\n",
       "      <td>1.0</td>\n",
       "      <td>0.008426</td>\n",
       "      <td>1.165216</td>\n",
       "      <td>0.263395</td>\n",
       "      <td>0.097222</td>\n",
       "      <td>0.141790</td>\n",
       "      <td>0.260123</td>\n",
       "    </tr>\n",
       "    <tr>\n",
       "      <th>61</th>\n",
       "      <td>(butter)</td>\n",
       "      <td>(cola, beer)</td>\n",
       "      <td>0.327</td>\n",
       "      <td>0.100</td>\n",
       "      <td>0.043</td>\n",
       "      <td>0.131498</td>\n",
       "      <td>1.314985</td>\n",
       "      <td>1.0</td>\n",
       "      <td>0.010300</td>\n",
       "      <td>1.036268</td>\n",
       "      <td>0.355921</td>\n",
       "      <td>0.111979</td>\n",
       "      <td>0.034998</td>\n",
       "      <td>0.280749</td>\n",
       "    </tr>\n",
       "    <tr>\n",
       "      <th>56</th>\n",
       "      <td>(cola, beer)</td>\n",
       "      <td>(butter)</td>\n",
       "      <td>0.100</td>\n",
       "      <td>0.327</td>\n",
       "      <td>0.043</td>\n",
       "      <td>0.430000</td>\n",
       "      <td>1.314985</td>\n",
       "      <td>1.0</td>\n",
       "      <td>0.010300</td>\n",
       "      <td>1.180702</td>\n",
       "      <td>0.266150</td>\n",
       "      <td>0.111979</td>\n",
       "      <td>0.153046</td>\n",
       "      <td>0.280749</td>\n",
       "    </tr>\n",
       "    <tr>\n",
       "      <th>217</th>\n",
       "      <td>(milk, cheese)</td>\n",
       "      <td>(eggs)</td>\n",
       "      <td>0.089</td>\n",
       "      <td>0.289</td>\n",
       "      <td>0.033</td>\n",
       "      <td>0.370787</td>\n",
       "      <td>1.282998</td>\n",
       "      <td>1.0</td>\n",
       "      <td>0.007279</td>\n",
       "      <td>1.129982</td>\n",
       "      <td>0.242125</td>\n",
       "      <td>0.095652</td>\n",
       "      <td>0.115030</td>\n",
       "      <td>0.242487</td>\n",
       "    </tr>\n",
       "    <tr>\n",
       "      <th>220</th>\n",
       "      <td>(eggs)</td>\n",
       "      <td>(milk, cheese)</td>\n",
       "      <td>0.289</td>\n",
       "      <td>0.089</td>\n",
       "      <td>0.033</td>\n",
       "      <td>0.114187</td>\n",
       "      <td>1.282998</td>\n",
       "      <td>1.0</td>\n",
       "      <td>0.007279</td>\n",
       "      <td>1.028434</td>\n",
       "      <td>0.310233</td>\n",
       "      <td>0.095652</td>\n",
       "      <td>0.027647</td>\n",
       "      <td>0.242487</td>\n",
       "    </tr>\n",
       "    <tr>\n",
       "      <th>218</th>\n",
       "      <td>(eggs, cheese)</td>\n",
       "      <td>(milk)</td>\n",
       "      <td>0.088</td>\n",
       "      <td>0.298</td>\n",
       "      <td>0.033</td>\n",
       "      <td>0.375000</td>\n",
       "      <td>1.258389</td>\n",
       "      <td>1.0</td>\n",
       "      <td>0.006776</td>\n",
       "      <td>1.123200</td>\n",
       "      <td>0.225146</td>\n",
       "      <td>0.093484</td>\n",
       "      <td>0.109687</td>\n",
       "      <td>0.242869</td>\n",
       "    </tr>\n",
       "    <tr>\n",
       "      <th>219</th>\n",
       "      <td>(milk)</td>\n",
       "      <td>(eggs, cheese)</td>\n",
       "      <td>0.298</td>\n",
       "      <td>0.088</td>\n",
       "      <td>0.033</td>\n",
       "      <td>0.110738</td>\n",
       "      <td>1.258389</td>\n",
       "      <td>1.0</td>\n",
       "      <td>0.006776</td>\n",
       "      <td>1.025570</td>\n",
       "      <td>0.292498</td>\n",
       "      <td>0.093484</td>\n",
       "      <td>0.024932</td>\n",
       "      <td>0.242869</td>\n",
       "    </tr>\n",
       "    <tr>\n",
       "      <th>157</th>\n",
       "      <td>(bread, cola)</td>\n",
       "      <td>(milk)</td>\n",
       "      <td>0.097</td>\n",
       "      <td>0.298</td>\n",
       "      <td>0.036</td>\n",
       "      <td>0.371134</td>\n",
       "      <td>1.245416</td>\n",
       "      <td>1.0</td>\n",
       "      <td>0.007094</td>\n",
       "      <td>1.116295</td>\n",
       "      <td>0.218223</td>\n",
       "      <td>0.100279</td>\n",
       "      <td>0.104180</td>\n",
       "      <td>0.245970</td>\n",
       "    </tr>\n",
       "    <tr>\n",
       "      <th>160</th>\n",
       "      <td>(milk)</td>\n",
       "      <td>(bread, cola)</td>\n",
       "      <td>0.298</td>\n",
       "      <td>0.097</td>\n",
       "      <td>0.036</td>\n",
       "      <td>0.120805</td>\n",
       "      <td>1.245416</td>\n",
       "      <td>1.0</td>\n",
       "      <td>0.007094</td>\n",
       "      <td>1.027076</td>\n",
       "      <td>0.280706</td>\n",
       "      <td>0.100279</td>\n",
       "      <td>0.026363</td>\n",
       "      <td>0.245970</td>\n",
       "    </tr>\n",
       "  </tbody>\n",
       "</table>\n",
       "</div>"
      ],
      "text/plain": [
       "        antecedents     consequents  antecedent support  consequent support  \\\n",
       "80           (beer)   (cola, chips)               0.309               0.086   \n",
       "77    (cola, chips)          (beer)               0.086               0.309   \n",
       "61         (butter)    (cola, beer)               0.327               0.100   \n",
       "56     (cola, beer)        (butter)               0.100               0.327   \n",
       "217  (milk, cheese)          (eggs)               0.089               0.289   \n",
       "220          (eggs)  (milk, cheese)               0.289               0.089   \n",
       "218  (eggs, cheese)          (milk)               0.088               0.298   \n",
       "219          (milk)  (eggs, cheese)               0.298               0.088   \n",
       "157   (bread, cola)          (milk)               0.097               0.298   \n",
       "160          (milk)   (bread, cola)               0.298               0.097   \n",
       "\n",
       "     support  confidence      lift  representativity  leverage  conviction  \\\n",
       "80     0.035    0.113269  1.317077               1.0  0.008426    1.030752   \n",
       "77     0.035    0.406977  1.317077               1.0  0.008426    1.165216   \n",
       "61     0.043    0.131498  1.314985               1.0  0.010300    1.036268   \n",
       "56     0.043    0.430000  1.314985               1.0  0.010300    1.180702   \n",
       "217    0.033    0.370787  1.282998               1.0  0.007279    1.129982   \n",
       "220    0.033    0.114187  1.282998               1.0  0.007279    1.028434   \n",
       "218    0.033    0.375000  1.258389               1.0  0.006776    1.123200   \n",
       "219    0.033    0.110738  1.258389               1.0  0.006776    1.025570   \n",
       "157    0.036    0.371134  1.245416               1.0  0.007094    1.116295   \n",
       "160    0.036    0.120805  1.245416               1.0  0.007094    1.027076   \n",
       "\n",
       "     zhangs_metric   jaccard  certainty  kulczynski  \n",
       "80        0.348398  0.097222   0.029834    0.260123  \n",
       "77        0.263395  0.097222   0.141790    0.260123  \n",
       "61        0.355921  0.111979   0.034998    0.280749  \n",
       "56        0.266150  0.111979   0.153046    0.280749  \n",
       "217       0.242125  0.095652   0.115030    0.242487  \n",
       "220       0.310233  0.095652   0.027647    0.242487  \n",
       "218       0.225146  0.093484   0.109687    0.242869  \n",
       "219       0.292498  0.093484   0.024932    0.242869  \n",
       "157       0.218223  0.100279   0.104180    0.245970  \n",
       "160       0.280706  0.100279   0.026363    0.245970  "
      ]
     },
     "execution_count": 9,
     "metadata": {},
     "output_type": "execute_result"
    }
   ],
   "source": [
    "frequent_items = apriori(basket_df, min_support=0.02, use_colnames=True)\n",
    "\n",
    "# Association rules\n",
    "rules = association_rules(frequent_items, metric='lift', min_threshold=1)\n",
    "rules.sort_values('lift', ascending=False).head(10)\n"
   ]
  },
  {
   "cell_type": "markdown",
   "id": "03ced4d5",
   "metadata": {},
   "source": [
    "# Step 7: Refining the Dataset by Removing Rare Items\n",
    "Removing Very Rare Items:\n",
    "To improve the efficiency and quality of the analysis, items that appear in 10 or fewer transactions were removed. Rare items can add noise and slow down the mining process without contributing meaningful patterns.\n",
    "\n",
    "Data Type Conversion:\n",
    "Although not commonly necessary in Market Basket Analysis, the dataset was converted from Boolean (True/False) to integer (1/0) format. This can help with certain algorithms or visualizations that expect numeric input.\n",
    "\n",
    "This refinement step ensures a more focused dataset with relevant items, leading to more reliable and interpretable association rules."
   ]
  },
  {
   "cell_type": "code",
   "execution_count": 10,
   "id": "b13be41c",
   "metadata": {},
   "outputs": [],
   "source": [
    "# Remove very rare items\n",
    "basket_df = basket_df.loc[:, basket_df.sum() > 10]\n",
    "\n",
    "# Normalize if required (not common in MBA, but shown here)\n",
    "basket_df = basket_df.astype(int)\n"
   ]
  },
  {
   "cell_type": "markdown",
   "id": "310ae55a",
   "metadata": {},
   "source": [
    "# Step 8: Visualization of Top Frequent Items\n",
    "Creating Output Directory:\n",
    "A directory was created to save visualization images. This ensures organized storage of output files.\n",
    "\n",
    "Plotting Item Frequencies:\n",
    "A bar chart was generated to display the top 10 most frequently purchased items.\n",
    "\n",
    "The x-axis shows item names.\n",
    "\n",
    "The y-axis represents the frequency (number of transactions containing each item).\n",
    "\n",
    "The chart includes proper labels and rotated x-ticks for readability.\n",
    "\n",
    "Saving the Plot:\n",
    "The plot was saved as a PNG image in the created directory for later reference or reporting.\n",
    "\n",
    "This visualization provides a clear and immediate insight into customer buying behavior and popular products."
   ]
  },
  {
   "cell_type": "code",
   "execution_count": 11,
   "id": "eb3100f3",
   "metadata": {},
   "outputs": [
    {
     "data": {
      "image/png": "[encoded data removed]",
      "text/plain": [
       "<Figure size 1000x500 with 1 Axes>"
      ]
     },
     "metadata": {},
     "output_type": "display_data"
    }
   ],
   "source": [
    "import os\n",
    "\n",
    "# Create directory if it doesn't exist\n",
    "os.makedirs(\"outputs/visuals\", exist_ok=True)\n",
    "\n",
    "# Plot\n",
    "plt.figure(figsize=(10,5))\n",
    "item_counts.head(10).plot(kind='bar')\n",
    "plt.title(\"Top 10 Most Frequent Items\")\n",
    "plt.ylabel(\"Frequency\")\n",
    "plt.xticks(rotation=45)\n",
    "plt.tight_layout()\n",
    "plt.savefig(\"outputs/visuals/item_frequency.png\")\n",
    "plt.show()\n"
   ]
  },
  {
   "cell_type": "markdown",
   "id": "27f048ae",
   "metadata": {},
   "source": [
    "# Step 9: Item Co-occurrence Analysis Using Heatmap\n",
    "Correlation Matrix Calculation:\n",
    "The pairwise correlation matrix of items was computed to understand how frequently items are purchased together across transactions.\n",
    "\n",
    "This matrix quantifies the strength of co-occurrence between items.\n",
    "\n",
    "Heatmap Visualization:\n",
    "A heatmap was plotted to visually represent the correlations:\n",
    "\n",
    "Colors range from light to dark, indicating weaker to stronger associations respectively.\n",
    "\n",
    "This helps identify clusters of items that often appear together.\n",
    "\n",
    "Saving the Heatmap:\n",
    "The heatmap image was saved for documentation and deeper analysis.\n",
    "\n",
    "This heatmap aids in quickly spotting strong item associations, enhancing the interpretability of market basket patterns."
   ]
  },
  {
   "cell_type": "code",
   "execution_count": 12,
   "id": "3555b3af",
   "metadata": {},
   "outputs": [
    {
     "data": {
      "image/png": "[encoded data removed]",
      "text/plain": [
       "<Figure size 1200x1000 with 2 Axes>"
      ]
     },
     "metadata": {},
     "output_type": "display_data"
    }
   ],
   "source": [
    "co_matrix = basket_df.corr()\n",
    "plt.figure(figsize=(12,10))\n",
    "sns.heatmap(co_matrix, cmap=\"YlGnBu\")\n",
    "plt.title(\"Item Co-occurrence Heatmap\")\n",
    "plt.tight_layout()\n",
    "plt.savefig(\"outputs/visuals/heatmap.png\")\n",
    "plt.show()\n"
   ]
  },
  {
   "cell_type": "markdown",
   "id": "e16a5a2f",
   "metadata": {},
   "source": [
    "# Step 10: Visualizing Association Rules as a Network Graph\n",
    "Network Graph Construction:\n",
    "A directed graph was created using the networkx library to represent the association rules:\n",
    "\n",
    "Nodes represent individual items.\n",
    "\n",
    "Edges represent rules from antecedents (if items) to consequents (then items).\n",
    "\n",
    "The edge weight corresponds to the strength of association measured by the lift metric.\n",
    "\n",
    "Graph Layout and Visualization:\n",
    "The graph was visualized using a spring layout to spatially arrange the nodes for clarity.\n",
    "\n",
    "Nodes are colored sky blue for visibility.\n",
    "\n",
    "Edges are gray, indicating directional relationships between items.\n",
    "\n",
    "Labels are displayed for easy identification of items.\n",
    "\n",
    "Saving the Graph:\n",
    "The network graph image was saved for documentation and further exploration.\n",
    "\n",
    "This network visualization provides an intuitive view of how products are related through strong association rules, helping to identify key item relationships in the dataset.\n",
    "\n"
   ]
  },
  {
   "cell_type": "code",
   "execution_count": 13,
   "id": "ff39c6d5",
   "metadata": {},
   "outputs": [
    {
     "data": {
      "image/png": "[encoded data removed]",
      "text/plain": [
       "<Figure size 1200x800 with 1 Axes>"
      ]
     },
     "metadata": {},
     "output_type": "display_data"
    }
   ],
   "source": [
    "import networkx as nx\n",
    "\n",
    "G = nx.DiGraph()\n",
    "\n",
    "for _, row in rules.iterrows():\n",
    "    for antecedent in row['antecedents']:\n",
    "        for consequent in row['consequents']:\n",
    "            G.add_edge(antecedent, consequent, weight=row['lift'])\n",
    "\n",
    "plt.figure(figsize=(12, 8))\n",
    "pos = nx.spring_layout(G, k=2)\n",
    "nx.draw(G, pos, with_labels=True, node_color='skyblue', edge_color='gray', node_size=2000, font_size=10)\n",
    "plt.title(\"Association Rules Network\")\n",
    "plt.savefig(\"outputs/visuals/network_graph.png\")\n",
    "plt.show()\n"
   ]
  },
  {
   "cell_type": "markdown",
   "id": "4cbd369d",
   "metadata": {},
   "source": [
    "### Market Basket Analysis: Scoring-Optimized Visualizations\n",
    " This code sets up a Market Basket Analysis tool, which helps find relationships between products (like \"People who buy X also buy Y\")."
   ]
  },
  {
   "cell_type": "code",
   "execution_count": null,
   "id": "a2f5cc85",
   "metadata": {},
   "outputs": [],
   "source": [
    "\"\"\"\n",
    "# Market Basket Analysis: Scoring-Optimized Visualizations\n",
    "\"\"\"\n",
    "\n",
    "# IMPORTS\n",
    "import pandas as pd\n",
    "import plotly.express as px\n",
    "import plotly.graph_objects as go\n",
    "from plotly.subplots import make_subplots\n",
    "from mlxtend.frequent_patterns import apriori, association_rules\n"
   ]
  },
  {
   "cell_type": "markdown",
   "id": "1026ae40",
   "metadata": {},
   "source": [
    "# 🛒 Data Preparation Steps:\n",
    "Groups items by each InvoiceNo to create transaction lists.\n",
    "\n",
    "Uses TransactionEncoder to convert lists into a one-hot encoded DataFrame (basket_df) showing product presence in each transaction.\n",
    "\n",
    "Extracts the top 20 most frequent products from this data.\n",
    "\n",
    "Applies the Apriori algorithm to find frequent itemsets (≥2% support).\n",
    "\n",
    "Generates association rules from those itemsets, filtered by lift ≥ 1.\n",
    "\n"
   ]
  },
  {
   "cell_type": "code",
   "execution_count": null,
   "id": "ea937a3c",
   "metadata": {},
   "outputs": [],
   "source": [
    "\"\"\"\n",
    "\n",
    "**Strategic Choices:**\n",
    "- Frequency: Horizontal Bar Chart (best for ranking)\n",
    "- Associations: Network Graph (shows relationships)\n",
    "- Rule Quality: Scatter Plot (3 metrics simultaneously)\n",
    "- Composition: Sunburst (hierarchy + proportions)\n",
    "\"\"\"\n",
    "\n",
    "# DATA PREP\n",
    "transactions = df.groupby('InvoiceNo')['Item'].apply(list)\n",
    "encoder = TransactionEncoder()\n",
    "basket_df = pd.DataFrame(encoder.fit_transform(transactions), columns=encoder.columns_)\n",
    "item_freq = basket_df.sum().sort_values().tail(20)\n",
    "\n",
    "# Generate rules\n",
    "rules = association_rules(apriori(basket_df, min_support=0.02, use_colnames=True), \n",
    "                         metric='lift', min_threshold=1)"
   ]
  },
  {
   "cell_type": "markdown",
   "id": "c0a15e4a",
   "metadata": {},
   "source": [
    "## Product Frequency Visualization\n",
    "This code creates a horizontal bar chart titled \"Top 20 Products by Purchase Frequency\".\n",
    "\n",
    "It shows the 20 products bought most often, with bars sized and colored by the number of transactions.\n",
    "\n",
    "The chart orders products from least to most frequent on the y-axis for easy comparison.\n",
    "\n",
    "The chart is interactive and displayed using Plotly."
   ]
  },
  {
   "cell_type": "code",
   "execution_count": null,
   "id": "925a44fa",
   "metadata": {},
   "outputs": [
    {
     "data": {
      "application/vnd.plotly.v1+json": {
       "config": {
        "plotlyServerURL": "https://plot.ly"
       },
       "data": [
        {
         "hovertemplate": "Transactions=%{x}<br>Product=%{y}<br>color=%{marker.color}<extra></extra>",
         "legendgroup": "",
         "marker": {
          "color": {
           "bdata": "GwEfASEBKgEqATIBNQE5AUMBRwE=",
           "dtype": "i2"
          },
          "coloraxis": "coloraxis",
          "pattern": {
           "shape": ""
          }
         },
         "name": "",
         "orientation": "h",
         "showlegend": false,
         "textposition": "auto",
         "type": "bar",
         "x": {
          "bdata": "GwEfASEBKgEqATIBNQE5AUMBRwE=",
          "dtype": "i2"
         },
         "xaxis": "x",
         "y": [
          "cookies",
          "chips",
          "eggs",
          "cheese",
          "milk",
          "bread",
          "beer",
          "diapers",
          "cola",
          "butter"
         ],
         "yaxis": "y"
        }
       ],
       "layout": {
        "barmode": "relative",
        "coloraxis": {
         "colorbar": {
          "title": {
           "text": "color"
          }
         },
         "colorscale": [
          [
           0,
           "rgb(0,0,255)"
          ],
          [
           1,
           "rgb(255,0,0)"
          ]
         ]
        },
        "legend": {
         "tracegroupgap": 0
        },
        "template": {
         "data": {
          "bar": [
           {
            "error_x": {
             "color": "#2a3f5f"
            },
            "error_y": {
             "color": "#2a3f5f"
            },
            "marker": {
             "line": {
              "color": "#E5ECF6",
              "width": 0.5
             },
             "pattern": {
              "fillmode": "overlay",
              "size": 10,
              "solidity": 0.2
             }
            },
            "type": "bar"
           }
          ],
          "barpolar": [
           {
            "marker": {
             "line": {
              "color": "#E5ECF6",
              "width": 0.5
             },
             "pattern": {
              "fillmode": "overlay",
              "size": 10,
              "solidity": 0.2
             }
            },
            "type": "barpolar"
           }
          ],
          "carpet": [
           {
            "aaxis": {
             "endlinecolor": "#2a3f5f",
             "gridcolor": "white",
             "linecolor": "white",
             "minorgridcolor": "white",
             "startlinecolor": "#2a3f5f"
            },
            "baxis": {
             "endlinecolor": "#2a3f5f",
             "gridcolor": "white",
             "linecolor": "white",
             "minorgridcolor": "white",
             "startlinecolor": "#2a3f5f"
            },
            "type": "carpet"
           }
          ],
          "choropleth": [
           {
            "colorbar": {
             "outlinewidth": 0,
             "ticks": ""
            },
            "type": "choropleth"
           }
          ],
          "contour": [
           {
            "colorbar": {
             "outlinewidth": 0,
             "ticks": ""
            },
            "colorscale": [
             [
              0,
              "#0d0887"
             ],
             [
              0.1111111111111111,
              "#46039f"
             ],
             [
              0.2222222222222222,
              "#7201a8"
             ],
             [
              0.3333333333333333,
              "#9c179e"
             ],
             [
              0.4444444444444444,
              "#bd3786"
             ],
             [
              0.5555555555555556,
              "#d8576b"
             ],
             [
              0.6666666666666666,
              "#ed7953"
             ],
             [
              0.7777777777777778,
              "#fb9f3a"
             ],
             [
              0.8888888888888888,
              "#fdca26"
             ],
             [
              1,
              "#f0f921"
             ]
            ],
            "type": "contour"
           }
          ],
          "contourcarpet": [
           {
            "colorbar": {
             "outlinewidth": 0,
             "ticks": ""
            },
            "type": "contourcarpet"
           }
          ],
          "heatmap": [
           {
            "colorbar": {
             "outlinewidth": 0,
             "ticks": ""
            },
            "colorscale": [
             [
              0,
              "#0d0887"
             ],
             [
              0.1111111111111111,
              "#46039f"
             ],
             [
              0.2222222222222222,
              "#7201a8"
             ],
             [
              0.3333333333333333,
              "#9c179e"
             ],
             [
              0.4444444444444444,
              "#bd3786"
             ],
             [
              0.5555555555555556,
              "#d8576b"
             ],
             [
              0.6666666666666666,
              "#ed7953"
             ],
             [
              0.7777777777777778,
              "#fb9f3a"
             ],
             [
              0.8888888888888888,
              "#fdca26"
             ],
             [
              1,
              "#f0f921"
             ]
            ],
            "type": "heatmap"
           }
          ],
          "histogram": [
           {
            "marker": {
             "pattern": {
              "fillmode": "overlay",
              "size": 10,
              "solidity": 0.2
             }
            },
            "type": "histogram"
           }
          ],
          "histogram2d": [
           {
            "colorbar": {
             "outlinewidth": 0,
             "ticks": ""
            },
            "colorscale": [
             [
              0,
              "#0d0887"
             ],
             [
              0.1111111111111111,
              "#46039f"
             ],
             [
              0.2222222222222222,
              "#7201a8"
             ],
             [
              0.3333333333333333,
              "#9c179e"
             ],
             [
              0.4444444444444444,
              "#bd3786"
             ],
             [
              0.5555555555555556,
              "#d8576b"
             ],
             [
              0.6666666666666666,
              "#ed7953"
             ],
             [
              0.7777777777777778,
              "#fb9f3a"
             ],
             [
              0.8888888888888888,
              "#fdca26"
             ],
             [
              1,
              "#f0f921"
             ]
            ],
            "type": "histogram2d"
           }
          ],
          "histogram2dcontour": [
           {
            "colorbar": {
             "outlinewidth": 0,
             "ticks": ""
            },
            "colorscale": [
             [
              0,
              "#0d0887"
             ],
             [
              0.1111111111111111,
              "#46039f"
             ],
             [
              0.2222222222222222,
              "#7201a8"
             ],
             [
              0.3333333333333333,
              "#9c179e"
             ],
             [
              0.4444444444444444,
              "#bd3786"
             ],
             [
              0.5555555555555556,
              "#d8576b"
             ],
             [
              0.6666666666666666,
              "#ed7953"
             ],
             [
              0.7777777777777778,
              "#fb9f3a"
             ],
             [
              0.8888888888888888,
              "#fdca26"
             ],
             [
              1,
              "#f0f921"
             ]
            ],
            "type": "histogram2dcontour"
           }
          ],
          "mesh3d": [
           {
            "colorbar": {
             "outlinewidth": 0,
             "ticks": ""
            },
            "type": "mesh3d"
           }
          ],
          "parcoords": [
           {
            "line": {
             "colorbar": {
              "outlinewidth": 0,
              "ticks": ""
             }
            },
            "type": "parcoords"
           }
          ],
          "pie": [
           {
            "automargin": true,
            "type": "pie"
           }
          ],
          "scatter": [
           {
            "fillpattern": {
             "fillmode": "overlay",
             "size": 10,
             "solidity": 0.2
            },
            "type": "scatter"
           }
          ],
          "scatter3d": [
           {
            "line": {
             "colorbar": {
              "outlinewidth": 0,
              "ticks": ""
             }
            },
            "marker": {
             "colorbar": {
              "outlinewidth": 0,
              "ticks": ""
             }
            },
            "type": "scatter3d"
           }
          ],
          "scattercarpet": [
           {
            "marker": {
             "colorbar": {
              "outlinewidth": 0,
              "ticks": ""
             }
            },
            "type": "scattercarpet"
           }
          ],
          "scattergeo": [
           {
            "marker": {
             "colorbar": {
              "outlinewidth": 0,
              "ticks": ""
             }
            },
            "type": "scattergeo"
           }
          ],
          "scattergl": [
           {
            "marker": {
             "colorbar": {
              "outlinewidth": 0,
              "ticks": ""
             }
            },
            "type": "scattergl"
           }
          ],
          "scattermap": [
           {
            "marker": {
             "colorbar": {
              "outlinewidth": 0,
              "ticks": ""
             }
            },
            "type": "scattermap"
           }
          ],
          "scattermapbox": [
           {
            "marker": {
             "colorbar": {
              "outlinewidth": 0,
              "ticks": ""
             }
            },
            "type": "scattermapbox"
           }
          ],
          "scatterpolar": [
           {
            "marker": {
             "colorbar": {
              "outlinewidth": 0,
              "ticks": ""
             }
            },
            "type": "scatterpolar"
           }
          ],
          "scatterpolargl": [
           {
            "marker": {
             "colorbar": {
              "outlinewidth": 0,
              "ticks": ""
             }
            },
            "type": "scatterpolargl"
           }
          ],
          "scatterternary": [
           {
            "marker": {
             "colorbar": {
              "outlinewidth": 0,
              "ticks": ""
             }
            },
            "type": "scatterternary"
           }
          ],
          "surface": [
           {
            "colorbar": {
             "outlinewidth": 0,
             "ticks": ""
            },
            "colorscale": [
             [
              0,
              "#0d0887"
             ],
             [
              0.1111111111111111,
              "#46039f"
             ],
             [
              0.2222222222222222,
              "#7201a8"
             ],
             [
              0.3333333333333333,
              "#9c179e"
             ],
             [
              0.4444444444444444,
              "#bd3786"
             ],
             [
              0.5555555555555556,
              "#d8576b"
             ],
             [
              0.6666666666666666,
              "#ed7953"
             ],
             [
              0.7777777777777778,
              "#fb9f3a"
             ],
             [
              0.8888888888888888,
              "#fdca26"
             ],
             [
              1,
              "#f0f921"
             ]
            ],
            "type": "surface"
           }
          ],
          "table": [
           {
            "cells": {
             "fill": {
              "color": "#EBF0F8"
             },
             "line": {
              "color": "white"
             }
            },
            "header": {
             "fill": {
              "color": "#C8D4E3"
             },
             "line": {
              "color": "white"
             }
            },
            "type": "table"
           }
          ]
         },
         "layout": {
          "annotationdefaults": {
           "arrowcolor": "#2a3f5f",
           "arrowhead": 0,
           "arrowwidth": 1
          },
          "autotypenumbers": "strict",
          "coloraxis": {
           "colorbar": {
            "outlinewidth": 0,
            "ticks": ""
           }
          },
          "colorscale": {
           "diverging": [
            [
             0,
             "#8e0152"
            ],
            [
             0.1,
             "#c51b7d"
            ],
            [
             0.2,
             "#de77ae"
            ],
            [
             0.3,
             "#f1b6da"
            ],
            [
             0.4,
             "#fde0ef"
            ],
            [
             0.5,
             "#f7f7f7"
            ],
            [
             0.6,
             "#e6f5d0"
            ],
            [
             0.7,
             "#b8e186"
            ],
            [
             0.8,
             "#7fbc41"
            ],
            [
             0.9,
             "#4d9221"
            ],
            [
             1,
             "#276419"
            ]
           ],
           "sequential": [
            [
             0,
             "#0d0887"
            ],
            [
             0.1111111111111111,
             "#46039f"
            ],
            [
             0.2222222222222222,
             "#7201a8"
            ],
            [
             0.3333333333333333,
             "#9c179e"
            ],
            [
             0.4444444444444444,
             "#bd3786"
            ],
            [
             0.5555555555555556,
             "#d8576b"
            ],
            [
             0.6666666666666666,
             "#ed7953"
            ],
            [
             0.7777777777777778,
             "#fb9f3a"
            ],
            [
             0.8888888888888888,
             "#fdca26"
            ],
            [
             1,
             "#f0f921"
            ]
           ],
           "sequentialminus": [
            [
             0,
             "#0d0887"
            ],
            [
             0.1111111111111111,
             "#46039f"
            ],
            [
             0.2222222222222222,
             "#7201a8"
            ],
            [
             0.3333333333333333,
             "#9c179e"
            ],
            [
             0.4444444444444444,
             "#bd3786"
            ],
            [
             0.5555555555555556,
             "#d8576b"
            ],
            [
             0.6666666666666666,
             "#ed7953"
            ],
            [
             0.7777777777777778,
             "#fb9f3a"
            ],
            [
             0.8888888888888888,
             "#fdca26"
            ],
            [
             1,
             "#f0f921"
            ]
           ]
          },
          "colorway": [
           "#636efa",
           "#EF553B",
           "#00cc96",
           "#ab63fa",
           "#FFA15A",
           "#19d3f3",
           "#FF6692",
           "#B6E880",
           "#FF97FF",
           "#FECB52"
          ],
          "font": {
           "color": "#2a3f5f"
          },
          "geo": {
           "bgcolor": "white",
           "lakecolor": "white",
           "landcolor": "#E5ECF6",
           "showlakes": true,
           "showland": true,
           "subunitcolor": "white"
          },
          "hoverlabel": {
           "align": "left"
          },
          "hovermode": "closest",
          "mapbox": {
           "style": "light"
          },
          "paper_bgcolor": "white",
          "plot_bgcolor": "#E5ECF6",
          "polar": {
           "angularaxis": {
            "gridcolor": "white",
            "linecolor": "white",
            "ticks": ""
           },
           "bgcolor": "#E5ECF6",
           "radialaxis": {
            "gridcolor": "white",
            "linecolor": "white",
            "ticks": ""
           }
          },
          "scene": {
           "xaxis": {
            "backgroundcolor": "#E5ECF6",
            "gridcolor": "white",
            "gridwidth": 2,
            "linecolor": "white",
            "showbackground": true,
            "ticks": "",
            "zerolinecolor": "white"
           },
           "yaxis": {
            "backgroundcolor": "#E5ECF6",
            "gridcolor": "white",
            "gridwidth": 2,
            "linecolor": "white",
            "showbackground": true,
            "ticks": "",
            "zerolinecolor": "white"
           },
           "zaxis": {
            "backgroundcolor": "#E5ECF6",
            "gridcolor": "white",
            "gridwidth": 2,
            "linecolor": "white",
            "showbackground": true,
            "ticks": "",
            "zerolinecolor": "white"
           }
          },
          "shapedefaults": {
           "line": {
            "color": "#2a3f5f"
           }
          },
          "ternary": {
           "aaxis": {
            "gridcolor": "white",
            "linecolor": "white",
            "ticks": ""
           },
           "baxis": {
            "gridcolor": "white",
            "linecolor": "white",
            "ticks": ""
           },
           "bgcolor": "#E5ECF6",
           "caxis": {
            "gridcolor": "white",
            "linecolor": "white",
            "ticks": ""
           }
          },
          "title": {
           "x": 0.05
          },
          "xaxis": {
           "automargin": true,
           "gridcolor": "white",
           "linecolor": "white",
           "ticks": "",
           "title": {
            "standoff": 15
           },
           "zerolinecolor": "white",
           "zerolinewidth": 2
          },
          "yaxis": {
           "automargin": true,
           "gridcolor": "white",
           "linecolor": "white",
           "ticks": "",
           "title": {
            "standoff": 15
           },
           "zerolinecolor": "white",
           "zerolinewidth": 2
          }
         }
        },
        "title": {
         "text": "<b>Top 20 Products by Purchase Frequency</b>"
        },
        "xaxis": {
         "anchor": "y",
         "domain": [
          0,
          1
         ],
         "title": {
          "text": "Transactions"
         }
        },
        "yaxis": {
         "anchor": "x",
         "categoryorder": "total ascending",
         "domain": [
          0,
          1
         ],
         "title": {
          "text": "Product"
         }
        }
       }
      }
     },
     "metadata": {},
     "output_type": "display_data"
    }
   ],
   "source": [
    "\"\"\"\n",
    "### 1.1 Product Frequency (Horizontal Bar)\n",
    "\"\"\"\n",
    "\n",
    "fig1 = px.bar(item_freq, orientation='h', \n",
    "             title='<b>Top 20 Products by Purchase Frequency</b>',\n",
    "             labels={'index':'Product', 'value':'Transactions'},\n",
    "             color=item_freq.values,\n",
    "             color_continuous_scale='Bluered')\n",
    "fig1.update_layout(yaxis={'categoryorder':'total ascending'})\n",
    "fig1.show()\n"
   ]
  },
  {
   "cell_type": "markdown",
   "id": "aa8e53b2",
   "metadata": {},
   "source": [
    "## Association Network Visualization\n",
    "Selects strong association rules with lift > 3 to show strong product relationships.\n",
    "\n",
    "Extracts the single product names from rule antecedents and consequents.\n",
    "\n",
    "Creates a scatter plot where each point represents a product pair (antecedent vs consequent).\n",
    "\n",
    "The point size and color reflect the strength of association (lift).\n",
    "\n",
    "Adds hover info to show lift values.\n",
    "\n",
    "Displays the interactive plot with a clear title: \"Product Associations (Size = Lift Strength)\".\n",
    "\n"
   ]
  },
  {
   "cell_type": "code",
   "execution_count": null,
   "id": "c60ae6f7",
   "metadata": {},
   "outputs": [
    {
     "data": {
      "application/vnd.plotly.v1+json": {
       "config": {
        "plotlyServerURL": "https://plot.ly"
       },
       "data": [
        {
         "customdata": [],
         "hovertemplate": "antecedents=%{x}<br>consequents=%{y}<br>lift=%{marker.color}<extra></extra>",
         "legendgroup": "",
         "marker": {
          "color": [],
          "coloraxis": "coloraxis",
          "line": {
           "color": "DarkSlateGrey",
           "width": 1
          },
          "size": [],
          "sizemode": "area",
          "sizeref": null,
          "symbol": "circle"
         },
         "mode": "markers",
         "name": "",
         "orientation": "v",
         "showlegend": false,
         "type": "scatter",
         "x": [],
         "xaxis": "x",
         "y": [],
         "yaxis": "y"
        }
       ],
       "layout": {
        "coloraxis": {
         "colorbar": {
          "title": {
           "text": "lift"
          }
         },
         "colorscale": [
          [
           0,
           "#0d0887"
          ],
          [
           0.1111111111111111,
           "#46039f"
          ],
          [
           0.2222222222222222,
           "#7201a8"
          ],
          [
           0.3333333333333333,
           "#9c179e"
          ],
          [
           0.4444444444444444,
           "#bd3786"
          ],
          [
           0.5555555555555556,
           "#d8576b"
          ],
          [
           0.6666666666666666,
           "#ed7953"
          ],
          [
           0.7777777777777778,
           "#fb9f3a"
          ],
          [
           0.8888888888888888,
           "#fdca26"
          ],
          [
           1,
           "#f0f921"
          ]
         ]
        },
        "legend": {
         "itemsizing": "constant",
         "tracegroupgap": 0
        },
        "template": {
         "data": {
          "bar": [
           {
            "error_x": {
             "color": "#2a3f5f"
            },
            "error_y": {
             "color": "#2a3f5f"
            },
            "marker": {
             "line": {
              "color": "#E5ECF6",
              "width": 0.5
             },
             "pattern": {
              "fillmode": "overlay",
              "size": 10,
              "solidity": 0.2
             }
            },
            "type": "bar"
           }
          ],
          "barpolar": [
           {
            "marker": {
             "line": {
              "color": "#E5ECF6",
              "width": 0.5
             },
             "pattern": {
              "fillmode": "overlay",
              "size": 10,
              "solidity": 0.2
             }
            },
            "type": "barpolar"
           }
          ],
          "carpet": [
           {
            "aaxis": {
             "endlinecolor": "#2a3f5f",
             "gridcolor": "white",
             "linecolor": "white",
             "minorgridcolor": "white",
             "startlinecolor": "#2a3f5f"
            },
            "baxis": {
             "endlinecolor": "#2a3f5f",
             "gridcolor": "white",
             "linecolor": "white",
             "minorgridcolor": "white",
             "startlinecolor": "#2a3f5f"
            },
            "type": "carpet"
           }
          ],
          "choropleth": [
           {
            "colorbar": {
             "outlinewidth": 0,
             "ticks": ""
            },
            "type": "choropleth"
           }
          ],
          "contour": [
           {
            "colorbar": {
             "outlinewidth": 0,
             "ticks": ""
            },
            "colorscale": [
             [
              0,
              "#0d0887"
             ],
             [
              0.1111111111111111,
              "#46039f"
             ],
             [
              0.2222222222222222,
              "#7201a8"
             ],
             [
              0.3333333333333333,
              "#9c179e"
             ],
             [
              0.4444444444444444,
              "#bd3786"
             ],
             [
              0.5555555555555556,
              "#d8576b"
             ],
             [
              0.6666666666666666,
              "#ed7953"
             ],
             [
              0.7777777777777778,
              "#fb9f3a"
             ],
             [
              0.8888888888888888,
              "#fdca26"
             ],
             [
              1,
              "#f0f921"
             ]
            ],
            "type": "contour"
           }
          ],
          "contourcarpet": [
           {
            "colorbar": {
             "outlinewidth": 0,
             "ticks": ""
            },
            "type": "contourcarpet"
           }
          ],
          "heatmap": [
           {
            "colorbar": {
             "outlinewidth": 0,
             "ticks": ""
            },
            "colorscale": [
             [
              0,
              "#0d0887"
             ],
             [
              0.1111111111111111,
              "#46039f"
             ],
             [
              0.2222222222222222,
              "#7201a8"
             ],
             [
              0.3333333333333333,
              "#9c179e"
             ],
             [
              0.4444444444444444,
              "#bd3786"
             ],
             [
              0.5555555555555556,
              "#d8576b"
             ],
             [
              0.6666666666666666,
              "#ed7953"
             ],
             [
              0.7777777777777778,
              "#fb9f3a"
             ],
             [
              0.8888888888888888,
              "#fdca26"
             ],
             [
              1,
              "#f0f921"
             ]
            ],
            "type": "heatmap"
           }
          ],
          "histogram": [
           {
            "marker": {
             "pattern": {
              "fillmode": "overlay",
              "size": 10,
              "solidity": 0.2
             }
            },
            "type": "histogram"
           }
          ],
          "histogram2d": [
           {
            "colorbar": {
             "outlinewidth": 0,
             "ticks": ""
            },
            "colorscale": [
             [
              0,
              "#0d0887"
             ],
             [
              0.1111111111111111,
              "#46039f"
             ],
             [
              0.2222222222222222,
              "#7201a8"
             ],
             [
              0.3333333333333333,
              "#9c179e"
             ],
             [
              0.4444444444444444,
              "#bd3786"
             ],
             [
              0.5555555555555556,
              "#d8576b"
             ],
             [
              0.6666666666666666,
              "#ed7953"
             ],
             [
              0.7777777777777778,
              "#fb9f3a"
             ],
             [
              0.8888888888888888,
              "#fdca26"
             ],
             [
              1,
              "#f0f921"
             ]
            ],
            "type": "histogram2d"
           }
          ],
          "histogram2dcontour": [
           {
            "colorbar": {
             "outlinewidth": 0,
             "ticks": ""
            },
            "colorscale": [
             [
              0,
              "#0d0887"
             ],
             [
              0.1111111111111111,
              "#46039f"
             ],
             [
              0.2222222222222222,
              "#7201a8"
             ],
             [
              0.3333333333333333,
              "#9c179e"
             ],
             [
              0.4444444444444444,
              "#bd3786"
             ],
             [
              0.5555555555555556,
              "#d8576b"
             ],
             [
              0.6666666666666666,
              "#ed7953"
             ],
             [
              0.7777777777777778,
              "#fb9f3a"
             ],
             [
              0.8888888888888888,
              "#fdca26"
             ],
             [
              1,
              "#f0f921"
             ]
            ],
            "type": "histogram2dcontour"
           }
          ],
          "mesh3d": [
           {
            "colorbar": {
             "outlinewidth": 0,
             "ticks": ""
            },
            "type": "mesh3d"
           }
          ],
          "parcoords": [
           {
            "line": {
             "colorbar": {
              "outlinewidth": 0,
              "ticks": ""
             }
            },
            "type": "parcoords"
           }
          ],
          "pie": [
           {
            "automargin": true,
            "type": "pie"
           }
          ],
          "scatter": [
           {
            "fillpattern": {
             "fillmode": "overlay",
             "size": 10,
             "solidity": 0.2
            },
            "type": "scatter"
           }
          ],
          "scatter3d": [
           {
            "line": {
             "colorbar": {
              "outlinewidth": 0,
              "ticks": ""
             }
            },
            "marker": {
             "colorbar": {
              "outlinewidth": 0,
              "ticks": ""
             }
            },
            "type": "scatter3d"
           }
          ],
          "scattercarpet": [
           {
            "marker": {
             "colorbar": {
              "outlinewidth": 0,
              "ticks": ""
             }
            },
            "type": "scattercarpet"
           }
          ],
          "scattergeo": [
           {
            "marker": {
             "colorbar": {
              "outlinewidth": 0,
              "ticks": ""
             }
            },
            "type": "scattergeo"
           }
          ],
          "scattergl": [
           {
            "marker": {
             "colorbar": {
              "outlinewidth": 0,
              "ticks": ""
             }
            },
            "type": "scattergl"
           }
          ],
          "scattermap": [
           {
            "marker": {
             "colorbar": {
              "outlinewidth": 0,
              "ticks": ""
             }
            },
            "type": "scattermap"
           }
          ],
          "scattermapbox": [
           {
            "marker": {
             "colorbar": {
              "outlinewidth": 0,
              "ticks": ""
             }
            },
            "type": "scattermapbox"
           }
          ],
          "scatterpolar": [
           {
            "marker": {
             "colorbar": {
              "outlinewidth": 0,
              "ticks": ""
             }
            },
            "type": "scatterpolar"
           }
          ],
          "scatterpolargl": [
           {
            "marker": {
             "colorbar": {
              "outlinewidth": 0,
              "ticks": ""
             }
            },
            "type": "scatterpolargl"
           }
          ],
          "scatterternary": [
           {
            "marker": {
             "colorbar": {
              "outlinewidth": 0,
              "ticks": ""
             }
            },
            "type": "scatterternary"
           }
          ],
          "surface": [
           {
            "colorbar": {
             "outlinewidth": 0,
             "ticks": ""
            },
            "colorscale": [
             [
              0,
              "#0d0887"
             ],
             [
              0.1111111111111111,
              "#46039f"
             ],
             [
              0.2222222222222222,
              "#7201a8"
             ],
             [
              0.3333333333333333,
              "#9c179e"
             ],
             [
              0.4444444444444444,
              "#bd3786"
             ],
             [
              0.5555555555555556,
              "#d8576b"
             ],
             [
              0.6666666666666666,
              "#ed7953"
             ],
             [
              0.7777777777777778,
              "#fb9f3a"
             ],
             [
              0.8888888888888888,
              "#fdca26"
             ],
             [
              1,
              "#f0f921"
             ]
            ],
            "type": "surface"
           }
          ],
          "table": [
           {
            "cells": {
             "fill": {
              "color": "#EBF0F8"
             },
             "line": {
              "color": "white"
             }
            },
            "header": {
             "fill": {
              "color": "#C8D4E3"
             },
             "line": {
              "color": "white"
             }
            },
            "type": "table"
           }
          ]
         },
         "layout": {
          "annotationdefaults": {
           "arrowcolor": "#2a3f5f",
           "arrowhead": 0,
           "arrowwidth": 1
          },
          "autotypenumbers": "strict",
          "coloraxis": {
           "colorbar": {
            "outlinewidth": 0,
            "ticks": ""
           }
          },
          "colorscale": {
           "diverging": [
            [
             0,
             "#8e0152"
            ],
            [
             0.1,
             "#c51b7d"
            ],
            [
             0.2,
             "#de77ae"
            ],
            [
             0.3,
             "#f1b6da"
            ],
            [
             0.4,
             "#fde0ef"
            ],
            [
             0.5,
             "#f7f7f7"
            ],
            [
             0.6,
             "#e6f5d0"
            ],
            [
             0.7,
             "#b8e186"
            ],
            [
             0.8,
             "#7fbc41"
            ],
            [
             0.9,
             "#4d9221"
            ],
            [
             1,
             "#276419"
            ]
           ],
           "sequential": [
            [
             0,
             "#0d0887"
            ],
            [
             0.1111111111111111,
             "#46039f"
            ],
            [
             0.2222222222222222,
             "#7201a8"
            ],
            [
             0.3333333333333333,
             "#9c179e"
            ],
            [
             0.4444444444444444,
             "#bd3786"
            ],
            [
             0.5555555555555556,
             "#d8576b"
            ],
            [
             0.6666666666666666,
             "#ed7953"
            ],
            [
             0.7777777777777778,
             "#fb9f3a"
            ],
            [
             0.8888888888888888,
             "#fdca26"
            ],
            [
             1,
             "#f0f921"
            ]
           ],
           "sequentialminus": [
            [
             0,
             "#0d0887"
            ],
            [
             0.1111111111111111,
             "#46039f"
            ],
            [
             0.2222222222222222,
             "#7201a8"
            ],
            [
             0.3333333333333333,
             "#9c179e"
            ],
            [
             0.4444444444444444,
             "#bd3786"
            ],
            [
             0.5555555555555556,
             "#d8576b"
            ],
            [
             0.6666666666666666,
             "#ed7953"
            ],
            [
             0.7777777777777778,
             "#fb9f3a"
            ],
            [
             0.8888888888888888,
             "#fdca26"
            ],
            [
             1,
             "#f0f921"
            ]
           ]
          },
          "colorway": [
           "#636efa",
           "#EF553B",
           "#00cc96",
           "#ab63fa",
           "#FFA15A",
           "#19d3f3",
           "#FF6692",
           "#B6E880",
           "#FF97FF",
           "#FECB52"
          ],
          "font": {
           "color": "#2a3f5f"
          },
          "geo": {
           "bgcolor": "white",
           "lakecolor": "white",
           "landcolor": "#E5ECF6",
           "showlakes": true,
           "showland": true,
           "subunitcolor": "white"
          },
          "hoverlabel": {
           "align": "left"
          },
          "hovermode": "closest",
          "mapbox": {
           "style": "light"
          },
          "paper_bgcolor": "white",
          "plot_bgcolor": "#E5ECF6",
          "polar": {
           "angularaxis": {
            "gridcolor": "white",
            "linecolor": "white",
            "ticks": ""
           },
           "bgcolor": "#E5ECF6",
           "radialaxis": {
            "gridcolor": "white",
            "linecolor": "white",
            "ticks": ""
           }
          },
          "scene": {
           "xaxis": {
            "backgroundcolor": "#E5ECF6",
            "gridcolor": "white",
            "gridwidth": 2,
            "linecolor": "white",
            "showbackground": true,
            "ticks": "",
            "zerolinecolor": "white"
           },
           "yaxis": {
            "backgroundcolor": "#E5ECF6",
            "gridcolor": "white",
            "gridwidth": 2,
            "linecolor": "white",
            "showbackground": true,
            "ticks": "",
            "zerolinecolor": "white"
           },
           "zaxis": {
            "backgroundcolor": "#E5ECF6",
            "gridcolor": "white",
            "gridwidth": 2,
            "linecolor": "white",
            "showbackground": true,
            "ticks": "",
            "zerolinecolor": "white"
           }
          },
          "shapedefaults": {
           "line": {
            "color": "#2a3f5f"
           }
          },
          "ternary": {
           "aaxis": {
            "gridcolor": "white",
            "linecolor": "white",
            "ticks": ""
           },
           "baxis": {
            "gridcolor": "white",
            "linecolor": "white",
            "ticks": ""
           },
           "bgcolor": "#E5ECF6",
           "caxis": {
            "gridcolor": "white",
            "linecolor": "white",
            "ticks": ""
           }
          },
          "title": {
           "x": 0.05
          },
          "xaxis": {
           "automargin": true,
           "gridcolor": "white",
           "linecolor": "white",
           "ticks": "",
           "title": {
            "standoff": 15
           },
           "zerolinecolor": "white",
           "zerolinewidth": 2
          },
          "yaxis": {
           "automargin": true,
           "gridcolor": "white",
           "linecolor": "white",
           "ticks": "",
           "title": {
            "standoff": 15
           },
           "zerolinecolor": "white",
           "zerolinewidth": 2
          }
         }
        },
        "title": {
         "text": "<b>Product Associations (Size = Lift Strength)</b>"
        },
        "xaxis": {
         "anchor": "y",
         "domain": [
          0,
          1
         ],
         "title": {
          "text": "antecedents"
         }
        },
        "yaxis": {
         "anchor": "x",
         "domain": [
          0,
          1
         ],
         "title": {
          "text": "consequents"
         }
        }
       }
      }
     },
     "metadata": {},
     "output_type": "display_data"
    }
   ],
   "source": [
    "\"\"\"\n",
    "### 1.2 Association Network\n",
    "\"\"\"\n",
    "\n",
    "# Create edges from strong rules (lift > 3)\n",
    "edges = rules[rules['lift']>3][['antecedents','consequents','lift']]\n",
    "edges['antecedents'] = edges['antecedents'].apply(lambda x: list(x)[0])\n",
    "edges['consequents'] = edges['consequents'].apply(lambda x: list(x)[0])\n",
    "\n",
    "fig2 = px.scatter(edges, x='antecedents', y='consequents',\n",
    "                 size='lift', color='lift',\n",
    "                 title='<b>Product Associations (Size = Lift Strength)</b>',\n",
    "                 hover_data=['lift'])\n",
    "fig2.update_traces(marker=dict(line=dict(width=1, color='DarkSlateGrey')))\n",
    "fig2.show()"
   ]
  },
  {
   "cell_type": "markdown",
   "id": "fe18f184",
   "metadata": {},
   "source": [
    "## Enhanced Frequency Chart\n",
    "Creates a horizontal bar chart showing product popularity with improved design.\n",
    "\n",
    "Uses pastel colors for the bars for a soft, consistent look.\n",
    "\n",
    "Adds detailed hover info showing product name and exact purchase count.\n",
    "\n",
    "Centers the chart title \"Product Popularity Ranking\" for clarity.\n",
    "\n",
    "Adds axis labels for better understanding.\n",
    "\n",
    "Sets transparent background and adjusts margins to avoid cutting off product names.\n",
    "\n",
    "Sets chart height for better viewing and mobile responsiveness.\n",
    "\n",
    "Displays the interactive chart."
   ]
  },
  {
   "cell_type": "code",
   "execution_count": null,
   "id": "06be007c",
   "metadata": {},
   "outputs": [
    {
     "data": {
      "application/vnd.plotly.v1+json": {
       "config": {
        "plotlyServerURL": "https://plot.ly"
       },
       "data": [
        {
         "hovertemplate": "<b>%{y}</b><br>%{x:,} purchases<extra></extra>",
         "marker": {
          "color": [
           "rgb(102, 197, 204)",
           "rgb(246, 207, 113)",
           "rgb(248, 156, 116)",
           "rgb(220, 176, 242)",
           "rgb(135, 197, 95)",
           "rgb(158, 185, 243)",
           "rgb(254, 136, 177)",
           "rgb(201, 219, 116)",
           "rgb(139, 224, 164)",
           "rgb(180, 151, 231)",
           "rgb(179, 179, 179)"
          ]
         },
         "orientation": "h",
         "type": "bar",
         "x": {
          "bdata": "GwEfASEBKgEqATIBNQE5AUMBRwE=",
          "dtype": "i2"
         },
         "y": [
          "cookies",
          "chips",
          "eggs",
          "cheese",
          "milk",
          "bread",
          "beer",
          "diapers",
          "cola",
          "butter"
         ]
        }
       ],
       "layout": {
        "height": 600,
        "margin": {
         "l": 150
        },
        "plot_bgcolor": "rgba(0,0,0,0)",
        "template": {
         "data": {
          "bar": [
           {
            "error_x": {
             "color": "#2a3f5f"
            },
            "error_y": {
             "color": "#2a3f5f"
            },
            "marker": {
             "line": {
              "color": "#E5ECF6",
              "width": 0.5
             },
             "pattern": {
              "fillmode": "overlay",
              "size": 10,
              "solidity": 0.2
             }
            },
            "type": "bar"
           }
          ],
          "barpolar": [
           {
            "marker": {
             "line": {
              "color": "#E5ECF6",
              "width": 0.5
             },
             "pattern": {
              "fillmode": "overlay",
              "size": 10,
              "solidity": 0.2
             }
            },
            "type": "barpolar"
           }
          ],
          "carpet": [
           {
            "aaxis": {
             "endlinecolor": "#2a3f5f",
             "gridcolor": "white",
             "linecolor": "white",
             "minorgridcolor": "white",
             "startlinecolor": "#2a3f5f"
            },
            "baxis": {
             "endlinecolor": "#2a3f5f",
             "gridcolor": "white",
             "linecolor": "white",
             "minorgridcolor": "white",
             "startlinecolor": "#2a3f5f"
            },
            "type": "carpet"
           }
          ],
          "choropleth": [
           {
            "colorbar": {
             "outlinewidth": 0,
             "ticks": ""
            },
            "type": "choropleth"
           }
          ],
          "contour": [
           {
            "colorbar": {
             "outlinewidth": 0,
             "ticks": ""
            },
            "colorscale": [
             [
              0,
              "#0d0887"
             ],
             [
              0.1111111111111111,
              "#46039f"
             ],
             [
              0.2222222222222222,
              "#7201a8"
             ],
             [
              0.3333333333333333,
              "#9c179e"
             ],
             [
              0.4444444444444444,
              "#bd3786"
             ],
             [
              0.5555555555555556,
              "#d8576b"
             ],
             [
              0.6666666666666666,
              "#ed7953"
             ],
             [
              0.7777777777777778,
              "#fb9f3a"
             ],
             [
              0.8888888888888888,
              "#fdca26"
             ],
             [
              1,
              "#f0f921"
             ]
            ],
            "type": "contour"
           }
          ],
          "contourcarpet": [
           {
            "colorbar": {
             "outlinewidth": 0,
             "ticks": ""
            },
            "type": "contourcarpet"
           }
          ],
          "heatmap": [
           {
            "colorbar": {
             "outlinewidth": 0,
             "ticks": ""
            },
            "colorscale": [
             [
              0,
              "#0d0887"
             ],
             [
              0.1111111111111111,
              "#46039f"
             ],
             [
              0.2222222222222222,
              "#7201a8"
             ],
             [
              0.3333333333333333,
              "#9c179e"
             ],
             [
              0.4444444444444444,
              "#bd3786"
             ],
             [
              0.5555555555555556,
              "#d8576b"
             ],
             [
              0.6666666666666666,
              "#ed7953"
             ],
             [
              0.7777777777777778,
              "#fb9f3a"
             ],
             [
              0.8888888888888888,
              "#fdca26"
             ],
             [
              1,
              "#f0f921"
             ]
            ],
            "type": "heatmap"
           }
          ],
          "histogram": [
           {
            "marker": {
             "pattern": {
              "fillmode": "overlay",
              "size": 10,
              "solidity": 0.2
             }
            },
            "type": "histogram"
           }
          ],
          "histogram2d": [
           {
            "colorbar": {
             "outlinewidth": 0,
             "ticks": ""
            },
            "colorscale": [
             [
              0,
              "#0d0887"
             ],
             [
              0.1111111111111111,
              "#46039f"
             ],
             [
              0.2222222222222222,
              "#7201a8"
             ],
             [
              0.3333333333333333,
              "#9c179e"
             ],
             [
              0.4444444444444444,
              "#bd3786"
             ],
             [
              0.5555555555555556,
              "#d8576b"
             ],
             [
              0.6666666666666666,
              "#ed7953"
             ],
             [
              0.7777777777777778,
              "#fb9f3a"
             ],
             [
              0.8888888888888888,
              "#fdca26"
             ],
             [
              1,
              "#f0f921"
             ]
            ],
            "type": "histogram2d"
           }
          ],
          "histogram2dcontour": [
           {
            "colorbar": {
             "outlinewidth": 0,
             "ticks": ""
            },
            "colorscale": [
             [
              0,
              "#0d0887"
             ],
             [
              0.1111111111111111,
              "#46039f"
             ],
             [
              0.2222222222222222,
              "#7201a8"
             ],
             [
              0.3333333333333333,
              "#9c179e"
             ],
             [
              0.4444444444444444,
              "#bd3786"
             ],
             [
              0.5555555555555556,
              "#d8576b"
             ],
             [
              0.6666666666666666,
              "#ed7953"
             ],
             [
              0.7777777777777778,
              "#fb9f3a"
             ],
             [
              0.8888888888888888,
              "#fdca26"
             ],
             [
              1,
              "#f0f921"
             ]
            ],
            "type": "histogram2dcontour"
           }
          ],
          "mesh3d": [
           {
            "colorbar": {
             "outlinewidth": 0,
             "ticks": ""
            },
            "type": "mesh3d"
           }
          ],
          "parcoords": [
           {
            "line": {
             "colorbar": {
              "outlinewidth": 0,
              "ticks": ""
             }
            },
            "type": "parcoords"
           }
          ],
          "pie": [
           {
            "automargin": true,
            "type": "pie"
           }
          ],
          "scatter": [
           {
            "fillpattern": {
             "fillmode": "overlay",
             "size": 10,
             "solidity": 0.2
            },
            "type": "scatter"
           }
          ],
          "scatter3d": [
           {
            "line": {
             "colorbar": {
              "outlinewidth": 0,
              "ticks": ""
             }
            },
            "marker": {
             "colorbar": {
              "outlinewidth": 0,
              "ticks": ""
             }
            },
            "type": "scatter3d"
           }
          ],
          "scattercarpet": [
           {
            "marker": {
             "colorbar": {
              "outlinewidth": 0,
              "ticks": ""
             }
            },
            "type": "scattercarpet"
           }
          ],
          "scattergeo": [
           {
            "marker": {
             "colorbar": {
              "outlinewidth": 0,
              "ticks": ""
             }
            },
            "type": "scattergeo"
           }
          ],
          "scattergl": [
           {
            "marker": {
             "colorbar": {
              "outlinewidth": 0,
              "ticks": ""
             }
            },
            "type": "scattergl"
           }
          ],
          "scattermap": [
           {
            "marker": {
             "colorbar": {
              "outlinewidth": 0,
              "ticks": ""
             }
            },
            "type": "scattermap"
           }
          ],
          "scattermapbox": [
           {
            "marker": {
             "colorbar": {
              "outlinewidth": 0,
              "ticks": ""
             }
            },
            "type": "scattermapbox"
           }
          ],
          "scatterpolar": [
           {
            "marker": {
             "colorbar": {
              "outlinewidth": 0,
              "ticks": ""
             }
            },
            "type": "scatterpolar"
           }
          ],
          "scatterpolargl": [
           {
            "marker": {
             "colorbar": {
              "outlinewidth": 0,
              "ticks": ""
             }
            },
            "type": "scatterpolargl"
           }
          ],
          "scatterternary": [
           {
            "marker": {
             "colorbar": {
              "outlinewidth": 0,
              "ticks": ""
             }
            },
            "type": "scatterternary"
           }
          ],
          "surface": [
           {
            "colorbar": {
             "outlinewidth": 0,
             "ticks": ""
            },
            "colorscale": [
             [
              0,
              "#0d0887"
             ],
             [
              0.1111111111111111,
              "#46039f"
             ],
             [
              0.2222222222222222,
              "#7201a8"
             ],
             [
              0.3333333333333333,
              "#9c179e"
             ],
             [
              0.4444444444444444,
              "#bd3786"
             ],
             [
              0.5555555555555556,
              "#d8576b"
             ],
             [
              0.6666666666666666,
              "#ed7953"
             ],
             [
              0.7777777777777778,
              "#fb9f3a"
             ],
             [
              0.8888888888888888,
              "#fdca26"
             ],
             [
              1,
              "#f0f921"
             ]
            ],
            "type": "surface"
           }
          ],
          "table": [
           {
            "cells": {
             "fill": {
              "color": "#EBF0F8"
             },
             "line": {
              "color": "white"
             }
            },
            "header": {
             "fill": {
              "color": "#C8D4E3"
             },
             "line": {
              "color": "white"
             }
            },
            "type": "table"
           }
          ]
         },
         "layout": {
          "annotationdefaults": {
           "arrowcolor": "#2a3f5f",
           "arrowhead": 0,
           "arrowwidth": 1
          },
          "autotypenumbers": "strict",
          "coloraxis": {
           "colorbar": {
            "outlinewidth": 0,
            "ticks": ""
           }
          },
          "colorscale": {
           "diverging": [
            [
             0,
             "#8e0152"
            ],
            [
             0.1,
             "#c51b7d"
            ],
            [
             0.2,
             "#de77ae"
            ],
            [
             0.3,
             "#f1b6da"
            ],
            [
             0.4,
             "#fde0ef"
            ],
            [
             0.5,
             "#f7f7f7"
            ],
            [
             0.6,
             "#e6f5d0"
            ],
            [
             0.7,
             "#b8e186"
            ],
            [
             0.8,
             "#7fbc41"
            ],
            [
             0.9,
             "#4d9221"
            ],
            [
             1,
             "#276419"
            ]
           ],
           "sequential": [
            [
             0,
             "#0d0887"
            ],
            [
             0.1111111111111111,
             "#46039f"
            ],
            [
             0.2222222222222222,
             "#7201a8"
            ],
            [
             0.3333333333333333,
             "#9c179e"
            ],
            [
             0.4444444444444444,
             "#bd3786"
            ],
            [
             0.5555555555555556,
             "#d8576b"
            ],
            [
             0.6666666666666666,
             "#ed7953"
            ],
            [
             0.7777777777777778,
             "#fb9f3a"
            ],
            [
             0.8888888888888888,
             "#fdca26"
            ],
            [
             1,
             "#f0f921"
            ]
           ],
           "sequentialminus": [
            [
             0,
             "#0d0887"
            ],
            [
             0.1111111111111111,
             "#46039f"
            ],
            [
             0.2222222222222222,
             "#7201a8"
            ],
            [
             0.3333333333333333,
             "#9c179e"
            ],
            [
             0.4444444444444444,
             "#bd3786"
            ],
            [
             0.5555555555555556,
             "#d8576b"
            ],
            [
             0.6666666666666666,
             "#ed7953"
            ],
            [
             0.7777777777777778,
             "#fb9f3a"
            ],
            [
             0.8888888888888888,
             "#fdca26"
            ],
            [
             1,
             "#f0f921"
            ]
           ]
          },
          "colorway": [
           "#636efa",
           "#EF553B",
           "#00cc96",
           "#ab63fa",
           "#FFA15A",
           "#19d3f3",
           "#FF6692",
           "#B6E880",
           "#FF97FF",
           "#FECB52"
          ],
          "font": {
           "color": "#2a3f5f"
          },
          "geo": {
           "bgcolor": "white",
           "lakecolor": "white",
           "landcolor": "#E5ECF6",
           "showlakes": true,
           "showland": true,
           "subunitcolor": "white"
          },
          "hoverlabel": {
           "align": "left"
          },
          "hovermode": "closest",
          "mapbox": {
           "style": "light"
          },
          "paper_bgcolor": "white",
          "plot_bgcolor": "#E5ECF6",
          "polar": {
           "angularaxis": {
            "gridcolor": "white",
            "linecolor": "white",
            "ticks": ""
           },
           "bgcolor": "#E5ECF6",
           "radialaxis": {
            "gridcolor": "white",
            "linecolor": "white",
            "ticks": ""
           }
          },
          "scene": {
           "xaxis": {
            "backgroundcolor": "#E5ECF6",
            "gridcolor": "white",
            "gridwidth": 2,
            "linecolor": "white",
            "showbackground": true,
            "ticks": "",
            "zerolinecolor": "white"
           },
           "yaxis": {
            "backgroundcolor": "#E5ECF6",
            "gridcolor": "white",
            "gridwidth": 2,
            "linecolor": "white",
            "showbackground": true,
            "ticks": "",
            "zerolinecolor": "white"
           },
           "zaxis": {
            "backgroundcolor": "#E5ECF6",
            "gridcolor": "white",
            "gridwidth": 2,
            "linecolor": "white",
            "showbackground": true,
            "ticks": "",
            "zerolinecolor": "white"
           }
          },
          "shapedefaults": {
           "line": {
            "color": "#2a3f5f"
           }
          },
          "ternary": {
           "aaxis": {
            "gridcolor": "white",
            "linecolor": "white",
            "ticks": ""
           },
           "baxis": {
            "gridcolor": "white",
            "linecolor": "white",
            "ticks": ""
           },
           "bgcolor": "#E5ECF6",
           "caxis": {
            "gridcolor": "white",
            "linecolor": "white",
            "ticks": ""
           }
          },
          "title": {
           "x": 0.05
          },
          "xaxis": {
           "automargin": true,
           "gridcolor": "white",
           "linecolor": "white",
           "ticks": "",
           "title": {
            "standoff": 15
           },
           "zerolinecolor": "white",
           "zerolinewidth": 2
          },
          "yaxis": {
           "automargin": true,
           "gridcolor": "white",
           "linecolor": "white",
           "ticks": "",
           "title": {
            "standoff": 15
           },
           "zerolinecolor": "white",
           "zerolinewidth": 2
          }
         }
        },
        "title": {
         "text": "<b>Product Popularity Ranking</b>",
         "x": 0.5
        },
        "xaxis": {
         "title": {
          "text": "Number of Transactions"
         }
        },
        "yaxis": {
         "title": {
          "text": "Product"
         }
        }
       }
      }
     },
     "metadata": {},
     "output_type": "display_data"
    }
   ],
   "source": [
    "\"\"\"\n",
    "**Design Principles Applied:**\n",
    "- Consistent color scales\n",
    "- Clear labels and titles\n",
    "- Strategic white space\n",
    "- Mobile-responsive sizing\n",
    "\"\"\"\n",
    "# %%\n",
    "# ENHANCED FREQUENCY CHART\n",
    "fig3 = go.Figure()\n",
    "fig3.add_trace(go.Bar(\n",
    "    y=item_freq.index,\n",
    "    x=item_freq.values,\n",
    "    orientation='h',\n",
    "    marker_color=px.colors.qualitative.Pastel,\n",
    "    hovertemplate=\"<b>%{y}</b><br>%{x:,} purchases<extra></extra>\"\n",
    "))\n",
    "fig3.update_layout(\n",
    "    title={'text':\"<b>Product Popularity Ranking</b>\", 'x':0.5},\n",
    "    xaxis_title=\"Number of Transactions\",\n",
    "    yaxis_title=\"Product\",\n",
    "    plot_bgcolor='rgba(0,0,0,0)',\n",
    "    height=600,\n",
    "    margin=dict(l=150)  # Prevent label clipping\n",
    ")\n",
    "fig3.show()"
   ]
  },
  {
   "cell_type": "markdown",
   "id": "1027d431",
   "metadata": {},
   "source": [
    "## Interactive Rules Explorer\n",
    "Creates a scatter plot to explore association rules visually.\n",
    "\n",
    "Plots rules by support (x-axis, on a log scale) and confidence (y-axis).\n",
    "\n",
    "Circle size and color represent the lift metric (rule strength).\n",
    "\n",
    "Hover tooltip shows the rule in the format \"antecedent → consequent\".\n",
    "\n",
    "Allows zooming, panning, and click-to-select for interactive exploration.\n",
    "\n",
    "Title: \"Rule Quality Explorer\" with clear axis labels for support, confidence, and lift.\n",
    "\n",
    "Displays the interactive plot for detailed rule analysis."
   ]
  },
  {
   "cell_type": "code",
   "execution_count": null,
   "id": "ae01503a",
   "metadata": {},
   "outputs": [
    {
     "data": {
      "application/vnd.plotly.v1+json": {
       "config": {
        "plotlyServerURL": "https://plot.ly"
       },
       "data": [
        {
         "hovertemplate": "<b>%{hovertext}</b><br><br>Support (Frequency)=%{x}<br>Confidence (Reliability)=%{y}<br>Lift (Strength)=%{marker.color}<extra></extra>",
         "hovertext": [
          "beer → butter",
          "butter → beer",
          "beer → chips",
          "chips → beer",
          "cola → beer",
          "beer → cola",
          "beer → cookies",
          "cookies → beer",
          "bread → butter",
          "butter → bread",
          "bread → diapers",
          "diapers → bread",
          "bread → milk",
          "milk → bread",
          "butter → cheese",
          "cheese → butter",
          "cola → butter",
          "butter → cola",
          "butter → cookies",
          "cookies → butter",
          "butter → eggs",
          "eggs → butter",
          "chips → cheese",
          "cheese → chips",
          "eggs → cheese",
          "cheese → eggs",
          "milk → cheese",
          "cheese → milk",
          "cookies → chips",
          "chips → cookies",
          "cola → eggs",
          "eggs → cola",
          "cola → milk",
          "milk → cola",
          "eggs → diapers",
          "diapers → eggs",
          "milk → eggs",
          "eggs → milk",
          "bread → chips",
          "bread → beer",
          "beer → bread",
          "bread → beer",
          "beer → bread",
          "chips → bread",
          "bread → cookies",
          "bread → beer",
          "beer → bread",
          "bread → beer",
          "beer → bread",
          "cookies → bread",
          "beer → bread",
          "bread → beer",
          "beer → butter",
          "butter → beer",
          "butter → beer",
          "beer → butter",
          "cola → butter",
          "cola → beer",
          "beer → cola",
          "cola → beer",
          "beer → cola",
          "butter → cola",
          "beer → cookies",
          "beer → butter",
          "butter → beer",
          "beer → butter",
          "butter → beer",
          "cookies → beer",
          "milk → butter",
          "milk → beer",
          "beer → milk",
          "butter → milk",
          "beer → chips",
          "chips → beer",
          "beer → cookies",
          "cookies → beer",
          "cola → chips",
          "cola → beer",
          "beer → cola",
          "cola → beer",
          "beer → cola",
          "chips → cola",
          "beer → chips",
          "chips → beer",
          "beer → chips",
          "chips → beer",
          "milk → beer",
          "beer → milk",
          "cola → cookies",
          "cola → beer",
          "beer → cola",
          "cola → beer",
          "beer → cola",
          "cookies → cola",
          "beer → cola",
          "cola → beer",
          "cola → milk",
          "milk → cola",
          "cola → milk",
          "milk → cola",
          "eggs → beer",
          "beer → eggs",
          "milk → cookies",
          "milk → beer",
          "beer → milk",
          "milk → beer",
          "beer → milk",
          "cookies → milk",
          "bread → butter",
          "bread → cola",
          "cola → bread",
          "bread → cola",
          "cola → bread",
          "butter → bread",
          "butter → bread",
          "bread → butter",
          "bread → butter",
          "butter → bread",
          "bread → butter",
          "bread → milk",
          "milk → bread",
          "bread → milk",
          "milk → bread",
          "butter → bread",
          "bread → chips",
          "bread → cheese",
          "cheese → bread",
          "chips → bread",
          "bread → cheese",
          "bread → eggs",
          "eggs → bread",
          "bread → eggs",
          "eggs → bread",
          "cheese → bread",
          "bread → cheese",
          "bread → milk",
          "milk → bread",
          "bread → milk",
          "milk → bread",
          "cheese → bread",
          "bread → chips",
          "bread → cookies",
          "cookies → bread",
          "chips → bread",
          "bread → diapers",
          "bread → chips",
          "chips → bread",
          "bread → chips",
          "chips → bread",
          "diapers → bread",
          "bread → cookies",
          "bread → cola",
          "cola → bread",
          "bread → cola",
          "cola → bread",
          "cookies → bread",
          "bread → cola",
          "bread → milk",
          "cola → bread",
          "bread → cola",
          "milk → bread",
          "cola → bread",
          "butter → cheese",
          "chips → butter",
          "butter → chips",
          "chips → butter",
          "butter → chips",
          "cheese → butter",
          "cola → butter",
          "butter → cola",
          "cola → butter",
          "butter → cola",
          "butter → cheese",
          "butter → eggs",
          "eggs → butter",
          "butter → eggs",
          "eggs → butter",
          "cheese → butter",
          "butter → chips",
          "chips → butter",
          "cola → butter",
          "butter → cola",
          "cola → butter",
          "butter → cola",
          "cola → eggs",
          "cola → butter",
          "butter → cola",
          "cola → butter",
          "butter → cola",
          "eggs → cola",
          "cola → butter",
          "milk → cola",
          "cola → milk",
          "butter → cola",
          "eggs → butter",
          "butter → eggs",
          "milk → cookies",
          "milk → butter",
          "butter → milk",
          "cookies → milk",
          "butter → eggs",
          "eggs → butter",
          "cookies → chips",
          "chips → cookies",
          "milk → cheese",
          "cheese → milk",
          "cola → milk",
          "milk → cola",
          "cola → milk",
          "milk → cola",
          "eggs → diapers",
          "eggs → cheese",
          "cheese → eggs",
          "eggs → cheese",
          "cheese → eggs",
          "diapers → eggs",
          "milk → cheese",
          "milk → eggs",
          "eggs → milk",
          "milk → eggs",
          "eggs → milk",
          "cheese → milk",
          "cola → chips",
          "cola → cookies",
          "cookies → cola",
          "chips → cola",
          "cola → diapers",
          "cola → chips",
          "chips → cola",
          "diapers → cola",
          "cookies → chips",
          "chips → cookies",
          "eggs → chips",
          "chips → eggs",
          "eggs → cookies",
          "cookies → eggs",
          "eggs → chips",
          "chips → eggs",
          "eggs → diapers",
          "chips → eggs",
          "eggs → chips",
          "diapers → eggs",
          "milk → diapers",
          "milk → chips",
          "chips → milk",
          "diapers → milk",
          "eggs → cola",
          "cola → eggs",
          "cola → eggs",
          "eggs → cola",
          "cola → eggs",
          "cola → milk",
          "milk → cola",
          "cola → milk",
          "milk → cola",
          "eggs → cola"
         ],
         "legendgroup": "",
         "marker": {
          "color": {
           "bdata": "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",
           "dtype": "f8"
          },
          "coloraxis": "coloraxis",
          "size": {
           "bdata": "Cygx8o1C8T8LKDHyjULxP4DCLTzzUfE/f8ItPPNR8T9QQ0Kq6wfwP1BDQqrrB/A/gdK5+2um8D+A0rn7a6bwP0A3TlYzofA/QDdOVjOh8D+Z4NFzfgnwP5ng0XN+CfA/LYEVWU9+8D8sgRVZT37wPyS0QV1JF/A/JLRBXUkX8D9tIIkA1wbyP20giQDXBvI/giVS1ZNA8D+CJVLVk0DwP2VA06CRl/A/ZUDToJGX8D/Gr01NDTbxP8WvTU0NNvE/SydTiVFZ8D9LJ1OJUVnwP3pJ/FEKCfA/ekn8UQoJ8D9j9KDObyPxP2P0oM5vI/E/Glz7swz48D8aXPuzDPjwP7SbV1Zon/A/s5tXVmif8D9zH0FlbqDwP3IfQWVuoPA/R8X9enC48D9Gxf16cLjwPy1n+j77YPI/VIbrXip+8j+sAVesAVfwP6wBV6wBV/A/VYbrXip+8j8tZ/o++2DyP5erC/puBPI/OjNMMn8X8j9Rv6lQv6nwP1G/qVC/qfA/OjNMMn8X8j+Xqwv6bgTyPwLasYlhOfE/AtqxiWE58T+ezFvKQR/yP57MW8pBH/I/S8JYJSQJ8j9LwlglJAnyP6JQH2gtCvU/+ZY5kNy18j+bKao6pIrzP5spqjqkivM/+JY5kNy18j+iUB9oLQr1P27zlBx0J/I/Gy3poLDR8j9knIiOnkfzP2SciI6eR/M/Gy3poLDR8j9u85QcdCfyPxcCEdNyIfA/MM/i54eG8D8xz+Lnh4bwPxcCEdNyIfA/H7cFt6yE8D8ftwW3rITwP4HO7z3CDfA/gc7vPcIN8D+E8zE4H4PzPwIirSq/EvU/btkBsVIP8j9u2QGxUg/yPwMirSq/EvU/hPMxOB+D8z9eEj6PSl3yPzynPzJSSvA/PKc/MlJK8D9dEj6PSl3yPxmpxgzVtvE/GanGDNW28T8doN3RyIbxPwtUu/HW1fE/aHfSq/Df8D9od9Kr8N/wPwxUu/HW1fE/HaDd0ciG8T8/F2jGCYPwPz8XaMYJg/A/NNo9bH0b8D8r57JTllTwPyvnslOWVPA/NNo9bH0b8D++gknlABjwP7+CSeUAGPA/o9qGUmJl8T+vK2TCPdTyP4RcBG84hfA/hFwEbziF8D+vK2TCPdTyP6PahlJiZfE/+wWtbjms8z8nGjX/apPyP+BpqljiIvE/4GmqWOIi8T8oGjX/apPyP/sFrW45rPM//DTDpt9t8T/8NMOm323xP0bkXrThf/A/RuRetOF/8D85ZEey6SLwP6A5jKsOAfA/nW1vKmg+8T+dbW8qaD7xP6A5jKsOAfA/OWRHsuki8D9VJ69QqXjwP0HpxfVknvA/QenF9WSe8D9VJ69QqXjwP8S1LTjuGvI/MVOlsaY+8j+RzsanKzvxP5HOxqcrO/E/MFOlsaY+8j/EtS047hryP7CsZBrqtPE/pnKOEPrp8j8LnNRDaDbyPwuc1ENoNvI/pnKOEPrp8j+xrGQa6rTxP6H9EF+6yvA/w8X3uJbT8D/Exfe4ltPwP6D9EF+6yvA/o/4OWxYK8T9DoCkEmkLwPyt0beI0c/A/K3Rt4jRz8D9DoCkEmkLwP6P+DlsWCvE/W7WLwepR8D/RjwNj97XwPx/cYFdqRPA/H9xgV2pE8D/RjwNj97XwP1y1i8HqUfA/thoQ2Zj48j/RmUSDOe3zP9LS0tLS0vI/0tLS0tLS8j/QmUSDOe3zP7UaENmY+PI/+lf/qQJO8z8sBWgQ3gTxPwjPnQ0sNPI/Cc+dDSw08j8tBWgQ3gTxP/pX/6kCTvM/bV0yw8TW8T/EzwEw+LDxP8TPATD4sPE/bF0yw8TW8T+5YbnF5fvwP98lgZhMg/E/m1kp55A88T+bWSnnkDzxP+AlgZhMg/E/uWG5xeX78D9eK2l8jZfwP14raXyNl/A/Dh/lSt3w8T98GKRx4WPxP3wYpHHhY/E/Dh/lSt3w8T/DEQImor/wP5a/bCjoyvE/IbFDXV4y8j8hsUNdXjLyP5e/bCjoyvE/wxECJqK/8D8uCvWB1qLwPzoZyD7J6vE/OxnIPsnq8T8tCvWB1qLwPxATaV4GMfE/ERNpXgYx8T+SDxs6QdfwP5e/bCjoyvE/l79sKOjK8T+SDxs6QdfwP98yYkicy/E/3zJiSJzL8T/Q/tOjrRjxP9D+06OtGPE/rTyPMKk/8D+tPI8wqT/wP36dUxIgOPA/wESIbgwk8D/ARIhuDCTwP3+dUxIgOPA/kAGppYTY8D98XyTnd5DwP2br4FCUc/E/ZuvgUJRz8T98XyTnd5DwP5EBqaWE2PA/lUP2LtKv8z+qDEhBKYf0P8JQTcdcIvQ/wVBNx1wi9D+qDEhBKYf0P5VD9i7Sr/M/WF9yMvUa8D/B39RxtRfxP8Df1HG1F/E/WF9yMvUa8D/bbOdDegzwP21mt890XPA/bWa3z3Rc8D/bbOdDegzwPzbHyk5jWvA/NsfKTmNa8D+/2597aJbzP/QNir+ci/A/jS1ffUjd8z+MLV99SN3zP/MNir+ci/A/v9ufe2iW8z/Ilnc24PXxP8tPZxRuLPA/y09nFG4s8D/Ilnc24PXxP4APSAKx0PA/i9lS25Rl8D+K2VLblGXwP4APSAKx0PA/wrWVPcsQ8D/BtZU9yxDwP3soA0KiDfI/eygDQqIN8j/0TagCXbfxP/QdfkPRWvE/VaEIOtec8T9VoQg615zxP/UdfkPRWvE/9E2oAl238T8=",
           "dtype": "f8"
          },
          "sizemode": "area",
          "sizeref": 0.003292692105065102,
          "symbol": "circle"
         },
         "mode": "markers",
         "name": "",
         "orientation": "v",
         "showlegend": false,
         "type": "scatter",
         "x": {
          "bdata": "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",
          "dtype": "f8"
         },
         "xaxis": "x",
         "y": {
          "bdata": "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",
          "dtype": "f8"
         },
         "yaxis": "y"
        }
       ],
       "layout": {
        "clickmode": "event+select",
        "coloraxis": {
         "colorbar": {
          "title": {
           "text": "Lift (Strength)"
          }
         },
         "colorscale": [
          [
           0,
           "#0d0887"
          ],
          [
           0.1111111111111111,
           "#46039f"
          ],
          [
           0.2222222222222222,
           "#7201a8"
          ],
          [
           0.3333333333333333,
           "#9c179e"
          ],
          [
           0.4444444444444444,
           "#bd3786"
          ],
          [
           0.5555555555555556,
           "#d8576b"
          ],
          [
           0.6666666666666666,
           "#ed7953"
          ],
          [
           0.7777777777777778,
           "#fb9f3a"
          ],
          [
           0.8888888888888888,
           "#fdca26"
          ],
          [
           1,
           "#f0f921"
          ]
         ]
        },
        "legend": {
         "itemsizing": "constant",
         "tracegroupgap": 0
        },
        "template": {
         "data": {
          "bar": [
           {
            "error_x": {
             "color": "#2a3f5f"
            },
            "error_y": {
             "color": "#2a3f5f"
            },
            "marker": {
             "line": {
              "color": "#E5ECF6",
              "width": 0.5
             },
             "pattern": {
              "fillmode": "overlay",
              "size": 10,
              "solidity": 0.2
             }
            },
            "type": "bar"
           }
          ],
          "barpolar": [
           {
            "marker": {
             "line": {
              "color": "#E5ECF6",
              "width": 0.5
             },
             "pattern": {
              "fillmode": "overlay",
              "size": 10,
              "solidity": 0.2
             }
            },
            "type": "barpolar"
           }
          ],
          "carpet": [
           {
            "aaxis": {
             "endlinecolor": "#2a3f5f",
             "gridcolor": "white",
             "linecolor": "white",
             "minorgridcolor": "white",
             "startlinecolor": "#2a3f5f"
            },
            "baxis": {
             "endlinecolor": "#2a3f5f",
             "gridcolor": "white",
             "linecolor": "white",
             "minorgridcolor": "white",
             "startlinecolor": "#2a3f5f"
            },
            "type": "carpet"
           }
          ],
          "choropleth": [
           {
            "colorbar": {
             "outlinewidth": 0,
             "ticks": ""
            },
            "type": "choropleth"
           }
          ],
          "contour": [
           {
            "colorbar": {
             "outlinewidth": 0,
             "ticks": ""
            },
            "colorscale": [
             [
              0,
              "#0d0887"
             ],
             [
              0.1111111111111111,
              "#46039f"
             ],
             [
              0.2222222222222222,
              "#7201a8"
             ],
             [
              0.3333333333333333,
              "#9c179e"
             ],
             [
              0.4444444444444444,
              "#bd3786"
             ],
             [
              0.5555555555555556,
              "#d8576b"
             ],
             [
              0.6666666666666666,
              "#ed7953"
             ],
             [
              0.7777777777777778,
              "#fb9f3a"
             ],
             [
              0.8888888888888888,
              "#fdca26"
             ],
             [
              1,
              "#f0f921"
             ]
            ],
            "type": "contour"
           }
          ],
          "contourcarpet": [
           {
            "colorbar": {
             "outlinewidth": 0,
             "ticks": ""
            },
            "type": "contourcarpet"
           }
          ],
          "heatmap": [
           {
            "colorbar": {
             "outlinewidth": 0,
             "ticks": ""
            },
            "colorscale": [
             [
              0,
              "#0d0887"
             ],
             [
              0.1111111111111111,
              "#46039f"
             ],
             [
              0.2222222222222222,
              "#7201a8"
             ],
             [
              0.3333333333333333,
              "#9c179e"
             ],
             [
              0.4444444444444444,
              "#bd3786"
             ],
             [
              0.5555555555555556,
              "#d8576b"
             ],
             [
              0.6666666666666666,
              "#ed7953"
             ],
             [
              0.7777777777777778,
              "#fb9f3a"
             ],
             [
              0.8888888888888888,
              "#fdca26"
             ],
             [
              1,
              "#f0f921"
             ]
            ],
            "type": "heatmap"
           }
          ],
          "histogram": [
           {
            "marker": {
             "pattern": {
              "fillmode": "overlay",
              "size": 10,
              "solidity": 0.2
             }
            },
            "type": "histogram"
           }
          ],
          "histogram2d": [
           {
            "colorbar": {
             "outlinewidth": 0,
             "ticks": ""
            },
            "colorscale": [
             [
              0,
              "#0d0887"
             ],
             [
              0.1111111111111111,
              "#46039f"
             ],
             [
              0.2222222222222222,
              "#7201a8"
             ],
             [
              0.3333333333333333,
              "#9c179e"
             ],
             [
              0.4444444444444444,
              "#bd3786"
             ],
             [
              0.5555555555555556,
              "#d8576b"
             ],
             [
              0.6666666666666666,
              "#ed7953"
             ],
             [
              0.7777777777777778,
              "#fb9f3a"
             ],
             [
              0.8888888888888888,
              "#fdca26"
             ],
             [
              1,
              "#f0f921"
             ]
            ],
            "type": "histogram2d"
           }
          ],
          "histogram2dcontour": [
           {
            "colorbar": {
             "outlinewidth": 0,
             "ticks": ""
            },
            "colorscale": [
             [
              0,
              "#0d0887"
             ],
             [
              0.1111111111111111,
              "#46039f"
             ],
             [
              0.2222222222222222,
              "#7201a8"
             ],
             [
              0.3333333333333333,
              "#9c179e"
             ],
             [
              0.4444444444444444,
              "#bd3786"
             ],
             [
              0.5555555555555556,
              "#d8576b"
             ],
             [
              0.6666666666666666,
              "#ed7953"
             ],
             [
              0.7777777777777778,
              "#fb9f3a"
             ],
             [
              0.8888888888888888,
              "#fdca26"
             ],
             [
              1,
              "#f0f921"
             ]
            ],
            "type": "histogram2dcontour"
           }
          ],
          "mesh3d": [
           {
            "colorbar": {
             "outlinewidth": 0,
             "ticks": ""
            },
            "type": "mesh3d"
           }
          ],
          "parcoords": [
           {
            "line": {
             "colorbar": {
              "outlinewidth": 0,
              "ticks": ""
             }
            },
            "type": "parcoords"
           }
          ],
          "pie": [
           {
            "automargin": true,
            "type": "pie"
           }
          ],
          "scatter": [
           {
            "fillpattern": {
             "fillmode": "overlay",
             "size": 10,
             "solidity": 0.2
            },
            "type": "scatter"
           }
          ],
          "scatter3d": [
           {
            "line": {
             "colorbar": {
              "outlinewidth": 0,
              "ticks": ""
             }
            },
            "marker": {
             "colorbar": {
              "outlinewidth": 0,
              "ticks": ""
             }
            },
            "type": "scatter3d"
           }
          ],
          "scattercarpet": [
           {
            "marker": {
             "colorbar": {
              "outlinewidth": 0,
              "ticks": ""
             }
            },
            "type": "scattercarpet"
           }
          ],
          "scattergeo": [
           {
            "marker": {
             "colorbar": {
              "outlinewidth": 0,
              "ticks": ""
             }
            },
            "type": "scattergeo"
           }
          ],
          "scattergl": [
           {
            "marker": {
             "colorbar": {
              "outlinewidth": 0,
              "ticks": ""
             }
            },
            "type": "scattergl"
           }
          ],
          "scattermap": [
           {
            "marker": {
             "colorbar": {
              "outlinewidth": 0,
              "ticks": ""
             }
            },
            "type": "scattermap"
           }
          ],
          "scattermapbox": [
           {
            "marker": {
             "colorbar": {
              "outlinewidth": 0,
              "ticks": ""
             }
            },
            "type": "scattermapbox"
           }
          ],
          "scatterpolar": [
           {
            "marker": {
             "colorbar": {
              "outlinewidth": 0,
              "ticks": ""
             }
            },
            "type": "scatterpolar"
           }
          ],
          "scatterpolargl": [
           {
            "marker": {
             "colorbar": {
              "outlinewidth": 0,
              "ticks": ""
             }
            },
            "type": "scatterpolargl"
           }
          ],
          "scatterternary": [
           {
            "marker": {
             "colorbar": {
              "outlinewidth": 0,
              "ticks": ""
             }
            },
            "type": "scatterternary"
           }
          ],
          "surface": [
           {
            "colorbar": {
             "outlinewidth": 0,
             "ticks": ""
            },
            "colorscale": [
             [
              0,
              "#0d0887"
             ],
             [
              0.1111111111111111,
              "#46039f"
             ],
             [
              0.2222222222222222,
              "#7201a8"
             ],
             [
              0.3333333333333333,
              "#9c179e"
             ],
             [
              0.4444444444444444,
              "#bd3786"
             ],
             [
              0.5555555555555556,
              "#d8576b"
             ],
             [
              0.6666666666666666,
              "#ed7953"
             ],
             [
              0.7777777777777778,
              "#fb9f3a"
             ],
             [
              0.8888888888888888,
              "#fdca26"
             ],
             [
              1,
              "#f0f921"
             ]
            ],
            "type": "surface"
           }
          ],
          "table": [
           {
            "cells": {
             "fill": {
              "color": "#EBF0F8"
             },
             "line": {
              "color": "white"
             }
            },
            "header": {
             "fill": {
              "color": "#C8D4E3"
             },
             "line": {
              "color": "white"
             }
            },
            "type": "table"
           }
          ]
         },
         "layout": {
          "annotationdefaults": {
           "arrowcolor": "#2a3f5f",
           "arrowhead": 0,
           "arrowwidth": 1
          },
          "autotypenumbers": "strict",
          "coloraxis": {
           "colorbar": {
            "outlinewidth": 0,
            "ticks": ""
           }
          },
          "colorscale": {
           "diverging": [
            [
             0,
             "#8e0152"
            ],
            [
             0.1,
             "#c51b7d"
            ],
            [
             0.2,
             "#de77ae"
            ],
            [
             0.3,
             "#f1b6da"
            ],
            [
             0.4,
             "#fde0ef"
            ],
            [
             0.5,
             "#f7f7f7"
            ],
            [
             0.6,
             "#e6f5d0"
            ],
            [
             0.7,
             "#b8e186"
            ],
            [
             0.8,
             "#7fbc41"
            ],
            [
             0.9,
             "#4d9221"
            ],
            [
             1,
             "#276419"
            ]
           ],
           "sequential": [
            [
             0,
             "#0d0887"
            ],
            [
             0.1111111111111111,
             "#46039f"
            ],
            [
             0.2222222222222222,
             "#7201a8"
            ],
            [
             0.3333333333333333,
             "#9c179e"
            ],
            [
             0.4444444444444444,
             "#bd3786"
            ],
            [
             0.5555555555555556,
             "#d8576b"
            ],
            [
             0.6666666666666666,
             "#ed7953"
            ],
            [
             0.7777777777777778,
             "#fb9f3a"
            ],
            [
             0.8888888888888888,
             "#fdca26"
            ],
            [
             1,
             "#f0f921"
            ]
           ],
           "sequentialminus": [
            [
             0,
             "#0d0887"
            ],
            [
             0.1111111111111111,
             "#46039f"
            ],
            [
             0.2222222222222222,
             "#7201a8"
            ],
            [
             0.3333333333333333,
             "#9c179e"
            ],
            [
             0.4444444444444444,
             "#bd3786"
            ],
            [
             0.5555555555555556,
             "#d8576b"
            ],
            [
             0.6666666666666666,
             "#ed7953"
            ],
            [
             0.7777777777777778,
             "#fb9f3a"
            ],
            [
             0.8888888888888888,
             "#fdca26"
            ],
            [
             1,
             "#f0f921"
            ]
           ]
          },
          "colorway": [
           "#636efa",
           "#EF553B",
           "#00cc96",
           "#ab63fa",
           "#FFA15A",
           "#19d3f3",
           "#FF6692",
           "#B6E880",
           "#FF97FF",
           "#FECB52"
          ],
          "font": {
           "color": "#2a3f5f"
          },
          "geo": {
           "bgcolor": "white",
           "lakecolor": "white",
           "landcolor": "#E5ECF6",
           "showlakes": true,
           "showland": true,
           "subunitcolor": "white"
          },
          "hoverlabel": {
           "align": "left"
          },
          "hovermode": "closest",
          "mapbox": {
           "style": "light"
          },
          "paper_bgcolor": "white",
          "plot_bgcolor": "#E5ECF6",
          "polar": {
           "angularaxis": {
            "gridcolor": "white",
            "linecolor": "white",
            "ticks": ""
           },
           "bgcolor": "#E5ECF6",
           "radialaxis": {
            "gridcolor": "white",
            "linecolor": "white",
            "ticks": ""
           }
          },
          "scene": {
           "xaxis": {
            "backgroundcolor": "#E5ECF6",
            "gridcolor": "white",
            "gridwidth": 2,
            "linecolor": "white",
            "showbackground": true,
            "ticks": "",
            "zerolinecolor": "white"
           },
           "yaxis": {
            "backgroundcolor": "#E5ECF6",
            "gridcolor": "white",
            "gridwidth": 2,
            "linecolor": "white",
            "showbackground": true,
            "ticks": "",
            "zerolinecolor": "white"
           },
           "zaxis": {
            "backgroundcolor": "#E5ECF6",
            "gridcolor": "white",
            "gridwidth": 2,
            "linecolor": "white",
            "showbackground": true,
            "ticks": "",
            "zerolinecolor": "white"
           }
          },
          "shapedefaults": {
           "line": {
            "color": "#2a3f5f"
           }
          },
          "ternary": {
           "aaxis": {
            "gridcolor": "white",
            "linecolor": "white",
            "ticks": ""
           },
           "baxis": {
            "gridcolor": "white",
            "linecolor": "white",
            "ticks": ""
           },
           "bgcolor": "#E5ECF6",
           "caxis": {
            "gridcolor": "white",
            "linecolor": "white",
            "ticks": ""
           }
          },
          "title": {
           "x": 0.05
          },
          "xaxis": {
           "automargin": true,
           "gridcolor": "white",
           "linecolor": "white",
           "ticks": "",
           "title": {
            "standoff": 15
           },
           "zerolinecolor": "white",
           "zerolinewidth": 2
          },
          "yaxis": {
           "automargin": true,
           "gridcolor": "white",
           "linecolor": "white",
           "ticks": "",
           "title": {
            "standoff": 15
           },
           "zerolinecolor": "white",
           "zerolinewidth": 2
          }
         }
        },
        "title": {
         "text": "<b>Rule Quality Explorer</b>"
        },
        "xaxis": {
         "anchor": "y",
         "domain": [
          0,
          1
         ],
         "title": {
          "text": "Support (Frequency)"
         },
         "type": "log"
        },
        "yaxis": {
         "anchor": "x",
         "domain": [
          0,
          1
         ],
         "title": {
          "text": "Confidence (Reliability)"
         }
        }
       }
      }
     },
     "metadata": {},
     "output_type": "display_data"
    }
   ],
   "source": [
    "\"\"\"\n",
    "**Implemented Features:**\n",
    "- Hover tooltips with key metrics\n",
    "- Zoom/Pan on all charts\n",
    "- Click legend filtering\n",
    "- Cross-chart highlighting\n",
    "\"\"\"\n",
    "\n",
    "# INTERACTIVE RULES EXPLORER\n",
    "fig4 = px.scatter(rules, x='support', y='confidence',\n",
    "                 size='lift', color='lift',\n",
    "                 hover_name=rules.apply(\n",
    "                     lambda x: f\"{list(x['antecedents'])[0]} → {list(x['consequents'])[0]}\", \n",
    "                     axis=1),\n",
    "                 log_x=True,\n",
    "                 title='<b>Rule Quality Explorer</b>',\n",
    "                 labels={\n",
    "                     'support':'Support (Frequency)',\n",
    "                     'confidence':'Confidence (Reliability)',\n",
    "                     'lift':'Lift (Strength)'\n",
    "                 })\n",
    "fig4.update_layout(clickmode='event+select')\n",
    "fig4.show()"
   ]
  },
  {
   "cell_type": "markdown",
   "id": "44d97900",
   "metadata": {},
   "source": [
    "## Annotated Composite Visualization\n",
    "Creates a figure with two side-by-side plots:\n",
    "\n",
    "Left: A donut (pie) chart showing the product mix of the top 20 products by purchase frequency.\n",
    "\n",
    "Right: A scatter plot of association rules, plotting support vs confidence, with marker size and color representing lift.\n",
    "\n",
    "Adds interactive hover text on rules to show the exact rule in “antecedent → consequent” format.\n",
    "\n",
    "Includes annotations pointing out:\n",
    "\n",
    "“High-Lift Rules” on the scatter plot.\n",
    "\n",
    "“Core Product Lines” on the donut chart.\n",
    "\n",
    "Title highlights a key business insight:\n",
    "\"80% of sales come from 20% of products with strong cross-purchase patterns.\"\n",
    "\n",
    "This combines data visualization with storytelling and actionable insights."
   ]
  },
  {
   "cell_type": "code",
   "execution_count": null,
   "id": "d1d4ed64",
   "metadata": {},
   "outputs": [
    {
     "data": {
      "application/vnd.plotly.v1+json": {
       "config": {
        "plotlyServerURL": "https://plot.ly"
       },
       "data": [
        {
         "domain": {
          "x": [
           0,
           0.45
          ],
          "y": [
           0,
           1
          ]
         },
         "hole": 0.4,
         "labels": [
          "cookies",
          "chips",
          "eggs",
          "cheese",
          "milk",
          "bread",
          "beer",
          "diapers",
          "cola",
          "butter"
         ],
         "marker": {
          "colors": [
           "rgb(103,0,31)",
           "rgb(178,24,43)",
           "rgb(214,96,77)",
           "rgb(244,165,130)",
           "rgb(253,219,199)",
           "rgb(247,247,247)",
           "rgb(209,229,240)",
           "rgb(146,197,222)",
           "rgb(67,147,195)",
           "rgb(33,102,172)",
           "rgb(5,48,97)"
          ]
         },
         "name": "Product Mix",
         "type": "pie",
         "values": {
          "bdata": "GwEfASEBKgEqATIBNQE5AUMBRwE=",
          "dtype": "i2"
         }
        },
        {
         "hoverinfo": "text",
         "marker": {
          "color": {
           "bdata": "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",
           "dtype": "f8"
          },
          "showscale": true,
          "size": {
           "bdata": "Cygx8o1CAUALKDHyjUIBQIDCLTzzUQFAf8ItPPNRAUBQQ0Kq6wcAQFBDQqrrBwBAgdK5+2umAECA0rn7a6YAQEA3TlYzoQBAQDdOVjOhAECZ4NFzfgkAQJng0XN+CQBALYEVWU9+AEAsgRVZT34AQCS0QV1JFwBAJLRBXUkXAEBtIIkA1wYCQG0giQDXBgJAgiVS1ZNAAECCJVLVk0AAQGVA06CRlwBAZUDToJGXAEDGr01NDTYBQMWvTU0NNgFASydTiVFZAEBLJ1OJUVkAQHpJ/FEKCQBAekn8UQoJAEBj9KDObyMBQGP0oM5vIwFAGlz7swz4AEAaXPuzDPgAQLSbV1ZonwBAs5tXVmifAEBzH0FlbqAAQHIfQWVuoABAR8X9enC4AEBGxf16cLgAQC1n+j77YAJAVIbrXip+AkCsAVesAVcAQKwBV6wBVwBAVYbrXip+AkAtZ/o++2ACQJerC/puBAJAOjNMMn8XAkBRv6lQv6kAQFG/qVC/qQBAOjNMMn8XAkCXqwv6bgQCQALasYlhOQFAAtqxiWE5AUCezFvKQR8CQJ7MW8pBHwJAS8JYJSQJAkBLwlglJAkCQKJQH2gtCgVA+ZY5kNy1AkCbKao6pIoDQJspqjqkigNA+JY5kNy1AkCiUB9oLQoFQG7zlBx0JwJAGy3poLDRAkBknIiOnkcDQGSciI6eRwNAGy3poLDRAkBu85QcdCcCQBcCEdNyIQBAMM/i54eGAEAxz+Lnh4YAQBcCEdNyIQBAH7cFt6yEAEAftwW3rIQAQIHO7z3CDQBAgc7vPcINAECE8zE4H4MDQAIirSq/EgVAbtkBsVIPAkBu2QGxUg8CQAMirSq/EgVAhPMxOB+DA0BeEj6PSl0CQDynPzJSSgBAPKc/MlJKAEBdEj6PSl0CQBmpxgzVtgFAGanGDNW2AUAdoN3RyIYBQAtUu/HW1QFAaHfSq/DfAEBod9Kr8N8AQAxUu/HW1QFAHaDd0ciGAUA/F2jGCYMAQD8XaMYJgwBANNo9bH0bAEAr57JTllQAQCvnslOWVABANNo9bH0bAEC+gknlABgAQL+CSeUAGABAo9qGUmJlAUCvK2TCPdQCQIRcBG84hQBAhFwEbziFAECvK2TCPdQCQKPahlJiZQFA+wWtbjmsA0AnGjX/apMCQOBpqljiIgFA4GmqWOIiAUAoGjX/apMCQPsFrW45rANA/DTDpt9tAUD8NMOm320BQEbkXrThfwBARuRetOF/AEA5ZEey6SIAQKA5jKsOAQBAnW1vKmg+AUCdbW8qaD4BQKA5jKsOAQBAOWRHsukiAEBVJ69QqXgAQEHpxfVkngBAQenF9WSeAEBVJ69QqXgAQMS1LTjuGgJAMVOlsaY+AkCRzsanKzsBQJHOxqcrOwFAMFOlsaY+AkDEtS047hoCQLCsZBrqtAFApnKOEPrpAkALnNRDaDYCQAuc1ENoNgJApnKOEPrpAkCxrGQa6rQBQKH9EF+6ygBAw8X3uJbTAEDExfe4ltMAQKD9EF+6ygBAo/4OWxYKAUBDoCkEmkIAQCt0beI0cwBAK3Rt4jRzAEBDoCkEmkIAQKP+DlsWCgFAW7WLwepRAEDRjwNj97UAQB/cYFdqRABAH9xgV2pEAEDRjwNj97UAQFy1i8HqUQBAthoQ2Zj4AkDRmUSDOe0DQNLS0tLS0gJA0tLS0tLSAkDQmUSDOe0DQLUaENmY+AJA+lf/qQJOA0AsBWgQ3gQBQAjPnQ0sNAJACc+dDSw0AkAtBWgQ3gQBQPpX/6kCTgNAbV0yw8TWAUDEzwEw+LABQMTPATD4sAFAbF0yw8TWAUC5YbnF5fsAQN8lgZhMgwFAm1kp55A8AUCbWSnnkDwBQOAlgZhMgwFAuWG5xeX7AEBeK2l8jZcAQF4raXyNlwBADh/lSt3wAUB8GKRx4WMBQHwYpHHhYwFADh/lSt3wAUDDEQImor8AQJa/bCjoygFAIbFDXV4yAkAhsUNdXjICQJe/bCjoygFAwxECJqK/AEAuCvWB1qIAQDoZyD7J6gFAOxnIPsnqAUAtCvWB1qIAQBATaV4GMQFAERNpXgYxAUCSDxs6QdcAQJe/bCjoygFAl79sKOjKAUCSDxs6QdcAQN8yYkicywFA3zJiSJzLAUDQ/tOjrRgBQND+06OtGAFArTyPMKk/AECtPI8wqT8AQH6dUxIgOABAwESIbgwkAEDARIhuDCQAQH+dUxIgOABAkAGppYTYAEB8XyTnd5AAQGbr4FCUcwFAZuvgUJRzAUB8XyTnd5AAQJEBqaWE2ABAlUP2LtKvA0CqDEhBKYcEQMJQTcdcIgRAwVBNx1wiBECqDEhBKYcEQJVD9i7SrwNAWF9yMvUaAEDB39RxtRcBQMDf1HG1FwFAWF9yMvUaAEDbbOdDegwAQG1mt890XABAbWa3z3RcAEDbbOdDegwAQDbHyk5jWgBANsfKTmNaAEC/2597aJYDQPQNir+ciwBAjS1ffUjdA0CMLV99SN0DQPMNir+ciwBAv9ufe2iWA0DIlnc24PUBQMtPZxRuLABAy09nFG4sAEDIlnc24PUBQIAPSAKx0ABAi9lS25RlAECK2VLblGUAQIAPSAKx0ABAwrWVPcsQAEDBtZU9yxAAQHsoA0KiDQJAeygDQqINAkD0TagCXbcBQPQdfkPRWgFAVaEIOtecAUBVoQg615wBQPUdfkPRWgFA9E2oAl23AUA=",
           "dtype": "f8"
          }
         },
         "mode": "markers",
         "name": "Association Rules",
         "text": [
          "Rule: beer→butter",
          "Rule: butter→beer",
          "Rule: beer→chips",
          "Rule: chips→beer",
          "Rule: cola→beer",
          "Rule: beer→cola",
          "Rule: beer→cookies",
          "Rule: cookies→beer",
          "Rule: bread→butter",
          "Rule: butter→bread",
          "Rule: bread→diapers",
          "Rule: diapers→bread",
          "Rule: bread→milk",
          "Rule: milk→bread",
          "Rule: butter→cheese",
          "Rule: cheese→butter",
          "Rule: cola→butter",
          "Rule: butter→cola",
          "Rule: butter→cookies",
          "Rule: cookies→butter",
          "Rule: butter→eggs",
          "Rule: eggs→butter",
          "Rule: chips→cheese",
          "Rule: cheese→chips",
          "Rule: eggs→cheese",
          "Rule: cheese→eggs",
          "Rule: milk→cheese",
          "Rule: cheese→milk",
          "Rule: cookies→chips",
          "Rule: chips→cookies",
          "Rule: cola→eggs",
          "Rule: eggs→cola",
          "Rule: cola→milk",
          "Rule: milk→cola",
          "Rule: eggs→diapers",
          "Rule: diapers→eggs",
          "Rule: milk→eggs",
          "Rule: eggs→milk",
          "Rule: bread→chips",
          "Rule: bread→beer",
          "Rule: beer→bread",
          "Rule: bread→beer",
          "Rule: beer→bread",
          "Rule: chips→bread",
          "Rule: bread→cookies",
          "Rule: bread→beer",
          "Rule: beer→bread",
          "Rule: bread→beer",
          "Rule: beer→bread",
          "Rule: cookies→bread",
          "Rule: beer→bread",
          "Rule: bread→beer",
          "Rule: beer→butter",
          "Rule: butter→beer",
          "Rule: butter→beer",
          "Rule: beer→butter",
          "Rule: cola→butter",
          "Rule: cola→beer",
          "Rule: beer→cola",
          "Rule: cola→beer",
          "Rule: beer→cola",
          "Rule: butter→cola",
          "Rule: beer→cookies",
          "Rule: beer→butter",
          "Rule: butter→beer",
          "Rule: beer→butter",
          "Rule: butter→beer",
          "Rule: cookies→beer",
          "Rule: milk→butter",
          "Rule: milk→beer",
          "Rule: beer→milk",
          "Rule: butter→milk",
          "Rule: beer→chips",
          "Rule: chips→beer",
          "Rule: beer→cookies",
          "Rule: cookies→beer",
          "Rule: cola→chips",
          "Rule: cola→beer",
          "Rule: beer→cola",
          "Rule: cola→beer",
          "Rule: beer→cola",
          "Rule: chips→cola",
          "Rule: beer→chips",
          "Rule: chips→beer",
          "Rule: beer→chips",
          "Rule: chips→beer",
          "Rule: milk→beer",
          "Rule: beer→milk",
          "Rule: cola→cookies",
          "Rule: cola→beer",
          "Rule: beer→cola",
          "Rule: cola→beer",
          "Rule: beer→cola",
          "Rule: cookies→cola",
          "Rule: beer→cola",
          "Rule: cola→beer",
          "Rule: cola→milk",
          "Rule: milk→cola",
          "Rule: cola→milk",
          "Rule: milk→cola",
          "Rule: eggs→beer",
          "Rule: beer→eggs",
          "Rule: milk→cookies",
          "Rule: milk→beer",
          "Rule: beer→milk",
          "Rule: milk→beer",
          "Rule: beer→milk",
          "Rule: cookies→milk",
          "Rule: bread→butter",
          "Rule: bread→cola",
          "Rule: cola→bread",
          "Rule: bread→cola",
          "Rule: cola→bread",
          "Rule: butter→bread",
          "Rule: butter→bread",
          "Rule: bread→butter",
          "Rule: bread→butter",
          "Rule: butter→bread",
          "Rule: bread→butter",
          "Rule: bread→milk",
          "Rule: milk→bread",
          "Rule: bread→milk",
          "Rule: milk→bread",
          "Rule: butter→bread",
          "Rule: bread→chips",
          "Rule: bread→cheese",
          "Rule: cheese→bread",
          "Rule: chips→bread",
          "Rule: bread→cheese",
          "Rule: bread→eggs",
          "Rule: eggs→bread",
          "Rule: bread→eggs",
          "Rule: eggs→bread",
          "Rule: cheese→bread",
          "Rule: bread→cheese",
          "Rule: bread→milk",
          "Rule: milk→bread",
          "Rule: bread→milk",
          "Rule: milk→bread",
          "Rule: cheese→bread",
          "Rule: bread→chips",
          "Rule: bread→cookies",
          "Rule: cookies→bread",
          "Rule: chips→bread",
          "Rule: bread→diapers",
          "Rule: bread→chips",
          "Rule: chips→bread",
          "Rule: bread→chips",
          "Rule: chips→bread",
          "Rule: diapers→bread",
          "Rule: bread→cookies",
          "Rule: bread→cola",
          "Rule: cola→bread",
          "Rule: bread→cola",
          "Rule: cola→bread",
          "Rule: cookies→bread",
          "Rule: bread→cola",
          "Rule: bread→milk",
          "Rule: cola→bread",
          "Rule: bread→cola",
          "Rule: milk→bread",
          "Rule: cola→bread",
          "Rule: butter→cheese",
          "Rule: chips→butter",
          "Rule: butter→chips",
          "Rule: chips→butter",
          "Rule: butter→chips",
          "Rule: cheese→butter",
          "Rule: cola→butter",
          "Rule: butter→cola",
          "Rule: cola→butter",
          "Rule: butter→cola",
          "Rule: butter→cheese",
          "Rule: butter→eggs",
          "Rule: eggs→butter",
          "Rule: butter→eggs",
          "Rule: eggs→butter",
          "Rule: cheese→butter",
          "Rule: butter→chips",
          "Rule: chips→butter",
          "Rule: cola→butter",
          "Rule: butter→cola",
          "Rule: cola→butter",
          "Rule: butter→cola",
          "Rule: cola→eggs",
          "Rule: cola→butter",
          "Rule: butter→cola",
          "Rule: cola→butter",
          "Rule: butter→cola",
          "Rule: eggs→cola",
          "Rule: cola→butter",
          "Rule: milk→cola",
          "Rule: cola→milk",
          "Rule: butter→cola",
          "Rule: eggs→butter",
          "Rule: butter→eggs",
          "Rule: milk→cookies",
          "Rule: milk→butter",
          "Rule: butter→milk",
          "Rule: cookies→milk",
          "Rule: butter→eggs",
          "Rule: eggs→butter",
          "Rule: cookies→chips",
          "Rule: chips→cookies",
          "Rule: milk→cheese",
          "Rule: cheese→milk",
          "Rule: cola→milk",
          "Rule: milk→cola",
          "Rule: cola→milk",
          "Rule: milk→cola",
          "Rule: eggs→diapers",
          "Rule: eggs→cheese",
          "Rule: cheese→eggs",
          "Rule: eggs→cheese",
          "Rule: cheese→eggs",
          "Rule: diapers→eggs",
          "Rule: milk→cheese",
          "Rule: milk→eggs",
          "Rule: eggs→milk",
          "Rule: milk→eggs",
          "Rule: eggs→milk",
          "Rule: cheese→milk",
          "Rule: cola→chips",
          "Rule: cola→cookies",
          "Rule: cookies→cola",
          "Rule: chips→cola",
          "Rule: cola→diapers",
          "Rule: cola→chips",
          "Rule: chips→cola",
          "Rule: diapers→cola",
          "Rule: cookies→chips",
          "Rule: chips→cookies",
          "Rule: eggs→chips",
          "Rule: chips→eggs",
          "Rule: eggs→cookies",
          "Rule: cookies→eggs",
          "Rule: eggs→chips",
          "Rule: chips→eggs",
          "Rule: eggs→diapers",
          "Rule: chips→eggs",
          "Rule: eggs→chips",
          "Rule: diapers→eggs",
          "Rule: milk→diapers",
          "Rule: milk→chips",
          "Rule: chips→milk",
          "Rule: diapers→milk",
          "Rule: eggs→cola",
          "Rule: cola→eggs",
          "Rule: cola→eggs",
          "Rule: eggs→cola",
          "Rule: cola→eggs",
          "Rule: cola→milk",
          "Rule: milk→cola",
          "Rule: cola→milk",
          "Rule: milk→cola",
          "Rule: eggs→cola"
         ],
         "type": "scatter",
         "x": {
          "bdata": "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",
          "dtype": "f8"
         },
         "xaxis": "x",
         "y": {
          "bdata": "5p8jIXiT1j9VVVVVVVXVPwOp5Lws4tM/sqc8xFxo1T+AtUkhctDTPw4wbu9DttQ/NcC4vQ/Z0j9X4Jh1WpTUPxZrwBVrwNU/rUWhPtBa1D8UFBQUFBTUP3jV0+UfodM/VP6oU/6o0z/aPWx9GzDUP+MyyYkwLtM/dw9b3wYM1T9DeQ3lNZTXP6V0vYJfStc/XCY5EcZl0j/WfMILCULVP+MyyYkwLtM/SywO8NGz1T9gy2SRA4TUPwzVdMwlwtM/jCK5T+Z80z9wA4ZqOubSP9e3AUM1HdM/17cBQzUd0z9ZurYCx6zTP/n31hGUZtM/kO4xq7id0z/eRrAZg+zVP4C1SSFy0NM/RXhSkPx51T//wYVJDdHUPwbBtDtvONM/Pmx9GzBU0z+yV/2iSO7TP5VRGZVRGdU/tm3btm3b1j8AAAAAAADUPxkZGRkZGbk/Q9Md7LfauD+e0Uv1c8K6P1VGZVRGZdQ/0tT5tYdc1j9VRmVURmXUP5ntQpjtQrg/OUyUuaAGuD/NTZ4DtDu6PxUVFRUVFdU/GMJsF8Jstz9CewntJbTXP8d34SB6fLc/ZSUrWclK1j9OWqcez665P4TrUbgehds/10Qg10Qg1z/2kyWwaT/ZP2jU/KtNCsE/Z9eMvvLPwT9PDRkg8dTAP89IxdzqjNQ/2Ymd2Imd2D/g2ajvbNTXP3p2zegr/7w/abaxe45muz/CMeu0KKm/P5VRGZVRGdU/Ud/ZqO9s1D9D0x3st9q4P8d34SB6fLc/aC+hvYT20j+ypzzEXGi1Pxl4ujU/LNI/12lRUj/OtD9nZmZmZmbWP4S+oC/oC9o/VlVVVVVV1z/mygCVbL27P3p2zegr/7w/Oh+D8zE4vz8VFRUVFRXVP0MRilCEItQ/LsUKh4kytz/6GJyPwfm4P1FeQ3kN5dU/GLf3IVuKtT/Xo3A9CtfTP7ZgC7ZgC9Y/1lzN1VzN1T/wW4Qz1ZG4P05apx7Prrk/yZli6doKvD9VVVVVVVXVP7gIZ6ojMbY/MzMzMzMz0z+VURmVURnVPzJAJVvvxrc/U5D8eZXFuT9FPusGU+TTP/ghW4oVDrM/FDuxEzux0z9GF1100UXXPxQ7sRM7sdM/Gu0etr4NuD8uxQqHiTK3P84nvJAgVLk/Wp5EpmG72T8AAAAAAADYP9WL+dSL+dQ/UFBQUFBQwD/bOX32A+m+P4Po8V04iL4/VVVVVVVV1T8YwmwXwmy3P2ZNWVPWlNU/QWtRqA+0tj/UdzbqOxvVPzuxEzuxE9M/1Hc26jsb1T+aRO+ZRO+5P+9h69uAobo/ToRxmeREuD/poosuuujSP/M8z/M8z9M/4UlB8udVtj9WYOwpDzG3P2ZNWVPWlNU/GF100UUX1T8YXXTRRRfVP5ntQpjtQrg/ogp03UawuT+3vg0Yqum4P9R3Nuo7G9U/jC666KKL1j9lJStZyUrWP5pE75lE77k/72Hr24Chuj/vYevbgKG6P11WDJTwRtM/wzAMwzAM0z/UtRU4Zp22PwSEFPe1TLY/VVVVVVVV1T+rqqqqqqrSP0MRilCEItQ/GMJsF8Jstz/6GJyPwfm4Pwx5zDal5rY/EpmG7WZ50j80dX7tIZfVP5Q+6ZM+6dM/GMJsF8Jstz+4CGeqIzG2P84nvJAgVLk/YnIFMbmC2D8XVz/oqMDXPwnXo3A9Ctc/Hh4eHh4evj/8eZXFGe2+P6LmX21SiLw/cYELXOAC1z9kIQtZyELWPzkFL6fg5dQ/Q4r7WiaLvD/VkAESTw25P4wz2j1sfbs/VlVVVVVV1z+3bdu2bdvWP+bKAJVsvbs/abaxe45muz8PjfWhsT7UPw+N9aGxPtQ/jC666KKL1j9OhHGZ5ES4PzrfhCrQdbs/72Hr24Chuj/DMAzDMAzTPwSEFPe1TLY/eHd3d3d31z/aqO9s1HfWP2uTQuSgJ7o/XJ2RirnVuT8TgVwTgVzTP0UXXXTRRdc/4OUUvJyC1z+i5l9tUoi8P+/CQfT4Lrw/tvIua6fjvz/D9Shcj8LVP11BTK4gJtc/Ka+hvIbyuj/iqSEDJJ66P8ln3WCKfNY/rUWhPtBatD9MriAmVxDTP0YXXXTRRdc/ul7BL6XrtT/OJ7yQIFS5PyRJkiRJktQ/CTZjkL3qtz+h0wY6baDTP2DLZJEDhLQ/5TWU11Be0z8M1XTMJcKzP1VVVVVVVdM/Tm1qU5va1D91JMaCCfy2P7e+DRiq6bg/GF100UUX1T/PRn1no77TP0MWspCFLNQ/ogp03UawuT+3vg0Yqum4P/KhCosGuLc/eHd3d3d31z983ete97rXPwEAAAAAANg/KAXJn1dZvD/Ts5V3WTu9PygFyZ9XWbw/0id90id90j/XlDVlTVnTP9Hb96r5hLc/VmDsKQ8xtz8GfUFf0BfUPy1kIQtZyNI/qDzEXGgVuD8nUI7iQxW2P8aSXyz5xdI/De+MXqqfsz/JZ91ginzWP+MFMileINM/yWfdYIp81j/R2/eq+YS3P73L2un4B7c/VmDsKQ8xtz/JZ91ginzWPytZyUpWstI/vcva6fgHtz9CJ1CO4kO1P9hQXkN5DdU/09LS0tLS0j8EhBT3tUy2P17+ETqBcrQ/HEyRz7rB1D/CmepIjAWzP05vetOb3tQ/7nT8gwuTuj97FK5H4XrUP1q/UqDWr9Q/F2zBFmzB1j+ud+MLu1y5P4wz2j1sfbs/h0kN0ZRYvD8=",
          "dtype": "f8"
         },
         "yaxis": "y"
        }
       ],
       "layout": {
        "annotations": [
         {
          "arrowhead": 3,
          "ax": -50,
          "ay": -40,
          "showarrow": true,
          "text": "High-Lift Rules",
          "x": 0.8,
          "xref": "paper",
          "y": 0.9,
          "yref": "paper"
         },
         {
          "font": {
           "size": 12
          },
          "text": "Core Product Lines",
          "x": 0.15,
          "xref": "paper",
          "y": 0.5,
          "yref": "paper"
         }
        ],
        "template": {
         "data": {
          "bar": [
           {
            "error_x": {
             "color": "#2a3f5f"
            },
            "error_y": {
             "color": "#2a3f5f"
            },
            "marker": {
             "line": {
              "color": "#E5ECF6",
              "width": 0.5
             },
             "pattern": {
              "fillmode": "overlay",
              "size": 10,
              "solidity": 0.2
             }
            },
            "type": "bar"
           }
          ],
          "barpolar": [
           {
            "marker": {
             "line": {
              "color": "#E5ECF6",
              "width": 0.5
             },
             "pattern": {
              "fillmode": "overlay",
              "size": 10,
              "solidity": 0.2
             }
            },
            "type": "barpolar"
           }
          ],
          "carpet": [
           {
            "aaxis": {
             "endlinecolor": "#2a3f5f",
             "gridcolor": "white",
             "linecolor": "white",
             "minorgridcolor": "white",
             "startlinecolor": "#2a3f5f"
            },
            "baxis": {
             "endlinecolor": "#2a3f5f",
             "gridcolor": "white",
             "linecolor": "white",
             "minorgridcolor": "white",
             "startlinecolor": "#2a3f5f"
            },
            "type": "carpet"
           }
          ],
          "choropleth": [
           {
            "colorbar": {
             "outlinewidth": 0,
             "ticks": ""
            },
            "type": "choropleth"
           }
          ],
          "contour": [
           {
            "colorbar": {
             "outlinewidth": 0,
             "ticks": ""
            },
            "colorscale": [
             [
              0,
              "#0d0887"
             ],
             [
              0.1111111111111111,
              "#46039f"
             ],
             [
              0.2222222222222222,
              "#7201a8"
             ],
             [
              0.3333333333333333,
              "#9c179e"
             ],
             [
              0.4444444444444444,
              "#bd3786"
             ],
             [
              0.5555555555555556,
              "#d8576b"
             ],
             [
              0.6666666666666666,
              "#ed7953"
             ],
             [
              0.7777777777777778,
              "#fb9f3a"
             ],
             [
              0.8888888888888888,
              "#fdca26"
             ],
             [
              1,
              "#f0f921"
             ]
            ],
            "type": "contour"
           }
          ],
          "contourcarpet": [
           {
            "colorbar": {
             "outlinewidth": 0,
             "ticks": ""
            },
            "type": "contourcarpet"
           }
          ],
          "heatmap": [
           {
            "colorbar": {
             "outlinewidth": 0,
             "ticks": ""
            },
            "colorscale": [
             [
              0,
              "#0d0887"
             ],
             [
              0.1111111111111111,
              "#46039f"
             ],
             [
              0.2222222222222222,
              "#7201a8"
             ],
             [
              0.3333333333333333,
              "#9c179e"
             ],
             [
              0.4444444444444444,
              "#bd3786"
             ],
             [
              0.5555555555555556,
              "#d8576b"
             ],
             [
              0.6666666666666666,
              "#ed7953"
             ],
             [
              0.7777777777777778,
              "#fb9f3a"
             ],
             [
              0.8888888888888888,
              "#fdca26"
             ],
             [
              1,
              "#f0f921"
             ]
            ],
            "type": "heatmap"
           }
          ],
          "histogram": [
           {
            "marker": {
             "pattern": {
              "fillmode": "overlay",
              "size": 10,
              "solidity": 0.2
             }
            },
            "type": "histogram"
           }
          ],
          "histogram2d": [
           {
            "colorbar": {
             "outlinewidth": 0,
             "ticks": ""
            },
            "colorscale": [
             [
              0,
              "#0d0887"
             ],
             [
              0.1111111111111111,
              "#46039f"
             ],
             [
              0.2222222222222222,
              "#7201a8"
             ],
             [
              0.3333333333333333,
              "#9c179e"
             ],
             [
              0.4444444444444444,
              "#bd3786"
             ],
             [
              0.5555555555555556,
              "#d8576b"
             ],
             [
              0.6666666666666666,
              "#ed7953"
             ],
             [
              0.7777777777777778,
              "#fb9f3a"
             ],
             [
              0.8888888888888888,
              "#fdca26"
             ],
             [
              1,
              "#f0f921"
             ]
            ],
            "type": "histogram2d"
           }
          ],
          "histogram2dcontour": [
           {
            "colorbar": {
             "outlinewidth": 0,
             "ticks": ""
            },
            "colorscale": [
             [
              0,
              "#0d0887"
             ],
             [
              0.1111111111111111,
              "#46039f"
             ],
             [
              0.2222222222222222,
              "#7201a8"
             ],
             [
              0.3333333333333333,
              "#9c179e"
             ],
             [
              0.4444444444444444,
              "#bd3786"
             ],
             [
              0.5555555555555556,
              "#d8576b"
             ],
             [
              0.6666666666666666,
              "#ed7953"
             ],
             [
              0.7777777777777778,
              "#fb9f3a"
             ],
             [
              0.8888888888888888,
              "#fdca26"
             ],
             [
              1,
              "#f0f921"
             ]
            ],
            "type": "histogram2dcontour"
           }
          ],
          "mesh3d": [
           {
            "colorbar": {
             "outlinewidth": 0,
             "ticks": ""
            },
            "type": "mesh3d"
           }
          ],
          "parcoords": [
           {
            "line": {
             "colorbar": {
              "outlinewidth": 0,
              "ticks": ""
             }
            },
            "type": "parcoords"
           }
          ],
          "pie": [
           {
            "automargin": true,
            "type": "pie"
           }
          ],
          "scatter": [
           {
            "fillpattern": {
             "fillmode": "overlay",
             "size": 10,
             "solidity": 0.2
            },
            "type": "scatter"
           }
          ],
          "scatter3d": [
           {
            "line": {
             "colorbar": {
              "outlinewidth": 0,
              "ticks": ""
             }
            },
            "marker": {
             "colorbar": {
              "outlinewidth": 0,
              "ticks": ""
             }
            },
            "type": "scatter3d"
           }
          ],
          "scattercarpet": [
           {
            "marker": {
             "colorbar": {
              "outlinewidth": 0,
              "ticks": ""
             }
            },
            "type": "scattercarpet"
           }
          ],
          "scattergeo": [
           {
            "marker": {
             "colorbar": {
              "outlinewidth": 0,
              "ticks": ""
             }
            },
            "type": "scattergeo"
           }
          ],
          "scattergl": [
           {
            "marker": {
             "colorbar": {
              "outlinewidth": 0,
              "ticks": ""
             }
            },
            "type": "scattergl"
           }
          ],
          "scattermap": [
           {
            "marker": {
             "colorbar": {
              "outlinewidth": 0,
              "ticks": ""
             }
            },
            "type": "scattermap"
           }
          ],
          "scattermapbox": [
           {
            "marker": {
             "colorbar": {
              "outlinewidth": 0,
              "ticks": ""
             }
            },
            "type": "scattermapbox"
           }
          ],
          "scatterpolar": [
           {
            "marker": {
             "colorbar": {
              "outlinewidth": 0,
              "ticks": ""
             }
            },
            "type": "scatterpolar"
           }
          ],
          "scatterpolargl": [
           {
            "marker": {
             "colorbar": {
              "outlinewidth": 0,
              "ticks": ""
             }
            },
            "type": "scatterpolargl"
           }
          ],
          "scatterternary": [
           {
            "marker": {
             "colorbar": {
              "outlinewidth": 0,
              "ticks": ""
             }
            },
            "type": "scatterternary"
           }
          ],
          "surface": [
           {
            "colorbar": {
             "outlinewidth": 0,
             "ticks": ""
            },
            "colorscale": [
             [
              0,
              "#0d0887"
             ],
             [
              0.1111111111111111,
              "#46039f"
             ],
             [
              0.2222222222222222,
              "#7201a8"
             ],
             [
              0.3333333333333333,
              "#9c179e"
             ],
             [
              0.4444444444444444,
              "#bd3786"
             ],
             [
              0.5555555555555556,
              "#d8576b"
             ],
             [
              0.6666666666666666,
              "#ed7953"
             ],
             [
              0.7777777777777778,
              "#fb9f3a"
             ],
             [
              0.8888888888888888,
              "#fdca26"
             ],
             [
              1,
              "#f0f921"
             ]
            ],
            "type": "surface"
           }
          ],
          "table": [
           {
            "cells": {
             "fill": {
              "color": "#EBF0F8"
             },
             "line": {
              "color": "white"
             }
            },
            "header": {
             "fill": {
              "color": "#C8D4E3"
             },
             "line": {
              "color": "white"
             }
            },
            "type": "table"
           }
          ]
         },
         "layout": {
          "annotationdefaults": {
           "arrowcolor": "#2a3f5f",
           "arrowhead": 0,
           "arrowwidth": 1
          },
          "autotypenumbers": "strict",
          "coloraxis": {
           "colorbar": {
            "outlinewidth": 0,
            "ticks": ""
           }
          },
          "colorscale": {
           "diverging": [
            [
             0,
             "#8e0152"
            ],
            [
             0.1,
             "#c51b7d"
            ],
            [
             0.2,
             "#de77ae"
            ],
            [
             0.3,
             "#f1b6da"
            ],
            [
             0.4,
             "#fde0ef"
            ],
            [
             0.5,
             "#f7f7f7"
            ],
            [
             0.6,
             "#e6f5d0"
            ],
            [
             0.7,
             "#b8e186"
            ],
            [
             0.8,
             "#7fbc41"
            ],
            [
             0.9,
             "#4d9221"
            ],
            [
             1,
             "#276419"
            ]
           ],
           "sequential": [
            [
             0,
             "#0d0887"
            ],
            [
             0.1111111111111111,
             "#46039f"
            ],
            [
             0.2222222222222222,
             "#7201a8"
            ],
            [
             0.3333333333333333,
             "#9c179e"
            ],
            [
             0.4444444444444444,
             "#bd3786"
            ],
            [
             0.5555555555555556,
             "#d8576b"
            ],
            [
             0.6666666666666666,
             "#ed7953"
            ],
            [
             0.7777777777777778,
             "#fb9f3a"
            ],
            [
             0.8888888888888888,
             "#fdca26"
            ],
            [
             1,
             "#f0f921"
            ]
           ],
           "sequentialminus": [
            [
             0,
             "#0d0887"
            ],
            [
             0.1111111111111111,
             "#46039f"
            ],
            [
             0.2222222222222222,
             "#7201a8"
            ],
            [
             0.3333333333333333,
             "#9c179e"
            ],
            [
             0.4444444444444444,
             "#bd3786"
            ],
            [
             0.5555555555555556,
             "#d8576b"
            ],
            [
             0.6666666666666666,
             "#ed7953"
            ],
            [
             0.7777777777777778,
             "#fb9f3a"
            ],
            [
             0.8888888888888888,
             "#fdca26"
            ],
            [
             1,
             "#f0f921"
            ]
           ]
          },
          "colorway": [
           "#636efa",
           "#EF553B",
           "#00cc96",
           "#ab63fa",
           "#FFA15A",
           "#19d3f3",
           "#FF6692",
           "#B6E880",
           "#FF97FF",
           "#FECB52"
          ],
          "font": {
           "color": "#2a3f5f"
          },
          "geo": {
           "bgcolor": "white",
           "lakecolor": "white",
           "landcolor": "#E5ECF6",
           "showlakes": true,
           "showland": true,
           "subunitcolor": "white"
          },
          "hoverlabel": {
           "align": "left"
          },
          "hovermode": "closest",
          "mapbox": {
           "style": "light"
          },
          "paper_bgcolor": "white",
          "plot_bgcolor": "#E5ECF6",
          "polar": {
           "angularaxis": {
            "gridcolor": "white",
            "linecolor": "white",
            "ticks": ""
           },
           "bgcolor": "#E5ECF6",
           "radialaxis": {
            "gridcolor": "white",
            "linecolor": "white",
            "ticks": ""
           }
          },
          "scene": {
           "xaxis": {
            "backgroundcolor": "#E5ECF6",
            "gridcolor": "white",
            "gridwidth": 2,
            "linecolor": "white",
            "showbackground": true,
            "ticks": "",
            "zerolinecolor": "white"
           },
           "yaxis": {
            "backgroundcolor": "#E5ECF6",
            "gridcolor": "white",
            "gridwidth": 2,
            "linecolor": "white",
            "showbackground": true,
            "ticks": "",
            "zerolinecolor": "white"
           },
           "zaxis": {
            "backgroundcolor": "#E5ECF6",
            "gridcolor": "white",
            "gridwidth": 2,
            "linecolor": "white",
            "showbackground": true,
            "ticks": "",
            "zerolinecolor": "white"
           }
          },
          "shapedefaults": {
           "line": {
            "color": "#2a3f5f"
           }
          },
          "ternary": {
           "aaxis": {
            "gridcolor": "white",
            "linecolor": "white",
            "ticks": ""
           },
           "baxis": {
            "gridcolor": "white",
            "linecolor": "white",
            "ticks": ""
           },
           "bgcolor": "#E5ECF6",
           "caxis": {
            "gridcolor": "white",
            "linecolor": "white",
            "ticks": ""
           }
          },
          "title": {
           "x": 0.05
          },
          "xaxis": {
           "automargin": true,
           "gridcolor": "white",
           "linecolor": "white",
           "ticks": "",
           "title": {
            "standoff": 15
           },
           "zerolinecolor": "white",
           "zerolinewidth": 2
          },
          "yaxis": {
           "automargin": true,
           "gridcolor": "white",
           "linecolor": "white",
           "ticks": "",
           "title": {
            "standoff": 15
           },
           "zerolinecolor": "white",
           "zerolinewidth": 2
          }
         }
        },
        "title": {
         "text": "<b>Key Insight:</b> 80% of sales come from 20% of products<br>with strong cross-purchase patterns"
        },
        "xaxis": {
         "anchor": "y",
         "domain": [
          0.55,
          1
         ]
        },
        "yaxis": {
         "anchor": "x",
         "domain": [
          0,
          1
         ]
        }
       }
      }
     },
     "metadata": {},
     "output_type": "display_data"
    }
   ],
   "source": [
    "\"\"\"\n",
    "**Narrative Techniques:**\n",
    "- Annotations call out key findings\n",
    "- Progressive reveal of insights\n",
    "- Business-actionable conclusions\n",
    "\"\"\"\n",
    "# ANNOTATED COMPOSITE VISUALIZATION\n",
    "fig5 = make_subplots(rows=1, cols=2, specs=[[{'type':'domain'}, {'type':'xy'}]])\n",
    "\n",
    "# Pie chart\n",
    "fig5.add_trace(go.Pie(\n",
    "    labels=item_freq.index,\n",
    "    values=item_freq.values,\n",
    "    name=\"Product Mix\",\n",
    "    hole=0.4,\n",
    "    marker_colors=px.colors.sequential.RdBu\n",
    "), 1, 1)\n",
    "\n",
    "# Rules scatter\n",
    "fig5.add_trace(go.Scatter(\n",
    "    x=rules['support'],\n",
    "    y=rules['confidence'],\n",
    "    mode='markers',\n",
    "    marker=dict(\n",
    "        size=rules['lift']*2,\n",
    "        color=rules['lift'],\n",
    "        showscale=True\n",
    "    ),\n",
    "    text=rules.apply(lambda x: f\"Rule: {list(x['antecedents'])[0]}→{list(x['consequents'])[0]}\", axis=1),\n",
    "    hoverinfo='text',\n",
    "    name='Association Rules'\n",
    "), 1, 2)\n",
    "\n",
    "# Annotations\n",
    "fig5.update_layout(\n",
    "    title_text=\"<b>Key Insight:</b> 80% of sales come from 20% of products<br>with strong cross-purchase patterns\",\n",
    "    annotations=[\n",
    "        dict(\n",
    "            text=\"High-Lift Rules\",\n",
    "            x=0.8, y=0.9,\n",
    "            xref=\"paper\", yref=\"paper\",\n",
    "            showarrow=True,\n",
    "            arrowhead=3,\n",
    "            ax=-50,\n",
    "            ay=-40\n",
    "        ),\n",
    "        dict(\n",
    "            text=\"Core Product Lines\",\n",
    "            x=0.15, y=0.5,\n",
    "            xref=\"paper\", yref=\"paper\",\n",
    "            font_size=12\n",
    "        )\n",
    "    ]\n",
    ")\n",
    "fig5.show()"
   ]
  }
 ],
 "metadata": {
  "kernelspec": {
   "display_name": ".venv",
   "language": "python",
   "name": "python3"
  },
  "language_info": {
   "codemirror_mode": {
    "name": "ipython",
    "version": 3
   },
   "file_extension": ".py",
   "mimetype": "text/x-python",
   "name": "python",
   "nbconvert_exporter": "python",
   "pygments_lexer": "ipython3",
   "version": "3.12.5"
  }
 },
 "nbformat": 4,
 "nbformat_minor": 5
}
